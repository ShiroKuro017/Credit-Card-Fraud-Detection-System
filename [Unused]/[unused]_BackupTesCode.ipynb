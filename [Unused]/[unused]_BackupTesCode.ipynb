{
 "cells": [
  {
   "cell_type": "code",
   "execution_count": 1,
   "id": "1df4c9cc",
   "metadata": {},
   "outputs": [],
   "source": [
    "#pip install pandas numpy matplotlib seaborn plotly scikit-learn imbalanced-learn sklearn"
   ]
  },
  {
   "cell_type": "markdown",
   "id": "9c8df281",
   "metadata": {},
   "source": [
    "**System Deteksi Penipuan Kartu Kredit (Credit Card Fraud)**\n",
    "===\n",
    "---"
   ]
  },
  {
   "cell_type": "markdown",
   "id": "3d198150",
   "metadata": {},
   "source": [
    "System Deteksi Penipuan Kartu Kredit (Credit Card Fraud) dengan imbalance dataset\n"
   ]
  },
  {
   "cell_type": "code",
   "execution_count": 2,
   "id": "4c135a7c",
   "metadata": {},
   "outputs": [],
   "source": [
    "import pandas as pd\n",
    "import numpy as np\n",
    "import matplotlib.pyplot as plt\n",
    "import seaborn as sns\n",
    "from sklearn.model_selection import train_test_split, RepeatedStratifiedKFold, cross_val_score\n",
    "from sklearn.metrics import roc_auc_score, classification_report, confusion_matrix, RocCurveDisplay, f1_score, roc_curve\n",
    "from imblearn.over_sampling import SMOTE\n",
    "from imblearn.under_sampling import RandomUnderSampler\n",
    "from imblearn.pipeline import Pipeline\n",
    "from sklearn.linear_model import LogisticRegression\n",
    "from sklearn.svm import SVC\n",
    "from sklearn.tree import DecisionTreeClassifier\n",
    "from sklearn.ensemble import RandomForestClassifier\n",
    "from sklearn.neighbors import KNeighborsClassifier\n",
    "from sklearn.feature_selection import SelectKBest, f_classif\n",
    "from IPython.display import display\n",
    "\n",
    "%matplotlib inline\n",
    "pd.options.display.float_format = '{:.2f}'.format"
   ]
  },
  {
   "cell_type": "markdown",
   "id": "72d2bd08",
   "metadata": {},
   "source": [
    "## **Data Preparation**"
   ]
  },
  {
   "cell_type": "markdown",
   "id": "0a9f2761",
   "metadata": {},
   "source": [
    "### **Input Datasets**\n",
    "---\n"
   ]
  },
  {
   "cell_type": "markdown",
   "id": "ead3edfe",
   "metadata": {},
   "source": [
    " **Tentang Dataset**\n",
    "\n",
    " **Konteks**\n",
    "\n",
    "Penting bagi perusahaan kartu kredit untuk dapat mengenali transaksi kartu kredit yang mencurigakan agar pelanggan tidak dikenakan biaya untuk barang yang tidak mereka beli.\n",
    "\n",
    " **Content**\n",
    "\n",
    "Dataset ini berisi transaksi yang dilakukan dengan kartu kredit pada September 2013 oleh pemegang kartu kredit di Eropa.\n",
    "Dataset ini menampilkan transaksi yang terjadi dalam dua hari, di mana terdapat 492 transaksi Fraud(penipuan) dari total 284.807 transaksi. Dataset ini sangat tidak seimbang, kelas positif (transaksi Fraud(penipuan)) hanya menyumbang 0,172% dari total transaksi.\n",
    "\n",
    "Data ini hanya berisi variabel input numerik yang merupakan hasil transformasi PCA. Sayangnya, karena masalah kerahasiaan, kami tidak dapat menyediakan fitur asli dan informasi latar belakang lebih lanjut tentang data. Fitur V1, V2, … V28 adalah komponen utama yang diperoleh dengan PCA, fitur-fitur yang tidak ditransformasi dengan PCA adalah 'Time' dan 'Amount'. Fitur 'Time' berisi detik yang berlalu antara setiap transaksi dan transaksi pertama dalam dataset. Fitur 'Amount' adalah jumlah transaksi, fitur ini dapat digunakan untuk pembelajaran sensitif biaya yang bergantung pada contoh. Fitur 'Class' adalah variabel respons dan bernilai 1 jika terjadi Fraud(penipuan) dan 0 jika tidak.\n",
    "\n",
    "**link dataset :** https://www.kaggle.com/datasets/mlg-ulb/creditcardfraud\n",
    "\n"
   ]
  },
  {
   "cell_type": "code",
   "execution_count": 3,
   "id": "893879f2",
   "metadata": {},
   "outputs": [
    {
     "data": {
      "application/vnd.microsoft.datawrangler.viewer.v0+json": {
       "columns": [
        {
         "name": "index",
         "rawType": "int64",
         "type": "integer"
        },
        {
         "name": "Time",
         "rawType": "float64",
         "type": "float"
        },
        {
         "name": "V1",
         "rawType": "float64",
         "type": "float"
        },
        {
         "name": "V2",
         "rawType": "float64",
         "type": "float"
        },
        {
         "name": "V3",
         "rawType": "float64",
         "type": "float"
        },
        {
         "name": "V4",
         "rawType": "float64",
         "type": "float"
        },
        {
         "name": "V5",
         "rawType": "float64",
         "type": "float"
        },
        {
         "name": "V6",
         "rawType": "float64",
         "type": "float"
        },
        {
         "name": "V7",
         "rawType": "float64",
         "type": "float"
        },
        {
         "name": "V8",
         "rawType": "float64",
         "type": "float"
        },
        {
         "name": "V9",
         "rawType": "float64",
         "type": "float"
        },
        {
         "name": "V10",
         "rawType": "float64",
         "type": "float"
        },
        {
         "name": "V11",
         "rawType": "float64",
         "type": "float"
        },
        {
         "name": "V12",
         "rawType": "float64",
         "type": "float"
        },
        {
         "name": "V13",
         "rawType": "float64",
         "type": "float"
        },
        {
         "name": "V14",
         "rawType": "float64",
         "type": "float"
        },
        {
         "name": "V15",
         "rawType": "float64",
         "type": "float"
        },
        {
         "name": "V16",
         "rawType": "float64",
         "type": "float"
        },
        {
         "name": "V17",
         "rawType": "float64",
         "type": "float"
        },
        {
         "name": "V18",
         "rawType": "float64",
         "type": "float"
        },
        {
         "name": "V19",
         "rawType": "float64",
         "type": "float"
        },
        {
         "name": "V20",
         "rawType": "float64",
         "type": "float"
        },
        {
         "name": "V21",
         "rawType": "float64",
         "type": "float"
        },
        {
         "name": "V22",
         "rawType": "float64",
         "type": "float"
        },
        {
         "name": "V23",
         "rawType": "float64",
         "type": "float"
        },
        {
         "name": "V24",
         "rawType": "float64",
         "type": "float"
        },
        {
         "name": "V25",
         "rawType": "float64",
         "type": "float"
        },
        {
         "name": "V26",
         "rawType": "float64",
         "type": "float"
        },
        {
         "name": "V27",
         "rawType": "float64",
         "type": "float"
        },
        {
         "name": "V28",
         "rawType": "float64",
         "type": "float"
        },
        {
         "name": "Amount",
         "rawType": "float64",
         "type": "float"
        },
        {
         "name": "Class",
         "rawType": "int64",
         "type": "integer"
        }
       ],
       "ref": "97cd694d-cb83-414d-8deb-14cd7d4f8eb0",
       "rows": [
        [
         "0",
         "0.0",
         "-1.3598071336738",
         "-0.0727811733098497",
         "2.53634673796914",
         "1.37815522427443",
         "-0.338320769942518",
         "0.462387777762292",
         "0.239598554061257",
         "0.0986979012610507",
         "0.363786969611213",
         "0.0907941719789316",
         "-0.551599533260813",
         "-0.617800855762348",
         "-0.991389847235408",
         "-0.311169353699879",
         "1.46817697209427",
         "-0.470400525259478",
         "0.207971241929242",
         "0.0257905801985591",
         "0.403992960255733",
         "0.251412098239705",
         "-0.018306777944153",
         "0.277837575558899",
         "-0.110473910188767",
         "0.0669280749146731",
         "0.128539358273528",
         "-0.189114843888824",
         "0.133558376740387",
         "-0.0210530534538215",
         "149.62",
         "0"
        ],
        [
         "1",
         "0.0",
         "1.19185711131486",
         "0.26615071205963",
         "0.16648011335321",
         "0.448154078460911",
         "0.0600176492822243",
         "-0.0823608088155687",
         "-0.0788029833323113",
         "0.0851016549148104",
         "-0.255425128109186",
         "-0.166974414004614",
         "1.61272666105479",
         "1.06523531137287",
         "0.48909501589608",
         "-0.143772296441519",
         "0.635558093258208",
         "0.463917041022171",
         "-0.114804663102346",
         "-0.183361270123994",
         "-0.145783041325259",
         "-0.0690831352230203",
         "-0.225775248033138",
         "-0.638671952771851",
         "0.101288021253234",
         "-0.339846475529127",
         "0.167170404418143",
         "0.125894532368176",
         "-0.0089830991432281",
         "0.0147241691924927",
         "2.69",
         "0"
        ],
        [
         "2",
         "1.0",
         "-1.35835406159823",
         "-1.34016307473609",
         "1.77320934263119",
         "0.379779593034328",
         "-0.503198133318193",
         "1.80049938079263",
         "0.791460956450422",
         "0.247675786588991",
         "-1.51465432260583",
         "0.207642865216696",
         "0.624501459424895",
         "0.066083685268831",
         "0.717292731410831",
         "-0.165945922763554",
         "2.34586494901581",
         "-2.89008319444231",
         "1.10996937869599",
         "-0.121359313195888",
         "-2.26185709530414",
         "0.524979725224404",
         "0.247998153469754",
         "0.771679401917229",
         "0.909412262347719",
         "-0.689280956490685",
         "-0.327641833735251",
         "-0.139096571514147",
         "-0.0553527940384261",
         "-0.0597518405929204",
         "378.66",
         "0"
        ],
        [
         "3",
         "1.0",
         "-0.966271711572087",
         "-0.185226008082898",
         "1.79299333957872",
         "-0.863291275036453",
         "-0.0103088796030823",
         "1.24720316752486",
         "0.23760893977178",
         "0.377435874652262",
         "-1.38702406270197",
         "-0.0549519224713749",
         "-0.226487263835401",
         "0.178228225877303",
         "0.507756869957169",
         "-0.28792374549456",
         "-0.631418117709045",
         "-1.0596472454325",
         "-0.684092786345479",
         "1.96577500349538",
         "-1.2326219700892",
         "-0.208037781160366",
         "-0.108300452035545",
         "0.0052735967825345",
         "-0.190320518742841",
         "-1.17557533186321",
         "0.647376034602038",
         "-0.221928844458407",
         "0.0627228487293033",
         "0.0614576285006353",
         "123.5",
         "0"
        ],
        [
         "4",
         "2.0",
         "-1.15823309349523",
         "0.877736754848451",
         "1.548717846511",
         "0.403033933955121",
         "-0.407193377311653",
         "0.0959214624684256",
         "0.592940745385545",
         "-0.270532677192282",
         "0.817739308235294",
         "0.753074431976354",
         "-0.822842877946363",
         "0.53819555014995",
         "1.3458515932154",
         "-1.11966983471731",
         "0.175121130008994",
         "-0.451449182813529",
         "-0.237033239362776",
         "-0.0381947870352842",
         "0.803486924960175",
         "0.408542360392758",
         "-0.0094306971323291",
         "0.79827849458971",
         "-0.137458079619063",
         "0.141266983824769",
         "-0.206009587619756",
         "0.502292224181569",
         "0.219422229513348",
         "0.215153147499206",
         "69.99",
         "0"
        ]
       ],
       "shape": {
        "columns": 31,
        "rows": 5
       }
      },
      "text/html": [
       "<div>\n",
       "<style scoped>\n",
       "    .dataframe tbody tr th:only-of-type {\n",
       "        vertical-align: middle;\n",
       "    }\n",
       "\n",
       "    .dataframe tbody tr th {\n",
       "        vertical-align: top;\n",
       "    }\n",
       "\n",
       "    .dataframe thead th {\n",
       "        text-align: right;\n",
       "    }\n",
       "</style>\n",
       "<table border=\"1\" class=\"dataframe\">\n",
       "  <thead>\n",
       "    <tr style=\"text-align: right;\">\n",
       "      <th></th>\n",
       "      <th>Time</th>\n",
       "      <th>V1</th>\n",
       "      <th>V2</th>\n",
       "      <th>V3</th>\n",
       "      <th>V4</th>\n",
       "      <th>V5</th>\n",
       "      <th>V6</th>\n",
       "      <th>V7</th>\n",
       "      <th>V8</th>\n",
       "      <th>V9</th>\n",
       "      <th>...</th>\n",
       "      <th>V21</th>\n",
       "      <th>V22</th>\n",
       "      <th>V23</th>\n",
       "      <th>V24</th>\n",
       "      <th>V25</th>\n",
       "      <th>V26</th>\n",
       "      <th>V27</th>\n",
       "      <th>V28</th>\n",
       "      <th>Amount</th>\n",
       "      <th>Class</th>\n",
       "    </tr>\n",
       "  </thead>\n",
       "  <tbody>\n",
       "    <tr>\n",
       "      <th>0</th>\n",
       "      <td>0.00</td>\n",
       "      <td>-1.36</td>\n",
       "      <td>-0.07</td>\n",
       "      <td>2.54</td>\n",
       "      <td>1.38</td>\n",
       "      <td>-0.34</td>\n",
       "      <td>0.46</td>\n",
       "      <td>0.24</td>\n",
       "      <td>0.10</td>\n",
       "      <td>0.36</td>\n",
       "      <td>...</td>\n",
       "      <td>-0.02</td>\n",
       "      <td>0.28</td>\n",
       "      <td>-0.11</td>\n",
       "      <td>0.07</td>\n",
       "      <td>0.13</td>\n",
       "      <td>-0.19</td>\n",
       "      <td>0.13</td>\n",
       "      <td>-0.02</td>\n",
       "      <td>149.62</td>\n",
       "      <td>0</td>\n",
       "    </tr>\n",
       "    <tr>\n",
       "      <th>1</th>\n",
       "      <td>0.00</td>\n",
       "      <td>1.19</td>\n",
       "      <td>0.27</td>\n",
       "      <td>0.17</td>\n",
       "      <td>0.45</td>\n",
       "      <td>0.06</td>\n",
       "      <td>-0.08</td>\n",
       "      <td>-0.08</td>\n",
       "      <td>0.09</td>\n",
       "      <td>-0.26</td>\n",
       "      <td>...</td>\n",
       "      <td>-0.23</td>\n",
       "      <td>-0.64</td>\n",
       "      <td>0.10</td>\n",
       "      <td>-0.34</td>\n",
       "      <td>0.17</td>\n",
       "      <td>0.13</td>\n",
       "      <td>-0.01</td>\n",
       "      <td>0.01</td>\n",
       "      <td>2.69</td>\n",
       "      <td>0</td>\n",
       "    </tr>\n",
       "    <tr>\n",
       "      <th>2</th>\n",
       "      <td>1.00</td>\n",
       "      <td>-1.36</td>\n",
       "      <td>-1.34</td>\n",
       "      <td>1.77</td>\n",
       "      <td>0.38</td>\n",
       "      <td>-0.50</td>\n",
       "      <td>1.80</td>\n",
       "      <td>0.79</td>\n",
       "      <td>0.25</td>\n",
       "      <td>-1.51</td>\n",
       "      <td>...</td>\n",
       "      <td>0.25</td>\n",
       "      <td>0.77</td>\n",
       "      <td>0.91</td>\n",
       "      <td>-0.69</td>\n",
       "      <td>-0.33</td>\n",
       "      <td>-0.14</td>\n",
       "      <td>-0.06</td>\n",
       "      <td>-0.06</td>\n",
       "      <td>378.66</td>\n",
       "      <td>0</td>\n",
       "    </tr>\n",
       "    <tr>\n",
       "      <th>3</th>\n",
       "      <td>1.00</td>\n",
       "      <td>-0.97</td>\n",
       "      <td>-0.19</td>\n",
       "      <td>1.79</td>\n",
       "      <td>-0.86</td>\n",
       "      <td>-0.01</td>\n",
       "      <td>1.25</td>\n",
       "      <td>0.24</td>\n",
       "      <td>0.38</td>\n",
       "      <td>-1.39</td>\n",
       "      <td>...</td>\n",
       "      <td>-0.11</td>\n",
       "      <td>0.01</td>\n",
       "      <td>-0.19</td>\n",
       "      <td>-1.18</td>\n",
       "      <td>0.65</td>\n",
       "      <td>-0.22</td>\n",
       "      <td>0.06</td>\n",
       "      <td>0.06</td>\n",
       "      <td>123.50</td>\n",
       "      <td>0</td>\n",
       "    </tr>\n",
       "    <tr>\n",
       "      <th>4</th>\n",
       "      <td>2.00</td>\n",
       "      <td>-1.16</td>\n",
       "      <td>0.88</td>\n",
       "      <td>1.55</td>\n",
       "      <td>0.40</td>\n",
       "      <td>-0.41</td>\n",
       "      <td>0.10</td>\n",
       "      <td>0.59</td>\n",
       "      <td>-0.27</td>\n",
       "      <td>0.82</td>\n",
       "      <td>...</td>\n",
       "      <td>-0.01</td>\n",
       "      <td>0.80</td>\n",
       "      <td>-0.14</td>\n",
       "      <td>0.14</td>\n",
       "      <td>-0.21</td>\n",
       "      <td>0.50</td>\n",
       "      <td>0.22</td>\n",
       "      <td>0.22</td>\n",
       "      <td>69.99</td>\n",
       "      <td>0</td>\n",
       "    </tr>\n",
       "  </tbody>\n",
       "</table>\n",
       "<p>5 rows × 31 columns</p>\n",
       "</div>"
      ],
      "text/plain": [
       "   Time    V1    V2   V3    V4    V5    V6    V7    V8    V9  ...   V21   V22  \\\n",
       "0  0.00 -1.36 -0.07 2.54  1.38 -0.34  0.46  0.24  0.10  0.36  ... -0.02  0.28   \n",
       "1  0.00  1.19  0.27 0.17  0.45  0.06 -0.08 -0.08  0.09 -0.26  ... -0.23 -0.64   \n",
       "2  1.00 -1.36 -1.34 1.77  0.38 -0.50  1.80  0.79  0.25 -1.51  ...  0.25  0.77   \n",
       "3  1.00 -0.97 -0.19 1.79 -0.86 -0.01  1.25  0.24  0.38 -1.39  ... -0.11  0.01   \n",
       "4  2.00 -1.16  0.88 1.55  0.40 -0.41  0.10  0.59 -0.27  0.82  ... -0.01  0.80   \n",
       "\n",
       "    V23   V24   V25   V26   V27   V28  Amount  Class  \n",
       "0 -0.11  0.07  0.13 -0.19  0.13 -0.02  149.62      0  \n",
       "1  0.10 -0.34  0.17  0.13 -0.01  0.01    2.69      0  \n",
       "2  0.91 -0.69 -0.33 -0.14 -0.06 -0.06  378.66      0  \n",
       "3 -0.19 -1.18  0.65 -0.22  0.06  0.06  123.50      0  \n",
       "4 -0.14  0.14 -0.21  0.50  0.22  0.22   69.99      0  \n",
       "\n",
       "[5 rows x 31 columns]"
      ]
     },
     "execution_count": 3,
     "metadata": {},
     "output_type": "execute_result"
    }
   ],
   "source": [
    "raw_data = pd.read_csv('creditcard.csv')\n",
    "raw_data.head()"
   ]
  },
  {
   "cell_type": "markdown",
   "id": "bbf92a73",
   "metadata": {},
   "source": [
    "### **Metadata dataset**\n"
   ]
  },
  {
   "cell_type": "markdown",
   "id": "41441929",
   "metadata": {},
   "source": [
    "memastikan tidak ada data yang memiliki value null "
   ]
  },
  {
   "cell_type": "code",
   "execution_count": 4,
   "id": "0f3c5214",
   "metadata": {},
   "outputs": [
    {
     "name": "stdout",
     "output_type": "stream",
     "text": [
      "<class 'pandas.core.frame.DataFrame'>\n",
      "RangeIndex: 284807 entries, 0 to 284806\n",
      "Data columns (total 31 columns):\n",
      " #   Column  Non-Null Count   Dtype  \n",
      "---  ------  --------------   -----  \n",
      " 0   Time    284807 non-null  float64\n",
      " 1   V1      284807 non-null  float64\n",
      " 2   V2      284807 non-null  float64\n",
      " 3   V3      284807 non-null  float64\n",
      " 4   V4      284807 non-null  float64\n",
      " 5   V5      284807 non-null  float64\n",
      " 6   V6      284807 non-null  float64\n",
      " 7   V7      284807 non-null  float64\n",
      " 8   V8      284807 non-null  float64\n",
      " 9   V9      284807 non-null  float64\n",
      " 10  V10     284807 non-null  float64\n",
      " 11  V11     284807 non-null  float64\n",
      " 12  V12     284807 non-null  float64\n",
      " 13  V13     284807 non-null  float64\n",
      " 14  V14     284807 non-null  float64\n",
      " 15  V15     284807 non-null  float64\n",
      " 16  V16     284807 non-null  float64\n",
      " 17  V17     284807 non-null  float64\n",
      " 18  V18     284807 non-null  float64\n",
      " 19  V19     284807 non-null  float64\n",
      " 20  V20     284807 non-null  float64\n",
      " 21  V21     284807 non-null  float64\n",
      " 22  V22     284807 non-null  float64\n",
      " 23  V23     284807 non-null  float64\n",
      " 24  V24     284807 non-null  float64\n",
      " 25  V25     284807 non-null  float64\n",
      " 26  V26     284807 non-null  float64\n",
      " 27  V27     284807 non-null  float64\n",
      " 28  V28     284807 non-null  float64\n",
      " 29  Amount  284807 non-null  float64\n",
      " 30  Class   284807 non-null  int64  \n",
      "dtypes: float64(30), int64(1)\n",
      "memory usage: 67.4 MB\n"
     ]
    }
   ],
   "source": [
    "raw_data.info()"
   ]
  },
  {
   "cell_type": "code",
   "execution_count": 5,
   "id": "66514c87",
   "metadata": {},
   "outputs": [
    {
     "data": {
      "text/plain": [
       "np.int64(0)"
      ]
     },
     "execution_count": 5,
     "metadata": {},
     "output_type": "execute_result"
    },
    {
     "data": {
      "image/png": "[encoded data removed]",
      "text/plain": [
       "<Figure size 640x480 with 1 Axes>"
      ]
     },
     "metadata": {},
     "output_type": "display_data"
    }
   ],
   "source": [
    "sns.heatmap(raw_data.isnull(),cmap = 'magma',cbar = False)\n",
    "\n",
    "raw_data.isnull().max().sum()"
   ]
  },
  {
   "cell_type": "markdown",
   "id": "961976d8",
   "metadata": {},
   "source": [
    "menurut hasil pengecekan `isnull` dapat dipastikan tidak ada data yang memiliki value null\n",
    "\n",
    "pengecekan `isnull` bisa dilakukan dengan 2 cara yaitu dengan heatmap atau langsung memerikasa menggunakan dataframe"
   ]
  },
  {
   "cell_type": "code",
   "execution_count": 6,
   "id": "6812767f",
   "metadata": {},
   "outputs": [
    {
     "data": {
      "application/vnd.microsoft.datawrangler.viewer.v0+json": {
       "columns": [
        {
         "name": "index",
         "rawType": "object",
         "type": "string"
        },
        {
         "name": "Time",
         "rawType": "float64",
         "type": "float"
        },
        {
         "name": "V1",
         "rawType": "float64",
         "type": "float"
        },
        {
         "name": "V2",
         "rawType": "float64",
         "type": "float"
        },
        {
         "name": "V3",
         "rawType": "float64",
         "type": "float"
        },
        {
         "name": "V4",
         "rawType": "float64",
         "type": "float"
        },
        {
         "name": "V5",
         "rawType": "float64",
         "type": "float"
        },
        {
         "name": "V6",
         "rawType": "float64",
         "type": "float"
        },
        {
         "name": "V7",
         "rawType": "float64",
         "type": "float"
        },
        {
         "name": "V8",
         "rawType": "float64",
         "type": "float"
        },
        {
         "name": "V9",
         "rawType": "float64",
         "type": "float"
        },
        {
         "name": "V10",
         "rawType": "float64",
         "type": "float"
        },
        {
         "name": "V11",
         "rawType": "float64",
         "type": "float"
        },
        {
         "name": "V12",
         "rawType": "float64",
         "type": "float"
        },
        {
         "name": "V13",
         "rawType": "float64",
         "type": "float"
        },
        {
         "name": "V14",
         "rawType": "float64",
         "type": "float"
        },
        {
         "name": "V15",
         "rawType": "float64",
         "type": "float"
        },
        {
         "name": "V16",
         "rawType": "float64",
         "type": "float"
        },
        {
         "name": "V17",
         "rawType": "float64",
         "type": "float"
        },
        {
         "name": "V18",
         "rawType": "float64",
         "type": "float"
        },
        {
         "name": "V19",
         "rawType": "float64",
         "type": "float"
        },
        {
         "name": "V20",
         "rawType": "float64",
         "type": "float"
        },
        {
         "name": "V21",
         "rawType": "float64",
         "type": "float"
        },
        {
         "name": "V22",
         "rawType": "float64",
         "type": "float"
        },
        {
         "name": "V23",
         "rawType": "float64",
         "type": "float"
        },
        {
         "name": "V24",
         "rawType": "float64",
         "type": "float"
        },
        {
         "name": "V25",
         "rawType": "float64",
         "type": "float"
        },
        {
         "name": "V26",
         "rawType": "float64",
         "type": "float"
        },
        {
         "name": "V27",
         "rawType": "float64",
         "type": "float"
        },
        {
         "name": "V28",
         "rawType": "float64",
         "type": "float"
        },
        {
         "name": "Amount",
         "rawType": "float64",
         "type": "float"
        },
        {
         "name": "Class",
         "rawType": "float64",
         "type": "float"
        }
       ],
       "ref": "b269affd-2ec3-4735-8a22-8558e0b0a848",
       "rows": [
        [
         "count",
         "284807.0",
         "284807.0",
         "284807.0",
         "284807.0",
         "284807.0",
         "284807.0",
         "284807.0",
         "284807.0",
         "284807.0",
         "284807.0",
         "284807.0",
         "284807.0",
         "284807.0",
         "284807.0",
         "284807.0",
         "284807.0",
         "284807.0",
         "284807.0",
         "284807.0",
         "284807.0",
         "284807.0",
         "284807.0",
         "284807.0",
         "284807.0",
         "284807.0",
         "284807.0",
         "284807.0",
         "284807.0",
         "284807.0",
         "284807.0",
         "284807.0"
        ],
        [
         "mean",
         "94813.85957508067",
         "1.1683749838001528e-15",
         "3.416908049651284e-16",
         "-1.379536707896593e-15",
         "2.0740951198584196e-15",
         "9.604066317127324e-16",
         "1.4873130132010145e-15",
         "-5.556467295694611e-16",
         "1.2134813634275587e-16",
         "-2.4063305498905906e-15",
         "2.2390527426993533e-15",
         "1.673326932726423e-15",
         "-1.2470117695222676e-15",
         "8.190001274383203e-16",
         "1.2072942051600827e-15",
         "4.887455859804944e-15",
         "1.4377159541859243e-15",
         "-3.7721706856547467e-16",
         "9.564149167014576e-16",
         "1.0399166050935636e-15",
         "6.406203628719748e-16",
         "1.654066907797022e-16",
         "-3.568593220079729e-16",
         "2.5786478972835623e-16",
         "4.473265530947536e-15",
         "5.340914685085768e-16",
         "1.6834371984034178e-15",
         "-3.6600908126037946e-16",
         "-1.2273899954199695e-16",
         "88.34961925093133",
         "0.001727485630620034"
        ],
        [
         "std",
         "47488.14595456617",
         "1.9586958038574858",
         "1.6513085794769975",
         "1.516255005177772",
         "1.4158685749409203",
         "1.3802467340314395",
         "1.3322710897575756",
         "1.2370935981826663",
         "1.1943529026692037",
         "1.0986320892243193",
         "1.0888497654025169",
         "1.0207130277115584",
         "0.9992013895301447",
         "0.9952742301251534",
         "0.9585956112570637",
         "0.9153160116104391",
         "0.8762528873883703",
         "0.8493370636743893",
         "0.8381762095288414",
         "0.8140405007685785",
         "0.7709250248871167",
         "0.734524014371313",
         "0.7257015604409116",
         "0.6244602955949903",
         "0.6056470678271602",
         "0.5212780705409426",
         "0.48222701326105727",
         "0.4036324949650307",
         "0.3300832641602509",
         "250.1201092401885",
         "0.04152718963546506"
        ],
        [
         "min",
         "0.0",
         "-56.407509631329",
         "-72.7157275629303",
         "-48.3255893623954",
         "-5.68317119816995",
         "-113.743306711146",
         "-26.1605059358433",
         "-43.5572415712451",
         "-73.2167184552674",
         "-13.4340663182301",
         "-24.5882624372475",
         "-4.79747346479757",
         "-18.6837146333443",
         "-5.79188120632084",
         "-19.2143254902614",
         "-4.49894467676621",
         "-14.1298545174931",
         "-25.1627993693248",
         "-9.49874592104677",
         "-7.21352743017759",
         "-54.497720494566",
         "-34.8303821448146",
         "-10.933143697655",
         "-44.8077352037913",
         "-2.83662691870341",
         "-10.2953970749851",
         "-2.60455055280817",
         "-22.5656793207827",
         "-15.4300839055349",
         "0.0",
         "0.0"
        ],
        [
         "25%",
         "54201.5",
         "-0.920373384390322",
         "-0.598549913464916",
         "-0.8903648381551406",
         "-0.848640116331273",
         "-0.6915970708876575",
         "-0.768295608460489",
         "-0.5540758790365226",
         "-0.2086297440394665",
         "-0.6430975702665915",
         "-0.5354257264933235",
         "-0.7624941955129775",
         "-0.40557148544041355",
         "-0.6485392991145684",
         "-0.4255740124549935",
         "-0.582884279157456",
         "-0.46803676671289796",
         "-0.483748313707048",
         "-0.498849798665041",
         "-0.4562989187444475",
         "-0.21172136467424701",
         "-0.22839494677851702",
         "-0.5423503726606616",
         "-0.16184634501488449",
         "-0.3545861364094985",
         "-0.31714505406527",
         "-0.3269839258807195",
         "-0.07083952930446921",
         "-0.0529597930169809",
         "5.6",
         "0.0"
        ],
        [
         "50%",
         "84692.0",
         "0.0181087991615309",
         "0.0654855563960555",
         "0.179846343563544",
         "-0.0198465294811989",
         "-0.0543358267364858",
         "-0.274187076506651",
         "0.0401030827945351",
         "0.0223580364366631",
         "-0.051428731550349",
         "-0.0929173835961975",
         "-0.032757354499007",
         "0.140032588291332",
         "-0.0135680567852071",
         "0.0506013193100486",
         "0.0480715497626106",
         "0.0664133205843014",
         "-0.0656757538072252",
         "-0.0036363123546992",
         "0.0037348229952574",
         "-0.0624810924603664",
         "-0.0294501676953819",
         "0.0067819425282695",
         "-0.0111929302967212",
         "0.0409760560572798",
         "0.0165935016367397",
         "-0.0521391080182019",
         "0.0013421459786502",
         "0.011243831564982",
         "22.0",
         "0.0"
        ],
        [
         "75%",
         "139320.5",
         "1.315641693877865",
         "0.8037238712400945",
         "1.027195542465555",
         "0.7433412894685876",
         "0.611926439735193",
         "0.39856489635610504",
         "0.5704360728775986",
         "0.327345861923449",
         "0.5971390302822686",
         "0.453923445139507",
         "0.739593407321606",
         "0.618238032946136",
         "0.662504959439974",
         "0.493149849218149",
         "0.648820806317158",
         "0.523296312475344",
         "0.3996749826503845",
         "0.5008067468872159",
         "0.458949355762679",
         "0.1330408409942945",
         "0.1863772033785755",
         "0.5285536353339865",
         "0.14764206385605",
         "0.439526600168186",
         "0.350715562867386",
         "0.2409521737147555",
         "0.09104511968580689",
         "0.07827995475782015",
         "77.16499999999999",
         "0.0"
        ],
        [
         "max",
         "172792.0",
         "2.45492999121121",
         "22.0577289904909",
         "9.38255843282114",
         "16.8753440335975",
         "34.8016658766686",
         "73.3016255459646",
         "120.589493945238",
         "20.0072083651213",
         "15.5949946071278",
         "23.7451361206545",
         "12.0189131816199",
         "7.8483920756446",
         "7.12688295859376",
         "10.5267660517847",
         "8.87774159774277",
         "17.3151115176278",
         "9.25352625047285",
         "5.04106918541184",
         "5.59197142733558",
         "39.4209042482199",
         "27.2028391573154",
         "10.5030900899454",
         "22.5284116897749",
         "4.58454913689817",
         "7.51958867870916",
         "3.5173456116238",
         "31.6121981061363",
         "33.8478078188831",
         "25691.16",
         "1.0"
        ]
       ],
       "shape": {
        "columns": 31,
        "rows": 8
       }
      },
      "text/html": [
       "<div>\n",
       "<style scoped>\n",
       "    .dataframe tbody tr th:only-of-type {\n",
       "        vertical-align: middle;\n",
       "    }\n",
       "\n",
       "    .dataframe tbody tr th {\n",
       "        vertical-align: top;\n",
       "    }\n",
       "\n",
       "    .dataframe thead th {\n",
       "        text-align: right;\n",
       "    }\n",
       "</style>\n",
       "<table border=\"1\" class=\"dataframe\">\n",
       "  <thead>\n",
       "    <tr style=\"text-align: right;\">\n",
       "      <th></th>\n",
       "      <th>Time</th>\n",
       "      <th>V1</th>\n",
       "      <th>V2</th>\n",
       "      <th>V3</th>\n",
       "      <th>V4</th>\n",
       "      <th>V5</th>\n",
       "      <th>V6</th>\n",
       "      <th>V7</th>\n",
       "      <th>V8</th>\n",
       "      <th>V9</th>\n",
       "      <th>...</th>\n",
       "      <th>V21</th>\n",
       "      <th>V22</th>\n",
       "      <th>V23</th>\n",
       "      <th>V24</th>\n",
       "      <th>V25</th>\n",
       "      <th>V26</th>\n",
       "      <th>V27</th>\n",
       "      <th>V28</th>\n",
       "      <th>Amount</th>\n",
       "      <th>Class</th>\n",
       "    </tr>\n",
       "  </thead>\n",
       "  <tbody>\n",
       "    <tr>\n",
       "      <th>count</th>\n",
       "      <td>284807.00</td>\n",
       "      <td>284807.00</td>\n",
       "      <td>284807.00</td>\n",
       "      <td>284807.00</td>\n",
       "      <td>284807.00</td>\n",
       "      <td>284807.00</td>\n",
       "      <td>284807.00</td>\n",
       "      <td>284807.00</td>\n",
       "      <td>284807.00</td>\n",
       "      <td>284807.00</td>\n",
       "      <td>...</td>\n",
       "      <td>284807.00</td>\n",
       "      <td>284807.00</td>\n",
       "      <td>284807.00</td>\n",
       "      <td>284807.00</td>\n",
       "      <td>284807.00</td>\n",
       "      <td>284807.00</td>\n",
       "      <td>284807.00</td>\n",
       "      <td>284807.00</td>\n",
       "      <td>284807.00</td>\n",
       "      <td>284807.00</td>\n",
       "    </tr>\n",
       "    <tr>\n",
       "      <th>mean</th>\n",
       "      <td>94813.86</td>\n",
       "      <td>0.00</td>\n",
       "      <td>0.00</td>\n",
       "      <td>-0.00</td>\n",
       "      <td>0.00</td>\n",
       "      <td>0.00</td>\n",
       "      <td>0.00</td>\n",
       "      <td>-0.00</td>\n",
       "      <td>0.00</td>\n",
       "      <td>-0.00</td>\n",
       "      <td>...</td>\n",
       "      <td>0.00</td>\n",
       "      <td>-0.00</td>\n",
       "      <td>0.00</td>\n",
       "      <td>0.00</td>\n",
       "      <td>0.00</td>\n",
       "      <td>0.00</td>\n",
       "      <td>-0.00</td>\n",
       "      <td>-0.00</td>\n",
       "      <td>88.35</td>\n",
       "      <td>0.00</td>\n",
       "    </tr>\n",
       "    <tr>\n",
       "      <th>std</th>\n",
       "      <td>47488.15</td>\n",
       "      <td>1.96</td>\n",
       "      <td>1.65</td>\n",
       "      <td>1.52</td>\n",
       "      <td>1.42</td>\n",
       "      <td>1.38</td>\n",
       "      <td>1.33</td>\n",
       "      <td>1.24</td>\n",
       "      <td>1.19</td>\n",
       "      <td>1.10</td>\n",
       "      <td>...</td>\n",
       "      <td>0.73</td>\n",
       "      <td>0.73</td>\n",
       "      <td>0.62</td>\n",
       "      <td>0.61</td>\n",
       "      <td>0.52</td>\n",
       "      <td>0.48</td>\n",
       "      <td>0.40</td>\n",
       "      <td>0.33</td>\n",
       "      <td>250.12</td>\n",
       "      <td>0.04</td>\n",
       "    </tr>\n",
       "    <tr>\n",
       "      <th>min</th>\n",
       "      <td>0.00</td>\n",
       "      <td>-56.41</td>\n",
       "      <td>-72.72</td>\n",
       "      <td>-48.33</td>\n",
       "      <td>-5.68</td>\n",
       "      <td>-113.74</td>\n",
       "      <td>-26.16</td>\n",
       "      <td>-43.56</td>\n",
       "      <td>-73.22</td>\n",
       "      <td>-13.43</td>\n",
       "      <td>...</td>\n",
       "      <td>-34.83</td>\n",
       "      <td>-10.93</td>\n",
       "      <td>-44.81</td>\n",
       "      <td>-2.84</td>\n",
       "      <td>-10.30</td>\n",
       "      <td>-2.60</td>\n",
       "      <td>-22.57</td>\n",
       "      <td>-15.43</td>\n",
       "      <td>0.00</td>\n",
       "      <td>0.00</td>\n",
       "    </tr>\n",
       "    <tr>\n",
       "      <th>25%</th>\n",
       "      <td>54201.50</td>\n",
       "      <td>-0.92</td>\n",
       "      <td>-0.60</td>\n",
       "      <td>-0.89</td>\n",
       "      <td>-0.85</td>\n",
       "      <td>-0.69</td>\n",
       "      <td>-0.77</td>\n",
       "      <td>-0.55</td>\n",
       "      <td>-0.21</td>\n",
       "      <td>-0.64</td>\n",
       "      <td>...</td>\n",
       "      <td>-0.23</td>\n",
       "      <td>-0.54</td>\n",
       "      <td>-0.16</td>\n",
       "      <td>-0.35</td>\n",
       "      <td>-0.32</td>\n",
       "      <td>-0.33</td>\n",
       "      <td>-0.07</td>\n",
       "      <td>-0.05</td>\n",
       "      <td>5.60</td>\n",
       "      <td>0.00</td>\n",
       "    </tr>\n",
       "    <tr>\n",
       "      <th>50%</th>\n",
       "      <td>84692.00</td>\n",
       "      <td>0.02</td>\n",
       "      <td>0.07</td>\n",
       "      <td>0.18</td>\n",
       "      <td>-0.02</td>\n",
       "      <td>-0.05</td>\n",
       "      <td>-0.27</td>\n",
       "      <td>0.04</td>\n",
       "      <td>0.02</td>\n",
       "      <td>-0.05</td>\n",
       "      <td>...</td>\n",
       "      <td>-0.03</td>\n",
       "      <td>0.01</td>\n",
       "      <td>-0.01</td>\n",
       "      <td>0.04</td>\n",
       "      <td>0.02</td>\n",
       "      <td>-0.05</td>\n",
       "      <td>0.00</td>\n",
       "      <td>0.01</td>\n",
       "      <td>22.00</td>\n",
       "      <td>0.00</td>\n",
       "    </tr>\n",
       "    <tr>\n",
       "      <th>75%</th>\n",
       "      <td>139320.50</td>\n",
       "      <td>1.32</td>\n",
       "      <td>0.80</td>\n",
       "      <td>1.03</td>\n",
       "      <td>0.74</td>\n",
       "      <td>0.61</td>\n",
       "      <td>0.40</td>\n",
       "      <td>0.57</td>\n",
       "      <td>0.33</td>\n",
       "      <td>0.60</td>\n",
       "      <td>...</td>\n",
       "      <td>0.19</td>\n",
       "      <td>0.53</td>\n",
       "      <td>0.15</td>\n",
       "      <td>0.44</td>\n",
       "      <td>0.35</td>\n",
       "      <td>0.24</td>\n",
       "      <td>0.09</td>\n",
       "      <td>0.08</td>\n",
       "      <td>77.16</td>\n",
       "      <td>0.00</td>\n",
       "    </tr>\n",
       "    <tr>\n",
       "      <th>max</th>\n",
       "      <td>172792.00</td>\n",
       "      <td>2.45</td>\n",
       "      <td>22.06</td>\n",
       "      <td>9.38</td>\n",
       "      <td>16.88</td>\n",
       "      <td>34.80</td>\n",
       "      <td>73.30</td>\n",
       "      <td>120.59</td>\n",
       "      <td>20.01</td>\n",
       "      <td>15.59</td>\n",
       "      <td>...</td>\n",
       "      <td>27.20</td>\n",
       "      <td>10.50</td>\n",
       "      <td>22.53</td>\n",
       "      <td>4.58</td>\n",
       "      <td>7.52</td>\n",
       "      <td>3.52</td>\n",
       "      <td>31.61</td>\n",
       "      <td>33.85</td>\n",
       "      <td>25691.16</td>\n",
       "      <td>1.00</td>\n",
       "    </tr>\n",
       "  </tbody>\n",
       "</table>\n",
       "<p>8 rows × 31 columns</p>\n",
       "</div>"
      ],
      "text/plain": [
       "           Time        V1        V2        V3        V4        V5        V6  \\\n",
       "count 284807.00 284807.00 284807.00 284807.00 284807.00 284807.00 284807.00   \n",
       "mean   94813.86      0.00      0.00     -0.00      0.00      0.00      0.00   \n",
       "std    47488.15      1.96      1.65      1.52      1.42      1.38      1.33   \n",
       "min        0.00    -56.41    -72.72    -48.33     -5.68   -113.74    -26.16   \n",
       "25%    54201.50     -0.92     -0.60     -0.89     -0.85     -0.69     -0.77   \n",
       "50%    84692.00      0.02      0.07      0.18     -0.02     -0.05     -0.27   \n",
       "75%   139320.50      1.32      0.80      1.03      0.74      0.61      0.40   \n",
       "max   172792.00      2.45     22.06      9.38     16.88     34.80     73.30   \n",
       "\n",
       "             V7        V8        V9  ...       V21       V22       V23  \\\n",
       "count 284807.00 284807.00 284807.00  ... 284807.00 284807.00 284807.00   \n",
       "mean      -0.00      0.00     -0.00  ...      0.00     -0.00      0.00   \n",
       "std        1.24      1.19      1.10  ...      0.73      0.73      0.62   \n",
       "min      -43.56    -73.22    -13.43  ...    -34.83    -10.93    -44.81   \n",
       "25%       -0.55     -0.21     -0.64  ...     -0.23     -0.54     -0.16   \n",
       "50%        0.04      0.02     -0.05  ...     -0.03      0.01     -0.01   \n",
       "75%        0.57      0.33      0.60  ...      0.19      0.53      0.15   \n",
       "max      120.59     20.01     15.59  ...     27.20     10.50     22.53   \n",
       "\n",
       "            V24       V25       V26       V27       V28    Amount     Class  \n",
       "count 284807.00 284807.00 284807.00 284807.00 284807.00 284807.00 284807.00  \n",
       "mean       0.00      0.00      0.00     -0.00     -0.00     88.35      0.00  \n",
       "std        0.61      0.52      0.48      0.40      0.33    250.12      0.04  \n",
       "min       -2.84    -10.30     -2.60    -22.57    -15.43      0.00      0.00  \n",
       "25%       -0.35     -0.32     -0.33     -0.07     -0.05      5.60      0.00  \n",
       "50%        0.04      0.02     -0.05      0.00      0.01     22.00      0.00  \n",
       "75%        0.44      0.35      0.24      0.09      0.08     77.16      0.00  \n",
       "max        4.58      7.52      3.52     31.61     33.85  25691.16      1.00  \n",
       "\n",
       "[8 rows x 31 columns]"
      ]
     },
     "execution_count": 6,
     "metadata": {},
     "output_type": "execute_result"
    }
   ],
   "source": [
    "raw_data.describe()"
   ]
  },
  {
   "cell_type": "code",
   "execution_count": 7,
   "id": "40925819",
   "metadata": {},
   "outputs": [
    {
     "data": {
      "image/png": "[encoded data removed]",
      "text/plain": [
       "<Figure size 500x1000 with 4 Axes>"
      ]
     },
     "metadata": {},
     "output_type": "display_data"
    }
   ],
   "source": [
    "# Fraud vs No Fraud\n",
    "fraud   = raw_data[raw_data['Class'] == 1].describe().T\n",
    "nofraud = raw_data[raw_data['Class'] == 0].describe().T\n",
    "\n",
    "colors = [\"#e19de4\", '#3B3B3C']\n",
    "\n",
    "# 2×2 subplots \n",
    "fig,ax = plt.subplots(nrows = 2,ncols = 2,figsize = (5,10))\n",
    "\n",
    "# Heatmap \n",
    "sns.heatmap(\n",
    "    fraud[[\"mean\"]].iloc[:15, :], annot=True, cmap=colors, linewidths=0.5, linecolor='black', cbar=False, fmt='.2f', ax=ax[0, 0])\n",
    "ax[0, 0].set_title('Fraud : Part A')\n",
    "\n",
    "sns.heatmap(\n",
    "    fraud[[\"mean\"]].iloc[15:30, :],annot=True, cmap=colors, linewidths=0.5, linecolor='black', cbar=False, fmt='.2f', ax=ax[0, 1])\n",
    "ax[0, 1].set_title('Fraud : Part B')\n",
    "\n",
    "sns.heatmap(\n",
    "    nofraud[[\"mean\"]].iloc[:15, :],annot=True, cmap=colors, linewidths=0.5, linecolor='black', cbar=False, fmt='.2f', ax=ax[1, 0])\n",
    "ax[1, 0].set_title('Clean No Fraud : Part A')\n",
    "\n",
    "sns.heatmap(\n",
    "    nofraud[[\"mean\"]].iloc[15:30, :],annot=True, cmap=colors, linewidths=0.5, linecolor='black', cbar=False, fmt='.2f', ax=ax[1, 1])\n",
    "ax[1, 1].set_title('Clean No Fraud : Part B')\n",
    "\n",
    "fig.tight_layout(w_pad=2)\n",
    "plt.show()"
   ]
  },
  {
   "cell_type": "markdown",
   "id": "a31ad1ae",
   "metadata": {},
   "source": [
    "**Mean** Value merupakan fitur untuk Fraud dan Clean No Fraud\n",
    "\n",
    "Untuk **Clean No Fraud**, Mean Value **V1 hingga V28** hampir **0** untuk semua kasus. Mean jumlah transaksi, 88.29, lebih kecil daripada  mean jumlah transaksi **Fraud(penipuan)** , 122.21\n",
    "\n"
   ]
  },
  {
   "cell_type": "markdown",
   "id": "aec3f407",
   "metadata": {},
   "source": [
    "### **Visualisasi Data**"
   ]
  },
  {
   "cell_type": "code",
   "execution_count": 8,
   "id": "46240ba3",
   "metadata": {},
   "outputs": [
    {
     "data": {
      "image/png": "[encoded data removed]",
      "text/plain": [
       "<Figure size 2000x500 with 2 Axes>"
      ]
     },
     "metadata": {},
     "output_type": "display_data"
    }
   ],
   "source": [
    "# Hitung persentase\n",
    "fraud   = len(raw_data[raw_data['Class'] == 1]) / len(raw_data) * 100\n",
    "nofraud = len(raw_data[raw_data['Class'] == 0]) / len(raw_data) * 100\n",
    "# Urutan [nofraud, fraud] supaya label \"Clean No Fraud\" muncul lebih dulu pada pie\n",
    "fraud_percentage = [nofraud, fraud]\n",
    "\n",
    "fig, axes = plt.subplots(nrows=1, ncols=2, figsize=(20, 5))\n",
    "\n",
    "# Subplot 1: Pie chart\n",
    "axes[0].pie(\n",
    "    fraud_percentage,\n",
    "    labels=['Clean No Fraud', 'Fraud'], autopct='%1.1f%%', startangle=90, colors=colors, wedgeprops={'edgecolor': 'black', 'linewidth': 1, 'antialiased': True})\n",
    "axes[0].set_title('Persentase: Fraud vs. No Fraud')\n",
    "\n",
    "# Subplot 2: Countplot dengan palette\n",
    "axes[1] = sns.countplot(\n",
    "    x='Class', hue='Class', data=raw_data, palette=\"pastel\", dodge=False, legend=False, ax=axes[1])\n",
    "\n",
    "# posisi ticks dan label \n",
    "axes[1].set_xticks([0, 1])\n",
    "axes[1].set_xticklabels(['Clean No Fraud', 'Fraud'])\n",
    "axes[1].set_title('Jumlah Kasus Fraud (Penipuan)')\n",
    "\n",
    "# angka di atas tiap bar\n",
    "for rect in axes[1].patches:\n",
    "    height = rect.get_height()\n",
    "    axes[1].text(\n",
    "        rect.get_x() + rect.get_width() / 2, height + 2, int(height), ha='center', fontsize=11)\n",
    "\n",
    "plt.tight_layout()\n",
    "plt.show()"
   ]
  },
  {
   "cell_type": "code",
   "execution_count": 9,
   "id": "729d0acf",
   "metadata": {},
   "outputs": [
    {
     "name": "stdout",
     "output_type": "stream",
     "text": [
      "Clean No Fraud 99.83 % dari keseluruhan dataset\n",
      "Fraud 0.17 % dari keseluruhan dataset\n"
     ]
    }
   ],
   "source": [
    "print('Clean No Fraud', round(raw_data['Class'].value_counts()[0]/len(raw_data) * 100,2), '% dari keseluruhan dataset')\n",
    "print('Fraud', round(raw_data['Class'].value_counts()[1]/len(raw_data) * 100,2), '% dari keseluruhan dataset')"
   ]
  },
  {
   "cell_type": "markdown",
   "id": "fe44e02d",
   "metadata": {},
   "source": [
    "dapat dilihat Dataset yang diggunakan sanggat imbalance lebih dominan ke No Fraud dan dapat menyebabkan error dan overfit dikarenakan data di dominasi oleh No fraud"
   ]
  },
  {
   "cell_type": "markdown",
   "id": "0dc06914",
   "metadata": {},
   "source": [
    "## **Pemilihan Fitur**"
   ]
  },
  {
   "cell_type": "markdown",
   "id": "5eb4e751",
   "metadata": {},
   "source": [
    "Pada tahap ini, dibuat dua set data yang berbeda untuk permodelan. Setiap set data menggunakan pendekatan seleksi fitur yang berbeda untuk membandingkan pendekatan mana yang menghasilkan model dengan kinerja terbaik.\n",
    "- Model 1: Menggunakan fitur-fitur yang dipilih berdasarkan analisis Correlation terhadap kelas target.\n",
    "- Model 2: Menggunakan 20 fitur teratas yang dipilih berdasarkan skor uji statistik ANOVA F-test."
   ]
  },
  {
   "cell_type": "code",
   "execution_count": 10,
   "id": "ea1ec80a",
   "metadata": {},
   "outputs": [],
   "source": [
    "data = raw_data.copy()"
   ]
  },
  {
   "cell_type": "markdown",
   "id": "3448025b",
   "metadata": {},
   "source": [
    "### **Correlation Matrix**"
   ]
  },
  {
   "cell_type": "markdown",
   "id": "06eefbf5",
   "metadata": {},
   "source": [
    "**Correlation matrix** merupakan kunci untuk memahami data. Tujuan utamanya adalah mengidentifikasi fitur-fitur yang memiliki dampak signifikan terhadap transaksi tertentu yang merupakan Fraud(penipuan). Namun, untuk mengamati fitur-fitur mana yang memiliki korelasi positif atau negatif yang tinggi dengan transaksi Fraud(penipuan), penting untuk menggunakan dataframe yang tepat (subsample)."
   ]
  },
  {
   "cell_type": "code",
   "execution_count": 11,
   "id": "db3bd7c2",
   "metadata": {},
   "outputs": [
    {
     "data": {
      "image/png": "[encoded data removed]",
      "text/plain": [
       "<Figure size 500x1000 with 2 Axes>"
      ]
     },
     "metadata": {},
     "output_type": "display_data"
    }
   ],
   "source": [
    "corr = data.corrwith(data['Class']).sort_values(ascending = False).to_frame()\n",
    "corr.columns = ['Correlation']\n",
    "fig,ax = plt.subplots(nrows = 1,ncols = 2,figsize = (5,10))\n",
    "# part A\n",
    "plt.subplot(1,2,1)\n",
    "sns.heatmap(corr.iloc[:15,:],annot = True,cmap = colors,linewidths = 0.4,linecolor = 'black',cbar = False)\n",
    "plt.title('Part A')\n",
    "\n",
    "# part B\n",
    "plt.subplot(1,2,2)\n",
    "sns.heatmap(corr.iloc[15:30],annot = True,cmap = colors,linewidths = 0.4,linecolor = 'black',cbar = False)\n",
    "plt.title('Part B')\n",
    "\n",
    "fig.tight_layout(w_pad = 2)"
   ]
  },
  {
   "cell_type": "markdown",
   "id": "bffa261b",
   "metadata": {},
   "source": [
    "Dalam pemilihan fitur, kriteria eksklusi akan diterapkan untuk menghilangkan fitur yang menunjukkan value korelasi antara [-0.1 dan 0.1].\n",
    "\n",
    "Korelasi berikut ini telah ditetapkan: V4 dan V11 menunjukkan korelasi positif, sementara V7, V3, V16, V10, V12, V14, dan V17 menunjukkan korelasi negatif dengan fitur Class."
   ]
  },
  {
   "cell_type": "markdown",
   "id": "737907db",
   "metadata": {},
   "source": [
    "### **ANOVA**"
   ]
  },
  {
   "cell_type": "code",
   "execution_count": 12,
   "id": "fd41ccb4",
   "metadata": {},
   "outputs": [
    {
     "data": {
      "image/png": "[encoded data removed]",
      "text/plain": [
       "<Figure size 500x1000 with 2 Axes>"
      ]
     },
     "metadata": {},
     "output_type": "display_data"
    }
   ],
   "source": [
    "# feature & target \n",
    "feature = data.loc[:, :'Amount']    \n",
    "target  = data.loc[:,  'Class']  \n",
    "\n",
    "# SelectKBest\n",
    "best_feature = SelectKBest(score_func=f_classif, k='all')\n",
    "fit = best_feature.fit(feature, target)\n",
    "\n",
    "# DataFrame ANOVA Score\n",
    "featurescore = pd.DataFrame(\n",
    "    data=fit.scores_, index=feature.columns, columns=[\"ANOVA Score\"])\n",
    "featurescore = featurescore.sort_values(by=\"ANOVA Score\", ascending=False)\n",
    "\n",
    "# subplot untuk menampilkan bagian (A dan B)\n",
    "fig, axes = plt.subplots(nrows=1, ncols=2, figsize=(5, 10))\n",
    "\n",
    "# Heatmap part A\n",
    "sns.heatmap(\n",
    "    featurescore.iloc[:15, :], annot=True, cmap=colors, linewidths=0.4, linecolor='black', cbar=False, fmt='.2f', ax=axes[0])\n",
    "axes[0].set_title('ANOVA Score : Part A')\n",
    "\n",
    "# Heatmap part B\n",
    "sns.heatmap(\n",
    "    featurescore.iloc[15:30, :], annot=True, cmap=colors, linewidths=0.4, linecolor='black', cbar=False, fmt='.2f', ax=axes[1])\n",
    "axes[1].set_title('ANOVA Score : Part B')\n",
    "\n",
    "fig.tight_layout(w_pad=2)\n",
    "plt.show()"
   ]
  },
  {
   "cell_type": "markdown",
   "id": "8555f797",
   "metadata": {},
   "source": [
    "semakin tinggi Score ANOVA, semakin penting fitur tersebut terhadap variabel target.\n",
    "\n",
    "Dari hasil nilai Score ANOVA di atas, maka fitur dengan nilai kurang dari 50 akan dibuang.\n",
    "\n",
    "Berdasarkan hasil tersebut, maka akan dibuat 2 model berdasarkan fitur yang dipilih dari Correlation Plot & ANOVA Score."
   ]
  },
  {
   "cell_type": "markdown",
   "id": "3e69ecce",
   "metadata": {},
   "source": [
    "### Modeling"
   ]
  },
  {
   "cell_type": "markdown",
   "id": "97827b87",
   "metadata": {},
   "source": [
    "#### Model Bedasarkan Correlation"
   ]
  },
  {
   "cell_type": "code",
   "execution_count": 13,
   "id": "3d1c6db8",
   "metadata": {},
   "outputs": [
    {
     "data": {
      "application/vnd.microsoft.datawrangler.viewer.v0+json": {
       "columns": [
        {
         "name": "index",
         "rawType": "int64",
         "type": "integer"
        },
        {
         "name": "V3",
         "rawType": "float64",
         "type": "float"
        },
        {
         "name": "V4",
         "rawType": "float64",
         "type": "float"
        },
        {
         "name": "V7",
         "rawType": "float64",
         "type": "float"
        },
        {
         "name": "V10",
         "rawType": "float64",
         "type": "float"
        },
        {
         "name": "V11",
         "rawType": "float64",
         "type": "float"
        },
        {
         "name": "V12",
         "rawType": "float64",
         "type": "float"
        },
        {
         "name": "V14",
         "rawType": "float64",
         "type": "float"
        },
        {
         "name": "V16",
         "rawType": "float64",
         "type": "float"
        },
        {
         "name": "V17",
         "rawType": "float64",
         "type": "float"
        },
        {
         "name": "Class",
         "rawType": "int64",
         "type": "integer"
        }
       ],
       "ref": "739decea-00f0-492d-82c5-a195b62eb532",
       "rows": [
        [
         "0",
         "2.53634673796914",
         "1.37815522427443",
         "0.239598554061257",
         "0.0907941719789316",
         "-0.551599533260813",
         "-0.617800855762348",
         "-0.311169353699879",
         "-0.470400525259478",
         "0.207971241929242",
         "0"
        ],
        [
         "1",
         "0.16648011335321",
         "0.448154078460911",
         "-0.0788029833323113",
         "-0.166974414004614",
         "1.61272666105479",
         "1.06523531137287",
         "-0.143772296441519",
         "0.463917041022171",
         "-0.114804663102346",
         "0"
        ],
        [
         "2",
         "1.77320934263119",
         "0.379779593034328",
         "0.791460956450422",
         "0.207642865216696",
         "0.624501459424895",
         "0.066083685268831",
         "-0.165945922763554",
         "-2.89008319444231",
         "1.10996937869599",
         "0"
        ],
        [
         "3",
         "1.79299333957872",
         "-0.863291275036453",
         "0.23760893977178",
         "-0.0549519224713749",
         "-0.226487263835401",
         "0.178228225877303",
         "-0.28792374549456",
         "-1.0596472454325",
         "-0.684092786345479",
         "0"
        ],
        [
         "4",
         "1.548717846511",
         "0.403033933955121",
         "0.592940745385545",
         "0.753074431976354",
         "-0.822842877946363",
         "0.53819555014995",
         "-1.11966983471731",
         "-0.451449182813529",
         "-0.237033239362776",
         "0"
        ]
       ],
       "shape": {
        "columns": 10,
        "rows": 5
       }
      },
      "text/html": [
       "<div>\n",
       "<style scoped>\n",
       "    .dataframe tbody tr th:only-of-type {\n",
       "        vertical-align: middle;\n",
       "    }\n",
       "\n",
       "    .dataframe tbody tr th {\n",
       "        vertical-align: top;\n",
       "    }\n",
       "\n",
       "    .dataframe thead th {\n",
       "        text-align: right;\n",
       "    }\n",
       "</style>\n",
       "<table border=\"1\" class=\"dataframe\">\n",
       "  <thead>\n",
       "    <tr style=\"text-align: right;\">\n",
       "      <th></th>\n",
       "      <th>V3</th>\n",
       "      <th>V4</th>\n",
       "      <th>V7</th>\n",
       "      <th>V10</th>\n",
       "      <th>V11</th>\n",
       "      <th>V12</th>\n",
       "      <th>V14</th>\n",
       "      <th>V16</th>\n",
       "      <th>V17</th>\n",
       "      <th>Class</th>\n",
       "    </tr>\n",
       "  </thead>\n",
       "  <tbody>\n",
       "    <tr>\n",
       "      <th>0</th>\n",
       "      <td>2.54</td>\n",
       "      <td>1.38</td>\n",
       "      <td>0.24</td>\n",
       "      <td>0.09</td>\n",
       "      <td>-0.55</td>\n",
       "      <td>-0.62</td>\n",
       "      <td>-0.31</td>\n",
       "      <td>-0.47</td>\n",
       "      <td>0.21</td>\n",
       "      <td>0</td>\n",
       "    </tr>\n",
       "    <tr>\n",
       "      <th>1</th>\n",
       "      <td>0.17</td>\n",
       "      <td>0.45</td>\n",
       "      <td>-0.08</td>\n",
       "      <td>-0.17</td>\n",
       "      <td>1.61</td>\n",
       "      <td>1.07</td>\n",
       "      <td>-0.14</td>\n",
       "      <td>0.46</td>\n",
       "      <td>-0.11</td>\n",
       "      <td>0</td>\n",
       "    </tr>\n",
       "    <tr>\n",
       "      <th>2</th>\n",
       "      <td>1.77</td>\n",
       "      <td>0.38</td>\n",
       "      <td>0.79</td>\n",
       "      <td>0.21</td>\n",
       "      <td>0.62</td>\n",
       "      <td>0.07</td>\n",
       "      <td>-0.17</td>\n",
       "      <td>-2.89</td>\n",
       "      <td>1.11</td>\n",
       "      <td>0</td>\n",
       "    </tr>\n",
       "    <tr>\n",
       "      <th>3</th>\n",
       "      <td>1.79</td>\n",
       "      <td>-0.86</td>\n",
       "      <td>0.24</td>\n",
       "      <td>-0.05</td>\n",
       "      <td>-0.23</td>\n",
       "      <td>0.18</td>\n",
       "      <td>-0.29</td>\n",
       "      <td>-1.06</td>\n",
       "      <td>-0.68</td>\n",
       "      <td>0</td>\n",
       "    </tr>\n",
       "    <tr>\n",
       "      <th>4</th>\n",
       "      <td>1.55</td>\n",
       "      <td>0.40</td>\n",
       "      <td>0.59</td>\n",
       "      <td>0.75</td>\n",
       "      <td>-0.82</td>\n",
       "      <td>0.54</td>\n",
       "      <td>-1.12</td>\n",
       "      <td>-0.45</td>\n",
       "      <td>-0.24</td>\n",
       "      <td>0</td>\n",
       "    </tr>\n",
       "  </tbody>\n",
       "</table>\n",
       "</div>"
      ],
      "text/plain": [
       "    V3    V4    V7   V10   V11   V12   V14   V16   V17  Class\n",
       "0 2.54  1.38  0.24  0.09 -0.55 -0.62 -0.31 -0.47  0.21      0\n",
       "1 0.17  0.45 -0.08 -0.17  1.61  1.07 -0.14  0.46 -0.11      0\n",
       "2 1.77  0.38  0.79  0.21  0.62  0.07 -0.17 -2.89  1.11      0\n",
       "3 1.79 -0.86  0.24 -0.05 -0.23  0.18 -0.29 -1.06 -0.68      0\n",
       "4 1.55  0.40  0.59  0.75 -0.82  0.54 -1.12 -0.45 -0.24      0"
      ]
     },
     "execution_count": 13,
     "metadata": {},
     "output_type": "execute_result"
    }
   ],
   "source": [
    "# Model 1: Fitur dari Analisis Plot Korelasi\n",
    "model1 = data[['V3','V4','V7','V10','V11','V12','V14','V16','V17','Class']].copy()\n",
    "model1.head()"
   ]
  },
  {
   "cell_type": "markdown",
   "id": "32344e32",
   "metadata": {},
   "source": [
    "#### Model Bedasarkan ANOVA Score"
   ]
  },
  {
   "cell_type": "code",
   "execution_count": 14,
   "id": "b265be43",
   "metadata": {},
   "outputs": [
    {
     "data": {
      "application/vnd.microsoft.datawrangler.viewer.v0+json": {
       "columns": [
        {
         "name": "index",
         "rawType": "int64",
         "type": "integer"
        },
        {
         "name": "V1",
         "rawType": "float64",
         "type": "float"
        },
        {
         "name": "V2",
         "rawType": "float64",
         "type": "float"
        },
        {
         "name": "V3",
         "rawType": "float64",
         "type": "float"
        },
        {
         "name": "V4",
         "rawType": "float64",
         "type": "float"
        },
        {
         "name": "V5",
         "rawType": "float64",
         "type": "float"
        },
        {
         "name": "V6",
         "rawType": "float64",
         "type": "float"
        },
        {
         "name": "V7",
         "rawType": "float64",
         "type": "float"
        },
        {
         "name": "V8",
         "rawType": "float64",
         "type": "float"
        },
        {
         "name": "V9",
         "rawType": "float64",
         "type": "float"
        },
        {
         "name": "V10",
         "rawType": "float64",
         "type": "float"
        },
        {
         "name": "V11",
         "rawType": "float64",
         "type": "float"
        },
        {
         "name": "V12",
         "rawType": "float64",
         "type": "float"
        },
        {
         "name": "V14",
         "rawType": "float64",
         "type": "float"
        },
        {
         "name": "V16",
         "rawType": "float64",
         "type": "float"
        },
        {
         "name": "V17",
         "rawType": "float64",
         "type": "float"
        },
        {
         "name": "V18",
         "rawType": "float64",
         "type": "float"
        },
        {
         "name": "V19",
         "rawType": "float64",
         "type": "float"
        },
        {
         "name": "V20",
         "rawType": "float64",
         "type": "float"
        },
        {
         "name": "V21",
         "rawType": "float64",
         "type": "float"
        },
        {
         "name": "V27",
         "rawType": "float64",
         "type": "float"
        },
        {
         "name": "Class",
         "rawType": "int64",
         "type": "integer"
        }
       ],
       "ref": "913bd4aa-c123-4ecf-8bad-5e915205bafc",
       "rows": [
        [
         "0",
         "-1.3598071336738",
         "-0.0727811733098497",
         "2.53634673796914",
         "1.37815522427443",
         "-0.338320769942518",
         "0.462387777762292",
         "0.239598554061257",
         "0.0986979012610507",
         "0.363786969611213",
         "0.0907941719789316",
         "-0.551599533260813",
         "-0.617800855762348",
         "-0.311169353699879",
         "-0.470400525259478",
         "0.207971241929242",
         "0.0257905801985591",
         "0.403992960255733",
         "0.251412098239705",
         "-0.018306777944153",
         "0.133558376740387",
         "0"
        ],
        [
         "1",
         "1.19185711131486",
         "0.26615071205963",
         "0.16648011335321",
         "0.448154078460911",
         "0.0600176492822243",
         "-0.0823608088155687",
         "-0.0788029833323113",
         "0.0851016549148104",
         "-0.255425128109186",
         "-0.166974414004614",
         "1.61272666105479",
         "1.06523531137287",
         "-0.143772296441519",
         "0.463917041022171",
         "-0.114804663102346",
         "-0.183361270123994",
         "-0.145783041325259",
         "-0.0690831352230203",
         "-0.225775248033138",
         "-0.0089830991432281",
         "0"
        ],
        [
         "2",
         "-1.35835406159823",
         "-1.34016307473609",
         "1.77320934263119",
         "0.379779593034328",
         "-0.503198133318193",
         "1.80049938079263",
         "0.791460956450422",
         "0.247675786588991",
         "-1.51465432260583",
         "0.207642865216696",
         "0.624501459424895",
         "0.066083685268831",
         "-0.165945922763554",
         "-2.89008319444231",
         "1.10996937869599",
         "-0.121359313195888",
         "-2.26185709530414",
         "0.524979725224404",
         "0.247998153469754",
         "-0.0553527940384261",
         "0"
        ],
        [
         "3",
         "-0.966271711572087",
         "-0.185226008082898",
         "1.79299333957872",
         "-0.863291275036453",
         "-0.0103088796030823",
         "1.24720316752486",
         "0.23760893977178",
         "0.377435874652262",
         "-1.38702406270197",
         "-0.0549519224713749",
         "-0.226487263835401",
         "0.178228225877303",
         "-0.28792374549456",
         "-1.0596472454325",
         "-0.684092786345479",
         "1.96577500349538",
         "-1.2326219700892",
         "-0.208037781160366",
         "-0.108300452035545",
         "0.0627228487293033",
         "0"
        ],
        [
         "4",
         "-1.15823309349523",
         "0.877736754848451",
         "1.548717846511",
         "0.403033933955121",
         "-0.407193377311653",
         "0.0959214624684256",
         "0.592940745385545",
         "-0.270532677192282",
         "0.817739308235294",
         "0.753074431976354",
         "-0.822842877946363",
         "0.53819555014995",
         "-1.11966983471731",
         "-0.451449182813529",
         "-0.237033239362776",
         "-0.0381947870352842",
         "0.803486924960175",
         "0.408542360392758",
         "-0.0094306971323291",
         "0.219422229513348",
         "0"
        ]
       ],
       "shape": {
        "columns": 21,
        "rows": 5
       }
      },
      "text/html": [
       "<div>\n",
       "<style scoped>\n",
       "    .dataframe tbody tr th:only-of-type {\n",
       "        vertical-align: middle;\n",
       "    }\n",
       "\n",
       "    .dataframe tbody tr th {\n",
       "        vertical-align: top;\n",
       "    }\n",
       "\n",
       "    .dataframe thead th {\n",
       "        text-align: right;\n",
       "    }\n",
       "</style>\n",
       "<table border=\"1\" class=\"dataframe\">\n",
       "  <thead>\n",
       "    <tr style=\"text-align: right;\">\n",
       "      <th></th>\n",
       "      <th>V1</th>\n",
       "      <th>V2</th>\n",
       "      <th>V3</th>\n",
       "      <th>V4</th>\n",
       "      <th>V5</th>\n",
       "      <th>V6</th>\n",
       "      <th>V7</th>\n",
       "      <th>V8</th>\n",
       "      <th>V9</th>\n",
       "      <th>V10</th>\n",
       "      <th>...</th>\n",
       "      <th>V12</th>\n",
       "      <th>V14</th>\n",
       "      <th>V16</th>\n",
       "      <th>V17</th>\n",
       "      <th>V18</th>\n",
       "      <th>V19</th>\n",
       "      <th>V20</th>\n",
       "      <th>V21</th>\n",
       "      <th>V27</th>\n",
       "      <th>Class</th>\n",
       "    </tr>\n",
       "  </thead>\n",
       "  <tbody>\n",
       "    <tr>\n",
       "      <th>0</th>\n",
       "      <td>-1.36</td>\n",
       "      <td>-0.07</td>\n",
       "      <td>2.54</td>\n",
       "      <td>1.38</td>\n",
       "      <td>-0.34</td>\n",
       "      <td>0.46</td>\n",
       "      <td>0.24</td>\n",
       "      <td>0.10</td>\n",
       "      <td>0.36</td>\n",
       "      <td>0.09</td>\n",
       "      <td>...</td>\n",
       "      <td>-0.62</td>\n",
       "      <td>-0.31</td>\n",
       "      <td>-0.47</td>\n",
       "      <td>0.21</td>\n",
       "      <td>0.03</td>\n",
       "      <td>0.40</td>\n",
       "      <td>0.25</td>\n",
       "      <td>-0.02</td>\n",
       "      <td>0.13</td>\n",
       "      <td>0</td>\n",
       "    </tr>\n",
       "    <tr>\n",
       "      <th>1</th>\n",
       "      <td>1.19</td>\n",
       "      <td>0.27</td>\n",
       "      <td>0.17</td>\n",
       "      <td>0.45</td>\n",
       "      <td>0.06</td>\n",
       "      <td>-0.08</td>\n",
       "      <td>-0.08</td>\n",
       "      <td>0.09</td>\n",
       "      <td>-0.26</td>\n",
       "      <td>-0.17</td>\n",
       "      <td>...</td>\n",
       "      <td>1.07</td>\n",
       "      <td>-0.14</td>\n",
       "      <td>0.46</td>\n",
       "      <td>-0.11</td>\n",
       "      <td>-0.18</td>\n",
       "      <td>-0.15</td>\n",
       "      <td>-0.07</td>\n",
       "      <td>-0.23</td>\n",
       "      <td>-0.01</td>\n",
       "      <td>0</td>\n",
       "    </tr>\n",
       "    <tr>\n",
       "      <th>2</th>\n",
       "      <td>-1.36</td>\n",
       "      <td>-1.34</td>\n",
       "      <td>1.77</td>\n",
       "      <td>0.38</td>\n",
       "      <td>-0.50</td>\n",
       "      <td>1.80</td>\n",
       "      <td>0.79</td>\n",
       "      <td>0.25</td>\n",
       "      <td>-1.51</td>\n",
       "      <td>0.21</td>\n",
       "      <td>...</td>\n",
       "      <td>0.07</td>\n",
       "      <td>-0.17</td>\n",
       "      <td>-2.89</td>\n",
       "      <td>1.11</td>\n",
       "      <td>-0.12</td>\n",
       "      <td>-2.26</td>\n",
       "      <td>0.52</td>\n",
       "      <td>0.25</td>\n",
       "      <td>-0.06</td>\n",
       "      <td>0</td>\n",
       "    </tr>\n",
       "    <tr>\n",
       "      <th>3</th>\n",
       "      <td>-0.97</td>\n",
       "      <td>-0.19</td>\n",
       "      <td>1.79</td>\n",
       "      <td>-0.86</td>\n",
       "      <td>-0.01</td>\n",
       "      <td>1.25</td>\n",
       "      <td>0.24</td>\n",
       "      <td>0.38</td>\n",
       "      <td>-1.39</td>\n",
       "      <td>-0.05</td>\n",
       "      <td>...</td>\n",
       "      <td>0.18</td>\n",
       "      <td>-0.29</td>\n",
       "      <td>-1.06</td>\n",
       "      <td>-0.68</td>\n",
       "      <td>1.97</td>\n",
       "      <td>-1.23</td>\n",
       "      <td>-0.21</td>\n",
       "      <td>-0.11</td>\n",
       "      <td>0.06</td>\n",
       "      <td>0</td>\n",
       "    </tr>\n",
       "    <tr>\n",
       "      <th>4</th>\n",
       "      <td>-1.16</td>\n",
       "      <td>0.88</td>\n",
       "      <td>1.55</td>\n",
       "      <td>0.40</td>\n",
       "      <td>-0.41</td>\n",
       "      <td>0.10</td>\n",
       "      <td>0.59</td>\n",
       "      <td>-0.27</td>\n",
       "      <td>0.82</td>\n",
       "      <td>0.75</td>\n",
       "      <td>...</td>\n",
       "      <td>0.54</td>\n",
       "      <td>-1.12</td>\n",
       "      <td>-0.45</td>\n",
       "      <td>-0.24</td>\n",
       "      <td>-0.04</td>\n",
       "      <td>0.80</td>\n",
       "      <td>0.41</td>\n",
       "      <td>-0.01</td>\n",
       "      <td>0.22</td>\n",
       "      <td>0</td>\n",
       "    </tr>\n",
       "  </tbody>\n",
       "</table>\n",
       "<p>5 rows × 21 columns</p>\n",
       "</div>"
      ],
      "text/plain": [
       "     V1    V2   V3    V4    V5    V6    V7    V8    V9   V10  ...   V12   V14  \\\n",
       "0 -1.36 -0.07 2.54  1.38 -0.34  0.46  0.24  0.10  0.36  0.09  ... -0.62 -0.31   \n",
       "1  1.19  0.27 0.17  0.45  0.06 -0.08 -0.08  0.09 -0.26 -0.17  ...  1.07 -0.14   \n",
       "2 -1.36 -1.34 1.77  0.38 -0.50  1.80  0.79  0.25 -1.51  0.21  ...  0.07 -0.17   \n",
       "3 -0.97 -0.19 1.79 -0.86 -0.01  1.25  0.24  0.38 -1.39 -0.05  ...  0.18 -0.29   \n",
       "4 -1.16  0.88 1.55  0.40 -0.41  0.10  0.59 -0.27  0.82  0.75  ...  0.54 -1.12   \n",
       "\n",
       "    V16   V17   V18   V19   V20   V21   V27  Class  \n",
       "0 -0.47  0.21  0.03  0.40  0.25 -0.02  0.13      0  \n",
       "1  0.46 -0.11 -0.18 -0.15 -0.07 -0.23 -0.01      0  \n",
       "2 -2.89  1.11 -0.12 -2.26  0.52  0.25 -0.06      0  \n",
       "3 -1.06 -0.68  1.97 -1.23 -0.21 -0.11  0.06      0  \n",
       "4 -0.45 -0.24 -0.04  0.80  0.41 -0.01  0.22      0  \n",
       "\n",
       "[5 rows x 21 columns]"
      ]
     },
     "execution_count": 14,
     "metadata": {},
     "output_type": "execute_result"
    }
   ],
   "source": [
    "# Model 2: Seleksi Fitur dari Skor ANOVA\n",
    "featurescore = pd.DataFrame(\n",
    "    data=SelectKBest(score_func=f_classif, k='all').fit(data.loc[:, :'Amount'], data.loc[:, 'Class']).scores_,\n",
    "    index=data.loc[:, :'Amount'].columns,\n",
    "    columns=[\"ANOVA Score\"]\n",
    ").sort_values(by=\"ANOVA Score\", ascending=False)\n",
    "\n",
    "# Menghapus fitur dengan skor ANOVA terendah (selain 20 teratas)\n",
    "model2 = data.drop(columns=list(featurescore.index[20:]))\n",
    "model2.head()"
   ]
  },
  {
   "cell_type": "markdown",
   "id": "f4dcd9b7",
   "metadata": {},
   "source": [
    "## **Data Splitting Untuk Training dan Testing**"
   ]
  },
  {
   "cell_type": "markdown",
   "id": "b3c15a43",
   "metadata": {},
   "source": [
    "Pemisahan Data Latih dan Data Uji merupakan langkah koreksi yang paling penting untuk mencegah kebocoran data. Set data asli (sebelum balance) dibagi menjadi data latih dan data uji. Data uji ini akan disimpan dan tidak akan digunakan hingga tahap evaluasi akhir, sehingga memastikan objektivitas pengujian model."
   ]
  },
  {
   "cell_type": "code",
   "execution_count": 15,
   "id": "90c6ef6b",
   "metadata": {},
   "outputs": [],
   "source": [
    "# Pemisahan Data untuk Model 1\n",
    "X1 = model1.drop('Class', axis=1)\n",
    "y1 = model1['Class']\n",
    "x_train1, x_test1, y_train1, y_test1 = train_test_split(X1, y1, test_size=0.20, random_state=2, stratify=y1)\n",
    "\n",
    "# Pemisahan Data untuk Model 2\n",
    "X2 = model2.drop('Class', axis=1)\n",
    "y2 = model2['Class']\n",
    "x_train2, x_test2, y_train2, y_test2 = train_test_split(X2, y2, test_size=0.20, random_state=2, stratify=y2)"
   ]
  },
  {
   "cell_type": "markdown",
   "id": "700dc535",
   "metadata": {},
   "source": [
    "## **Balancing Data training**"
   ]
  },
  {
   "cell_type": "markdown",
   "id": "76e1faaa",
   "metadata": {},
   "source": [
    "Setelah data dipisah, teknik penyeimbangan data (kombinasi undersampling dan SMOTE) diterapkan. Penting untuk dicatat bahwa proses ini hanya dilakukan pada data latih. Hal ini bertujuan untuk melatih model pada data yang proporsional tanpa memberikan informasi apapun dari data uji ke dalam proses pelatihan."
   ]
  },
  {
   "cell_type": "markdown",
   "id": "76302f2c",
   "metadata": {},
   "source": [
    "**SMOTE**\n",
    "\n",
    "**Synthetic Minority Over-sampling Technique** (**SMOTE**) adalah sebuah metode yang digunakan untuk mengatasi Unbalance class dalam dataset dengan cara menciptakan data baru untuk class non-dominan. Proses ini melibatkan identifikasi titik data yang berdekatan dalam ruang fitur. **SMOTE** secara efektif memperbanyak representasi class non-dominan dalam dataset tanpa duplikasi data yang ada."
   ]
  },
  {
   "cell_type": "code",
   "execution_count": 16,
   "id": "b6768895",
   "metadata": {},
   "outputs": [],
   "source": [
    "# Mendefinisikan strategi balancing\n",
    "over = SMOTE(sampling_strategy=0.5, random_state=42)\n",
    "under = RandomUnderSampler(sampling_strategy=0.1, random_state=42)"
   ]
  },
  {
   "cell_type": "markdown",
   "id": "5e5df278",
   "metadata": {},
   "source": [
    "#### Data Balancing untuk model Correlation"
   ]
  },
  {
   "cell_type": "code",
   "execution_count": 17,
   "id": "aa582a3c",
   "metadata": {},
   "outputs": [],
   "source": [
    "# Menerapkan pipeline balancing pada data latih untuk Model 1\n",
    "pipeline1 = Pipeline(steps=[('u', under), ('o', over)])\n",
    "x_train1_res, y_train1_res = pipeline1.fit_resample(x_train1, y_train1)"
   ]
  },
  {
   "cell_type": "markdown",
   "id": "dd54b7cd",
   "metadata": {},
   "source": [
    "#### Data Balancing untuk model ANOVA Score"
   ]
  },
  {
   "cell_type": "code",
   "execution_count": 18,
   "id": "ee7fc6d2",
   "metadata": {},
   "outputs": [],
   "source": [
    "# Menerapkan pipeline balancing pada data latih untuk Model 2\n",
    "pipeline2 = Pipeline(steps=[('u', under), ('o', over)])\n",
    "x_train2_res, y_train2_res = pipeline2.fit_resample(x_train2, y_train2)"
   ]
  },
  {
   "cell_type": "markdown",
   "id": "83c8b6fd",
   "metadata": {},
   "source": [
    "## **Training dan Evaluasi Model**"
   ]
  },
  {
   "cell_type": "markdown",
   "id": "1394408a",
   "metadata": {},
   "source": [
    "Pada tahap ini, setiap model klasifikasi dilatih menggunakan data latih yang telah diseimbangkan, kemudian kinerjanya diuji pada data uji yang asli dan tidak seimbang."
   ]
  },
  {
   "cell_type": "code",
   "execution_count": 19,
   "id": "22a8fe33",
   "metadata": {},
   "outputs": [
    {
     "name": "stdout",
     "output_type": "stream",
     "text": [
      "==================================================\n",
      "Analisis Model Berbasis Fitur Korelasi\n",
      "==================================================\n"
     ]
    },
    {
     "data": {
      "image/png": "[encoded data removed]",
      "text/plain": [
       "<Figure size 1000x700 with 1 Axes>"
      ]
     },
     "metadata": {},
     "output_type": "display_data"
    },
    {
     "name": "stdout",
     "output_type": "stream",
     "text": [
      "\n",
      "==================================================\n",
      "Analisis Model Berbasis Skor ANOVA\n",
      "==================================================\n"
     ]
    },
    {
     "data": {
      "image/png": "[encoded data removed]",
      "text/plain": [
       "<Figure size 1000x700 with 1 Axes>"
      ]
     },
     "metadata": {},
     "output_type": "display_data"
    }
   ],
   "source": [
    "# Daftar model klasifikasi yang akan diuji\n",
    "models = [\n",
    "    (\"Logistic Regression\", LogisticRegression(random_state=0, C=10, penalty='l2', max_iter=1000)),\n",
    "    (\"Support Vector Classifier\", SVC(kernel='linear', C=0.1, probability=True, random_state=42)),\n",
    "    (\"Decision Tree Classifier\", DecisionTreeClassifier(random_state=1000, max_depth=4, min_samples_leaf=1)),\n",
    "    (\"Random Forest Classifier\", RandomForestClassifier(max_depth=4, random_state=0)),\n",
    "    (\"K-Nearest Neighbors\", KNeighborsClassifier(leaf_size=1, n_neighbors=3, p=1))\n",
    "]\n",
    "\n",
    "# --- Pelatihan dan Evaluasi untuk Model 1 (Fitur Korelasi) ---\n",
    "print(\"=\"*50)\n",
    "print(\"Analisis Model Berbasis Fitur Korelasi\")\n",
    "print(\"=\"*50)\n",
    "\n",
    "# Visualisasi Kurva ROC untuk semua model pada set data Model 1\n",
    "plt.figure(figsize=(10, 7))\n",
    "for name, clf in models:\n",
    "    clf.fit(x_train1_res, y_train1_res)\n",
    "    y_pred_proba = clf.predict_proba(x_test1)[:,1]\n",
    "    fpr, tpr, _ = roc_curve(y_test1, y_pred_proba)\n",
    "    auc = roc_auc_score(y_test1, y_pred_proba)\n",
    "    plt.plot(fpr, tpr, label=f'{name} (AUC = {auc:.4f})')\n",
    "\n",
    "plt.title('Kurva ROC untuk Model Berbasis Korelasi', fontsize=14)\n",
    "plt.xlabel('False Positive Rate')\n",
    "plt.ylabel('True Positive Rate')\n",
    "plt.legend(loc='lower right')\n",
    "plt.plot([0, 1], [0, 1], 'r--')\n",
    "plt.grid(True)\n",
    "plt.show()\n",
    "\n",
    "\n",
    "# --- Pelatihan dan Evaluasi untuk Model 2 (Fitur ANOVA) ---\n",
    "print(\"\\n\" + \"=\"*50)\n",
    "print(\"Analisis Model Berbasis Skor ANOVA\")\n",
    "print(\"=\"*50)\n",
    "\n",
    "# Visualisasi Kurva ROC untuk semua model pada set data Model 2\n",
    "plt.figure(figsize=(10, 7))\n",
    "for name, clf in models:\n",
    "    clf.fit(x_train2_res, y_train2_res)\n",
    "    y_pred_proba = clf.predict_proba(x_test2)[:,1]\n",
    "    fpr, tpr, _ = roc_curve(y_test2, y_pred_proba)\n",
    "    auc = roc_auc_score(y_test2, y_pred_proba)\n",
    "    plt.plot(fpr, tpr, label=f'{name} (AUC = {auc:.4f})')\n",
    "\n",
    "plt.title('Kurva ROC untuk Model Berbasis Skor ANOVA', fontsize=14)\n",
    "plt.xlabel('False Positive Rate')\n",
    "plt.ylabel('True Positive Rate')\n",
    "plt.legend(loc='lower right')\n",
    "plt.plot([0, 1], [0, 1], 'r--')\n",
    "plt.grid(True)\n",
    "plt.show()"
   ]
  },
  {
   "cell_type": "markdown",
   "id": "216f9fe8",
   "metadata": {},
   "source": [
    "## **Rangkuman Hasil Akhir**"
   ]
  },
  {
   "cell_type": "markdown",
   "id": "7c68c1ae",
   "metadata": {},
   "source": [
    "Langkah terakhir adalah membuat tabel rangkuman untuk membandingkan metrik performa utama dari setiap model pada kedua skenario seleksi fitur. Ini mempermudah dalam penentuan model mana yang paling optimal untuk kasus penggunaan ini."
   ]
  },
  {
   "cell_type": "code",
   "execution_count": null,
   "id": "8e750ca6",
   "metadata": {},
   "outputs": [
    {
     "name": "stdout",
     "output_type": "stream",
     "text": [
      "### Tabel Hasil: Plot Korelasi (Telah Dikoreksi) ###\n"
     ]
    },
    {
     "data": {
      "application/vnd.microsoft.datawrangler.viewer.v0+json": {
       "columns": [
        {
         "name": "index",
         "rawType": "int64",
         "type": "integer"
        },
        {
         "name": "No.",
         "rawType": "int64",
         "type": "integer"
        },
        {
         "name": "ML Algorithm",
         "rawType": "object",
         "type": "string"
        },
        {
         "name": "Cross Validation ROC AUC",
         "rawType": "object",
         "type": "string"
        },
        {
         "name": "Test ROC AUC",
         "rawType": "object",
         "type": "string"
        },
        {
         "name": "F1 Score (Fraud)",
         "rawType": "object",
         "type": "string"
        }
       ],
       "ref": "441710ad-446d-4839-b108-e25e8dcb17e5",
       "rows": [
        [
         "0",
         "1",
         "Logistic Regression",
         "98.13%",
         "97.99%",
         "20.37%"
        ],
        [
         "1",
         "2",
         "Support Vector Classifier",
         "98.04%",
         "97.81%",
         "26.41%"
        ],
        [
         "2",
         "3",
         "Decision Tree Classifier",
         "97.20%",
         "96.03%",
         "46.68%"
        ],
        [
         "3",
         "4",
         "Random Forest Classifier",
         "98.09%",
         "97.81%",
         "45.76%"
        ],
        [
         "4",
         "5",
         "K-Nearest Neighbors",
         "99.33%",
         "95.81%",
         "12.90%"
        ]
       ],
       "shape": {
        "columns": 5,
        "rows": 5
       }
      },
      "text/html": [
       "<div>\n",
       "<style scoped>\n",
       "    .dataframe tbody tr th:only-of-type {\n",
       "        vertical-align: middle;\n",
       "    }\n",
       "\n",
       "    .dataframe tbody tr th {\n",
       "        vertical-align: top;\n",
       "    }\n",
       "\n",
       "    .dataframe thead th {\n",
       "        text-align: right;\n",
       "    }\n",
       "</style>\n",
       "<table border=\"1\" class=\"dataframe\">\n",
       "  <thead>\n",
       "    <tr style=\"text-align: right;\">\n",
       "      <th></th>\n",
       "      <th>No.</th>\n",
       "      <th>ML Algorithm</th>\n",
       "      <th>Cross Validation ROC AUC</th>\n",
       "      <th>Test ROC AUC</th>\n",
       "      <th>F1 Score (Fraud)</th>\n",
       "    </tr>\n",
       "  </thead>\n",
       "  <tbody>\n",
       "    <tr>\n",
       "      <th>0</th>\n",
       "      <td>1</td>\n",
       "      <td>Logistic Regression</td>\n",
       "      <td>98.13%</td>\n",
       "      <td>97.99%</td>\n",
       "      <td>20.37%</td>\n",
       "    </tr>\n",
       "    <tr>\n",
       "      <th>1</th>\n",
       "      <td>2</td>\n",
       "      <td>Support Vector Classifier</td>\n",
       "      <td>98.04%</td>\n",
       "      <td>97.81%</td>\n",
       "      <td>26.41%</td>\n",
       "    </tr>\n",
       "    <tr>\n",
       "      <th>2</th>\n",
       "      <td>3</td>\n",
       "      <td>Decision Tree Classifier</td>\n",
       "      <td>97.20%</td>\n",
       "      <td>96.03%</td>\n",
       "      <td>46.68%</td>\n",
       "    </tr>\n",
       "    <tr>\n",
       "      <th>3</th>\n",
       "      <td>4</td>\n",
       "      <td>Random Forest Classifier</td>\n",
       "      <td>98.09%</td>\n",
       "      <td>97.81%</td>\n",
       "      <td>45.76%</td>\n",
       "    </tr>\n",
       "    <tr>\n",
       "      <th>4</th>\n",
       "      <td>5</td>\n",
       "      <td>K-Nearest Neighbors</td>\n",
       "      <td>99.33%</td>\n",
       "      <td>95.81%</td>\n",
       "      <td>12.90%</td>\n",
       "    </tr>\n",
       "  </tbody>\n",
       "</table>\n",
       "</div>"
      ],
      "text/plain": [
       "   No.               ML Algorithm Cross Validation ROC AUC Test ROC AUC  \\\n",
       "0    1        Logistic Regression                   98.13%       97.99%   \n",
       "1    2  Support Vector Classifier                   98.04%       97.81%   \n",
       "2    3   Decision Tree Classifier                   97.20%       96.03%   \n",
       "3    4   Random Forest Classifier                   98.09%       97.81%   \n",
       "4    5        K-Nearest Neighbors                   99.33%       95.81%   \n",
       "\n",
       "  F1 Score (Fraud)  \n",
       "0           20.37%  \n",
       "1           26.41%  \n",
       "2           46.68%  \n",
       "3           45.76%  \n",
       "4           12.90%  "
      ]
     },
     "metadata": {},
     "output_type": "display_data"
    },
    {
     "name": "stdout",
     "output_type": "stream",
     "text": [
      "\n",
      "### Tabel Hasil: Skor ANOVA (Telah Dikoreksi) ###\n"
     ]
    },
    {
     "data": {
      "application/vnd.microsoft.datawrangler.viewer.v0+json": {
       "columns": [
        {
         "name": "index",
         "rawType": "int64",
         "type": "integer"
        },
        {
         "name": "No.",
         "rawType": "int64",
         "type": "integer"
        },
        {
         "name": "ML Algorithm",
         "rawType": "object",
         "type": "string"
        },
        {
         "name": "Cross Validation ROC AUC",
         "rawType": "object",
         "type": "string"
        },
        {
         "name": "Test ROC AUC",
         "rawType": "object",
         "type": "string"
        },
        {
         "name": "F1 Score (Fraud)",
         "rawType": "object",
         "type": "string"
        }
       ],
       "ref": "9fd577b3-4ef0-4345-b9fd-70dda03e1b78",
       "rows": [
        [
         "0",
         "1",
         "Logistic Regression",
         "98.28%",
         "98.26%",
         "22.14%"
        ],
        [
         "1",
         "2",
         "Support Vector Classifier",
         "98.12%",
         "98.13%",
         "29.28%"
        ],
        [
         "2",
         "3",
         "Decision Tree Classifier",
         "96.77%",
         "95.31%",
         "17.06%"
        ],
        [
         "3",
         "4",
         "Random Forest Classifier",
         "98.04%",
         "98.00%",
         "59.79%"
        ],
        [
         "4",
         "5",
         "K-Nearest Neighbors",
         "99.64%",
         "95.86%",
         "14.23%"
        ]
       ],
       "shape": {
        "columns": 5,
        "rows": 5
       }
      },
      "text/html": [
       "<div>\n",
       "<style scoped>\n",
       "    .dataframe tbody tr th:only-of-type {\n",
       "        vertical-align: middle;\n",
       "    }\n",
       "\n",
       "    .dataframe tbody tr th {\n",
       "        vertical-align: top;\n",
       "    }\n",
       "\n",
       "    .dataframe thead th {\n",
       "        text-align: right;\n",
       "    }\n",
       "</style>\n",
       "<table border=\"1\" class=\"dataframe\">\n",
       "  <thead>\n",
       "    <tr style=\"text-align: right;\">\n",
       "      <th></th>\n",
       "      <th>No.</th>\n",
       "      <th>ML Algorithm</th>\n",
       "      <th>Cross Validation ROC AUC</th>\n",
       "      <th>Test ROC AUC</th>\n",
       "      <th>F1 Score (Fraud)</th>\n",
       "    </tr>\n",
       "  </thead>\n",
       "  <tbody>\n",
       "    <tr>\n",
       "      <th>0</th>\n",
       "      <td>1</td>\n",
       "      <td>Logistic Regression</td>\n",
       "      <td>98.28%</td>\n",
       "      <td>98.26%</td>\n",
       "      <td>22.14%</td>\n",
       "    </tr>\n",
       "    <tr>\n",
       "      <th>1</th>\n",
       "      <td>2</td>\n",
       "      <td>Support Vector Classifier</td>\n",
       "      <td>98.12%</td>\n",
       "      <td>98.13%</td>\n",
       "      <td>29.28%</td>\n",
       "    </tr>\n",
       "    <tr>\n",
       "      <th>2</th>\n",
       "      <td>3</td>\n",
       "      <td>Decision Tree Classifier</td>\n",
       "      <td>96.77%</td>\n",
       "      <td>95.31%</td>\n",
       "      <td>17.06%</td>\n",
       "    </tr>\n",
       "    <tr>\n",
       "      <th>3</th>\n",
       "      <td>4</td>\n",
       "      <td>Random Forest Classifier</td>\n",
       "      <td>98.04%</td>\n",
       "      <td>98.00%</td>\n",
       "      <td>59.79%</td>\n",
       "    </tr>\n",
       "    <tr>\n",
       "      <th>4</th>\n",
       "      <td>5</td>\n",
       "      <td>K-Nearest Neighbors</td>\n",
       "      <td>99.64%</td>\n",
       "      <td>95.86%</td>\n",
       "      <td>14.23%</td>\n",
       "    </tr>\n",
       "  </tbody>\n",
       "</table>\n",
       "</div>"
      ],
      "text/plain": [
       "   No.               ML Algorithm Cross Validation ROC AUC Test ROC AUC  \\\n",
       "0    1        Logistic Regression                   98.28%       98.26%   \n",
       "1    2  Support Vector Classifier                   98.12%       98.13%   \n",
       "2    3   Decision Tree Classifier                   96.77%       95.31%   \n",
       "3    4   Random Forest Classifier                   98.04%       98.00%   \n",
       "4    5        K-Nearest Neighbors                   99.64%       95.86%   \n",
       "\n",
       "  F1 Score (Fraud)  \n",
       "0           22.14%  \n",
       "1           29.28%  \n",
       "2           17.06%  \n",
       "3           59.79%  \n",
       "4           14.23%  "
      ]
     },
     "metadata": {},
     "output_type": "display_data"
    }
   ],
   "source": [
    "# Fungsi untuk menghasilkan tabel metrik rangkuman\n",
    "def get_summary_metrics(models, x_train_res, y_train_res, x_test, y_test):\n",
    "    records = []\n",
    "    for idx, (name, clf) in enumerate(models, start=1):\n",
    "        clf.fit(x_train_res, y_train_res)\n",
    "        cv = RepeatedStratifiedKFold(n_splits=10, n_repeats=3, random_state=1)\n",
    "        # Validasi silang pada data latih yang sudah diseimbangkan\n",
    "        cv_score = cross_val_score(clf, x_train_res, y_train_res, cv=cv, scoring='roc_auc').mean()\n",
    "        # Evaluasi pada data uji orisinal\n",
    "        y_pred_proba = clf.predict_proba(x_test)[:,1]\n",
    "        roc_auc = roc_auc_score(y_test, y_pred_proba)\n",
    "        f1 = f1_score(y_test, clf.predict(x_test))\n",
    "        records.append({\n",
    "            \"No.\": idx,\n",
    "            \"ML Algorithm\": name,\n",
    "            \"Cross Validation ROC AUC\": f\"{cv_score:.2%}\",\n",
    "            \"Test ROC AUC\": f\"{roc_auc:.2%}\",\n",
    "            \"F1 Score (Fraud)\": f\"{f1:.2%}\"\n",
    "        })\n",
    "    return pd.DataFrame(records)\n",
    "\n",
    "# --- Menampilkan Tabel Rangkuman ---\n",
    "\n",
    "print(\"### Tabel Hasil: Plot Korelasi (Telah Dikoreksi) ###\")\n",
    "results_corr = get_summary_metrics(models, x_train1_res, y_train1_res, x_test1, y_test1)\n",
    "display(results_corr)\n",
    "\n",
    "print(\"\\n### Tabel Hasil: Skor ANOVA (Telah Dikoreksi) ###\")\n",
    "results_anova = get_summary_metrics(models, x_train2_res, y_train2_res, x_test2, y_test2)\n",
    "display(results_anova)"
   ]
  },
  {
   "cell_type": "markdown",
   "id": "a4324911",
   "metadata": {},
   "source": [
    "Dengan mengubah urutan dari Balancing -> Split -> Train -> Test (salah) menjadi Split -> Balance Training Data -> Train -> Test (benar), kebocoran data dapat diatasi sepenuhnya. Alur kerja yang telah diperbaiki ini memastikan bahwa evaluasi model mencerminkan kemampuan generalisasi yang sesungguhnya terhadap data baru."
   ]
  },
  {
   "cell_type": "markdown",
   "id": "3cdaef6f",
   "metadata": {},
   "source": [
    "## **Kesimpulan Otomatis Berdasarkan Performa Model**"
   ]
  },
  {
   "cell_type": "code",
   "execution_count": 21,
   "id": "e2614687",
   "metadata": {},
   "outputs": [
    {
     "name": "stdout",
     "output_type": "stream",
     "text": [
      "\n",
      "========================= KESIMPULAN =========================\n",
      "\n",
      "Berdasarkan evaluasi komparatif dari metrik F1-Score, model dengan kinerja terbaik adalah 'Random Forest Classifier'.\n",
      "Performa optimal ini dicapai saat model dilatih menggunakan set fitur dari 'Skor ANOVA'.\n",
      "Model tersebut berhasil mencapai F1-Score sebesar 59.79% untuk mendeteksi kasus penipuan (fraud).\n",
      "\n",
      "Analisis:\n",
      "F1-Score menjadi metrik acuan utama karena mampu memberikan penilaian yang seimbang antara Precision dan Recall.\n",
      "Dalam konteks deteksi penipuan, hal ini sangat krusial. Nilai F1-Score yang tinggi pada model K-Nearest Neighbors\n",
      "mengindikasikan bahwa model tersebut tidak hanya efektif dalam memaksimalkan deteksi kasus penipuan (recall tinggi),\n",
      "tetapi juga mampu meminimalkan jumlah transaksi sah yang keliru diklasifikasikan sebagai penipuan (precision tinggi).\n",
      "==============================================================\n"
     ]
    }
   ],
   "source": [
    "# Menambahkan kolom untuk mengidentifikasi asal set fitur\n",
    "results_corr['Metode Fitur'] = 'Plot Korelasi'\n",
    "results_anova['Metode Fitur'] = 'Skor ANOVA'\n",
    "\n",
    "# Menggabungkan kedua hasil evaluasi ke dalam satu DataFrame\n",
    "all_results_df = pd.concat([results_corr, results_anova], ignore_index=True)\n",
    "\n",
    "# Mengonversi F1-Score dari string ke numerik untuk proses pengurutan\n",
    "# (menghilangkan '%' dan mengubah tipe data)\n",
    "all_results_df['F1 Score Numerik'] = all_results_df['F1 Score (Fraud)'].str.replace('%', '', regex=False).astype(float)\n",
    "\n",
    "# Mengurutkan DataFrame berdasarkan F1-Score tertinggi\n",
    "sorted_results = all_results_df.sort_values(by='F1 Score Numerik', ascending=False)\n",
    "\n",
    "# Mengambil informasi dari model terbaik (baris pertama setelah diurutkan)\n",
    "best_model_info = sorted_results.iloc[0]\n",
    "best_model_name = best_model_info['ML Algorithm']\n",
    "best_f1_score_str = best_model_info['F1 Score (Fraud)']\n",
    "best_feature_set = best_model_info['Metode Fitur']\n",
    "\n",
    "# Mencetak kesimpulan\n",
    "print(\"\\n\" + \"=\"*25 + \" KESIMPULAN \" + \"=\"*25)\n",
    "print(f\"\\nBerdasarkan evaluasi komparatif dari metrik F1-Score, model dengan kinerja terbaik adalah '{best_model_name}'.\")\n",
    "print(f\"Performa optimal ini dicapai saat model dilatih menggunakan set fitur dari '{best_feature_set}'.\")\n",
    "print(f\"Model tersebut berhasil mencapai F1-Score sebesar {best_f1_score_str} untuk mendeteksi kasus penipuan (fraud).\")\n",
    "print(\"\\nAnalisis:\")\n",
    "print(\"F1-Score menjadi metrik acuan utama karena mampu memberikan penilaian yang seimbang antara Precision dan Recall.\")\n",
    "print(\"Dalam konteks deteksi penipuan, hal ini sangat krusial. Nilai F1-Score yang tinggi pada model K-Nearest Neighbors\")\n",
    "print(\"mengindikasikan bahwa model tersebut tidak hanya efektif dalam memaksimalkan deteksi kasus penipuan (recall tinggi),\")\n",
    "print(\"tetapi juga mampu meminimalkan jumlah transaksi sah yang keliru diklasifikasikan sebagai penipuan (precision tinggi).\")\n",
    "print(\"=\"*62)"
   ]
  },
  {
   "cell_type": "markdown",
   "id": "fe104262",
   "metadata": {},
   "source": []
  },
  {
   "cell_type": "markdown",
   "id": "fb8a0553",
   "metadata": {},
   "source": [
    "## **Referensi** \n",
    "1.  Bachmann, J. (2018). *Credit Fraud: Dealing with Imbalanced Datasets* [Notebook]. Kaggle. https://www.kaggle.com/code/janiobachmann/credit-fraud-dealing-with-imbalanced-datasets/notebook\n",
    "2.  Rutecki, M. (2018). *SMOTE and Tomek Links for Imbalanced Data* [Notebook]. Kaggle. https://www.kaggle.com/code/marcinrutecki/smote-and-tomek-links-for-imbalanced-data/notebook\n",
    "3.  Kabure. (2018). *Credit Card Fraud Prediction: RF & SMOTE* [Notebook]. Kaggle. https://www.kaggle.com/code/kabure/credit-card-fraud-prediction-rf-smote"
   ]
  }
 ],
 "metadata": {
  "kernelspec": {
   "display_name": "Python 3",
   "language": "python",
   "name": "python3"
  },
  "language_info": {
   "codemirror_mode": {
    "name": "ipython",
    "version": 3
   },
   "file_extension": ".py",
   "mimetype": "text/x-python",
   "name": "python",
   "nbconvert_exporter": "python",
   "pygments_lexer": "ipython3",
   "version": "3.13.3"
  }
 },
 "nbformat": 4,
 "nbformat_minor": 5
}
