{
 "cells": [
  {
   "cell_type": "markdown",
   "id": "ac21a0cd",
   "metadata": {},
   "source": [
    "**Credit Card Fraud Detection System Using Supervised Machine Random Forest**\n",
    "===\n",
    "---\n",
    "**Author:** *Muhammad Wira Widhana [24.55.2717];&nbsp;&nbsp;Yehezkiel Budi Hermawan [24.55.2710];&nbsp;&nbsp;Althof Fauzan Fahmi [24.55.2719]*\n"
   ]
  },
  {
   "cell_type": "markdown",
   "id": "fc1456df",
   "metadata": {},
   "source": [
    "### **Tentang Dataset**\n",
    "---\n",
    "\n",
    " **Konteks**\n",
    "\n",
    "Dataset ini disajikan untuk menjawab tantangan penting dalam industri keuangan, yaitu bagaimana mengidentifikasi transaksi kartu kredit yang bersifat menipu (fraudulent). Dengan menyediakan data transaksi yang realistis, dataset ini dapat dimanfaatkan untuk melatih dan menguji model deteksi anomali sehingga dapat melindungi nasabah dari kerugian finansial akibat penyalahgunaan kartu.\n",
    "\n",
    " **Content**\n",
    "\n",
    "Data yang disajikan merupakan hasil simulasi transaksi kartu kredit yang mencakup periode waktu dari 1 Januari 2019 hingga 31 Desember 2020. Dataset ini dirancang untuk mencerminkan skenario dunia nyata dengan melibatkan 1000 nasabah yang melakukan transaksi dengan 800 merchant berbeda. Di dalamnya, terdapat dua jenis data transaksi, yaitu transaksi yang sah (legitimate) dan transaksi penipuan (fraud). \n",
    "\n",
    "**link dataset :** https://www.kaggle.com/datasets/kartik2112/fraud-detection/data\n",
    "\n"
   ]
  },
  {
   "cell_type": "markdown",
   "id": "45b2aee8",
   "metadata": {},
   "source": [
    "## 1. Import Library"
   ]
  },
  {
   "cell_type": "markdown",
   "id": "c9cf1bd0",
   "metadata": {},
   "source": [
    "Langkah awal adalah mengimpor semua library yang diperlukan untuk analisis data, pra-pemrosesan, pemodelan, evaluasi, dan visualisasi."
   ]
  },
  {
   "cell_type": "code",
   "execution_count": 1,
   "id": "289274e0",
   "metadata": {},
   "outputs": [],
   "source": [
    "# Import library dasar untuk analisis dan visualisasi\n",
    "import pandas as pd\n",
    "import numpy as np\n",
    "import matplotlib.pyplot as plt\n",
    "import seaborn as sns\n",
    "from IPython.display import display\n",
    "import warnings\n",
    "\n",
    "# Import library untuk pra-pemrosesan dan pemodelan\n",
    "from sklearn.model_selection import train_test_split\n",
    "from sklearn.preprocessing import StandardScaler, OneHotEncoder, LabelEncoder\n",
    "from sklearn.compose import ColumnTransformer\n",
    "from sklearn.pipeline import Pipeline\n",
    "from imblearn.over_sampling import SMOTE\n",
    "\n",
    "# Import model-model klasifikasi\n",
    "from sklearn.linear_model import LogisticRegression\n",
    "from sklearn.tree import DecisionTreeClassifier\n",
    "from sklearn.ensemble import RandomForestClassifier\n",
    "from sklearn.neighbors import KNeighborsClassifier\n",
    "import lightgbm as lgb\n",
    "\n",
    "# Import metrik evaluasi\n",
    "from sklearn.metrics import classification_report, confusion_matrix, accuracy_score, precision_score, recall_score, f1_score\n",
    "\n",
    "# Mengabaikan peringatan agar output lebih bersih\n",
    "warnings.filterwarnings('ignore')"
   ]
  },
  {
   "cell_type": "markdown",
   "id": "47ca6b03",
   "metadata": {},
   "source": [
    "## 2. Pemuatan dan Analisis Data Eksplorasi (EDA)"
   ]
  },
  {
   "cell_type": "markdown",
   "id": "5ef8c119",
   "metadata": {},
   "source": [
    "Tahap ini sesuai dengan langkah `Loading Data` dan `Is Data Balance?` pada flowchart. Data latih dan uji dimuat, kemudian dilakukan analisis awal untuk memahami karakteristik data, termasuk memeriksa nilai yang hilang dan melihat distribusi kelas target."
   ]
  },
  {
   "cell_type": "code",
   "execution_count": 2,
   "id": "8c32d4dc",
   "metadata": {},
   "outputs": [
    {
     "name": "stdout",
     "output_type": "stream",
     "text": [
      "5 Baris Pertama Data Latih:\n"
     ]
    },
    {
     "data": {
      "application/vnd.microsoft.datawrangler.viewer.v0+json": {
       "columns": [
        {
         "name": "index",
         "rawType": "int64",
         "type": "integer"
        },
        {
         "name": "Unnamed: 0",
         "rawType": "int64",
         "type": "integer"
        },
        {
         "name": "trans_date_trans_time",
         "rawType": "object",
         "type": "string"
        },
        {
         "name": "cc_num",
         "rawType": "int64",
         "type": "integer"
        },
        {
         "name": "merchant",
         "rawType": "object",
         "type": "string"
        },
        {
         "name": "category",
         "rawType": "object",
         "type": "string"
        },
        {
         "name": "amt",
         "rawType": "float64",
         "type": "float"
        },
        {
         "name": "first",
         "rawType": "object",
         "type": "string"
        },
        {
         "name": "last",
         "rawType": "object",
         "type": "string"
        },
        {
         "name": "gender",
         "rawType": "object",
         "type": "string"
        },
        {
         "name": "street",
         "rawType": "object",
         "type": "string"
        },
        {
         "name": "city",
         "rawType": "object",
         "type": "string"
        },
        {
         "name": "state",
         "rawType": "object",
         "type": "string"
        },
        {
         "name": "zip",
         "rawType": "int64",
         "type": "integer"
        },
        {
         "name": "lat",
         "rawType": "float64",
         "type": "float"
        },
        {
         "name": "long",
         "rawType": "float64",
         "type": "float"
        },
        {
         "name": "city_pop",
         "rawType": "int64",
         "type": "integer"
        },
        {
         "name": "job",
         "rawType": "object",
         "type": "string"
        },
        {
         "name": "dob",
         "rawType": "object",
         "type": "string"
        },
        {
         "name": "trans_num",
         "rawType": "object",
         "type": "string"
        },
        {
         "name": "unix_time",
         "rawType": "int64",
         "type": "integer"
        },
        {
         "name": "merch_lat",
         "rawType": "float64",
         "type": "float"
        },
        {
         "name": "merch_long",
         "rawType": "float64",
         "type": "float"
        },
        {
         "name": "is_fraud",
         "rawType": "int64",
         "type": "integer"
        }
       ],
       "ref": "66d5a5c3-4b33-4ef6-86a6-71a488ffd044",
       "rows": [
        [
         "0",
         "0",
         "2019-01-01 00:00:18",
         "2703186189652095",
         "fraud_Rippin, Kub and Mann",
         "misc_net",
         "4.97",
         "Jennifer",
         "Banks",
         "F",
         "561 Perry Cove",
         "Moravian Falls",
         "NC",
         "28654",
         "36.0788",
         "-81.1781",
         "3495",
         "Psychologist, counselling",
         "1988-03-09",
         "0b242abb623afc578575680df30655b9",
         "1325376018",
         "36.011293",
         "-82.048315",
         "0"
        ],
        [
         "1",
         "1",
         "2019-01-01 00:00:44",
         "630423337322",
         "fraud_Heller, Gutmann and Zieme",
         "grocery_pos",
         "107.23",
         "Stephanie",
         "Gill",
         "F",
         "43039 Riley Greens Suite 393",
         "Orient",
         "WA",
         "99160",
         "48.8878",
         "-118.2105",
         "149",
         "Special educational needs teacher",
         "1978-06-21",
         "1f76529f8574734946361c461b024d99",
         "1325376044",
         "49.159047",
         "-118.186462",
         "0"
        ],
        [
         "2",
         "2",
         "2019-01-01 00:00:51",
         "38859492057661",
         "fraud_Lind-Buckridge",
         "entertainment",
         "220.11",
         "Edward",
         "Sanchez",
         "M",
         "594 White Dale Suite 530",
         "Malad City",
         "ID",
         "83252",
         "42.1808",
         "-112.262",
         "4154",
         "Nature conservation officer",
         "1962-01-19",
         "a1a22d70485983eac12b5b88dad1cf95",
         "1325376051",
         "43.150704",
         "-112.154481",
         "0"
        ],
        [
         "3",
         "3",
         "2019-01-01 00:01:16",
         "3534093764340240",
         "fraud_Kutch, Hermiston and Farrell",
         "gas_transport",
         "45.0",
         "Jeremy",
         "White",
         "M",
         "9443 Cynthia Court Apt. 038",
         "Boulder",
         "MT",
         "59632",
         "46.2306",
         "-112.1138",
         "1939",
         "Patent attorney",
         "1967-01-12",
         "6b849c168bdad6f867558c3793159a81",
         "1325376076",
         "47.034331",
         "-112.561071",
         "0"
        ],
        [
         "4",
         "4",
         "2019-01-01 00:03:06",
         "375534208663984",
         "fraud_Keeling-Crist",
         "misc_pos",
         "41.96",
         "Tyler",
         "Garcia",
         "M",
         "408 Bradley Rest",
         "Doe Hill",
         "VA",
         "24433",
         "38.4207",
         "-79.4629",
         "99",
         "Dance movement psychotherapist",
         "1986-03-28",
         "a41d7549acf90789359a9aa5346dcb46",
         "1325376186",
         "38.674999",
         "-78.632459",
         "0"
        ]
       ],
       "shape": {
        "columns": 23,
        "rows": 5
       }
      },
      "text/html": [
       "<div>\n",
       "<style scoped>\n",
       "    .dataframe tbody tr th:only-of-type {\n",
       "        vertical-align: middle;\n",
       "    }\n",
       "\n",
       "    .dataframe tbody tr th {\n",
       "        vertical-align: top;\n",
       "    }\n",
       "\n",
       "    .dataframe thead th {\n",
       "        text-align: right;\n",
       "    }\n",
       "</style>\n",
       "<table border=\"1\" class=\"dataframe\">\n",
       "  <thead>\n",
       "    <tr style=\"text-align: right;\">\n",
       "      <th></th>\n",
       "      <th>Unnamed: 0</th>\n",
       "      <th>trans_date_trans_time</th>\n",
       "      <th>cc_num</th>\n",
       "      <th>merchant</th>\n",
       "      <th>category</th>\n",
       "      <th>amt</th>\n",
       "      <th>first</th>\n",
       "      <th>last</th>\n",
       "      <th>gender</th>\n",
       "      <th>street</th>\n",
       "      <th>...</th>\n",
       "      <th>lat</th>\n",
       "      <th>long</th>\n",
       "      <th>city_pop</th>\n",
       "      <th>job</th>\n",
       "      <th>dob</th>\n",
       "      <th>trans_num</th>\n",
       "      <th>unix_time</th>\n",
       "      <th>merch_lat</th>\n",
       "      <th>merch_long</th>\n",
       "      <th>is_fraud</th>\n",
       "    </tr>\n",
       "  </thead>\n",
       "  <tbody>\n",
       "    <tr>\n",
       "      <th>0</th>\n",
       "      <td>0</td>\n",
       "      <td>2019-01-01 00:00:18</td>\n",
       "      <td>2703186189652095</td>\n",
       "      <td>fraud_Rippin, Kub and Mann</td>\n",
       "      <td>misc_net</td>\n",
       "      <td>4.97</td>\n",
       "      <td>Jennifer</td>\n",
       "      <td>Banks</td>\n",
       "      <td>F</td>\n",
       "      <td>561 Perry Cove</td>\n",
       "      <td>...</td>\n",
       "      <td>36.0788</td>\n",
       "      <td>-81.1781</td>\n",
       "      <td>3495</td>\n",
       "      <td>Psychologist, counselling</td>\n",
       "      <td>1988-03-09</td>\n",
       "      <td>0b242abb623afc578575680df30655b9</td>\n",
       "      <td>1325376018</td>\n",
       "      <td>36.011293</td>\n",
       "      <td>-82.048315</td>\n",
       "      <td>0</td>\n",
       "    </tr>\n",
       "    <tr>\n",
       "      <th>1</th>\n",
       "      <td>1</td>\n",
       "      <td>2019-01-01 00:00:44</td>\n",
       "      <td>630423337322</td>\n",
       "      <td>fraud_Heller, Gutmann and Zieme</td>\n",
       "      <td>grocery_pos</td>\n",
       "      <td>107.23</td>\n",
       "      <td>Stephanie</td>\n",
       "      <td>Gill</td>\n",
       "      <td>F</td>\n",
       "      <td>43039 Riley Greens Suite 393</td>\n",
       "      <td>...</td>\n",
       "      <td>48.8878</td>\n",
       "      <td>-118.2105</td>\n",
       "      <td>149</td>\n",
       "      <td>Special educational needs teacher</td>\n",
       "      <td>1978-06-21</td>\n",
       "      <td>1f76529f8574734946361c461b024d99</td>\n",
       "      <td>1325376044</td>\n",
       "      <td>49.159047</td>\n",
       "      <td>-118.186462</td>\n",
       "      <td>0</td>\n",
       "    </tr>\n",
       "    <tr>\n",
       "      <th>2</th>\n",
       "      <td>2</td>\n",
       "      <td>2019-01-01 00:00:51</td>\n",
       "      <td>38859492057661</td>\n",
       "      <td>fraud_Lind-Buckridge</td>\n",
       "      <td>entertainment</td>\n",
       "      <td>220.11</td>\n",
       "      <td>Edward</td>\n",
       "      <td>Sanchez</td>\n",
       "      <td>M</td>\n",
       "      <td>594 White Dale Suite 530</td>\n",
       "      <td>...</td>\n",
       "      <td>42.1808</td>\n",
       "      <td>-112.2620</td>\n",
       "      <td>4154</td>\n",
       "      <td>Nature conservation officer</td>\n",
       "      <td>1962-01-19</td>\n",
       "      <td>a1a22d70485983eac12b5b88dad1cf95</td>\n",
       "      <td>1325376051</td>\n",
       "      <td>43.150704</td>\n",
       "      <td>-112.154481</td>\n",
       "      <td>0</td>\n",
       "    </tr>\n",
       "    <tr>\n",
       "      <th>3</th>\n",
       "      <td>3</td>\n",
       "      <td>2019-01-01 00:01:16</td>\n",
       "      <td>3534093764340240</td>\n",
       "      <td>fraud_Kutch, Hermiston and Farrell</td>\n",
       "      <td>gas_transport</td>\n",
       "      <td>45.00</td>\n",
       "      <td>Jeremy</td>\n",
       "      <td>White</td>\n",
       "      <td>M</td>\n",
       "      <td>9443 Cynthia Court Apt. 038</td>\n",
       "      <td>...</td>\n",
       "      <td>46.2306</td>\n",
       "      <td>-112.1138</td>\n",
       "      <td>1939</td>\n",
       "      <td>Patent attorney</td>\n",
       "      <td>1967-01-12</td>\n",
       "      <td>6b849c168bdad6f867558c3793159a81</td>\n",
       "      <td>1325376076</td>\n",
       "      <td>47.034331</td>\n",
       "      <td>-112.561071</td>\n",
       "      <td>0</td>\n",
       "    </tr>\n",
       "    <tr>\n",
       "      <th>4</th>\n",
       "      <td>4</td>\n",
       "      <td>2019-01-01 00:03:06</td>\n",
       "      <td>375534208663984</td>\n",
       "      <td>fraud_Keeling-Crist</td>\n",
       "      <td>misc_pos</td>\n",
       "      <td>41.96</td>\n",
       "      <td>Tyler</td>\n",
       "      <td>Garcia</td>\n",
       "      <td>M</td>\n",
       "      <td>408 Bradley Rest</td>\n",
       "      <td>...</td>\n",
       "      <td>38.4207</td>\n",
       "      <td>-79.4629</td>\n",
       "      <td>99</td>\n",
       "      <td>Dance movement psychotherapist</td>\n",
       "      <td>1986-03-28</td>\n",
       "      <td>a41d7549acf90789359a9aa5346dcb46</td>\n",
       "      <td>1325376186</td>\n",
       "      <td>38.674999</td>\n",
       "      <td>-78.632459</td>\n",
       "      <td>0</td>\n",
       "    </tr>\n",
       "  </tbody>\n",
       "</table>\n",
       "<p>5 rows × 23 columns</p>\n",
       "</div>"
      ],
      "text/plain": [
       "   Unnamed: 0 trans_date_trans_time            cc_num  \\\n",
       "0           0   2019-01-01 00:00:18  2703186189652095   \n",
       "1           1   2019-01-01 00:00:44      630423337322   \n",
       "2           2   2019-01-01 00:00:51    38859492057661   \n",
       "3           3   2019-01-01 00:01:16  3534093764340240   \n",
       "4           4   2019-01-01 00:03:06   375534208663984   \n",
       "\n",
       "                             merchant       category     amt      first  \\\n",
       "0          fraud_Rippin, Kub and Mann       misc_net    4.97   Jennifer   \n",
       "1     fraud_Heller, Gutmann and Zieme    grocery_pos  107.23  Stephanie   \n",
       "2                fraud_Lind-Buckridge  entertainment  220.11     Edward   \n",
       "3  fraud_Kutch, Hermiston and Farrell  gas_transport   45.00     Jeremy   \n",
       "4                 fraud_Keeling-Crist       misc_pos   41.96      Tyler   \n",
       "\n",
       "      last gender                        street  ...      lat      long  \\\n",
       "0    Banks      F                561 Perry Cove  ...  36.0788  -81.1781   \n",
       "1     Gill      F  43039 Riley Greens Suite 393  ...  48.8878 -118.2105   \n",
       "2  Sanchez      M      594 White Dale Suite 530  ...  42.1808 -112.2620   \n",
       "3    White      M   9443 Cynthia Court Apt. 038  ...  46.2306 -112.1138   \n",
       "4   Garcia      M              408 Bradley Rest  ...  38.4207  -79.4629   \n",
       "\n",
       "   city_pop                                job         dob  \\\n",
       "0      3495          Psychologist, counselling  1988-03-09   \n",
       "1       149  Special educational needs teacher  1978-06-21   \n",
       "2      4154        Nature conservation officer  1962-01-19   \n",
       "3      1939                    Patent attorney  1967-01-12   \n",
       "4        99     Dance movement psychotherapist  1986-03-28   \n",
       "\n",
       "                          trans_num   unix_time  merch_lat  merch_long  \\\n",
       "0  0b242abb623afc578575680df30655b9  1325376018  36.011293  -82.048315   \n",
       "1  1f76529f8574734946361c461b024d99  1325376044  49.159047 -118.186462   \n",
       "2  a1a22d70485983eac12b5b88dad1cf95  1325376051  43.150704 -112.154481   \n",
       "3  6b849c168bdad6f867558c3793159a81  1325376076  47.034331 -112.561071   \n",
       "4  a41d7549acf90789359a9aa5346dcb46  1325376186  38.674999  -78.632459   \n",
       "\n",
       "   is_fraud  \n",
       "0         0  \n",
       "1         0  \n",
       "2         0  \n",
       "3         0  \n",
       "4         0  \n",
       "\n",
       "[5 rows x 23 columns]"
      ]
     },
     "metadata": {},
     "output_type": "display_data"
    },
    {
     "name": "stdout",
     "output_type": "stream",
     "text": [
      "\n",
      "Informasi Data Latih:\n",
      "<class 'pandas.core.frame.DataFrame'>\n",
      "RangeIndex: 1296675 entries, 0 to 1296674\n",
      "Data columns (total 23 columns):\n",
      " #   Column                 Non-Null Count    Dtype  \n",
      "---  ------                 --------------    -----  \n",
      " 0   Unnamed: 0             1296675 non-null  int64  \n",
      " 1   trans_date_trans_time  1296675 non-null  object \n",
      " 2   cc_num                 1296675 non-null  int64  \n",
      " 3   merchant               1296675 non-null  object \n",
      " 4   category               1296675 non-null  object \n",
      " 5   amt                    1296675 non-null  float64\n",
      " 6   first                  1296675 non-null  object \n",
      " 7   last                   1296675 non-null  object \n",
      " 8   gender                 1296675 non-null  object \n",
      " 9   street                 1296675 non-null  object \n",
      " 10  city                   1296675 non-null  object \n",
      " 11  state                  1296675 non-null  object \n",
      " 12  zip                    1296675 non-null  int64  \n",
      " 13  lat                    1296675 non-null  float64\n",
      " 14  long                   1296675 non-null  float64\n",
      " 15  city_pop               1296675 non-null  int64  \n",
      " 16  job                    1296675 non-null  object \n",
      " 17  dob                    1296675 non-null  object \n",
      " 18  trans_num              1296675 non-null  object \n",
      " 19  unix_time              1296675 non-null  int64  \n",
      " 20  merch_lat              1296675 non-null  float64\n",
      " 21  merch_long             1296675 non-null  float64\n",
      " 22  is_fraud               1296675 non-null  int64  \n",
      "dtypes: float64(5), int64(6), object(12)\n",
      "memory usage: 227.5+ MB\n",
      "\n",
      "Statistik Deskriptif Data Latih:\n"
     ]
    },
    {
     "data": {
      "application/vnd.microsoft.datawrangler.viewer.v0+json": {
       "columns": [
        {
         "name": "index",
         "rawType": "object",
         "type": "string"
        },
        {
         "name": "Unnamed: 0",
         "rawType": "float64",
         "type": "float"
        },
        {
         "name": "cc_num",
         "rawType": "float64",
         "type": "float"
        },
        {
         "name": "amt",
         "rawType": "float64",
         "type": "float"
        },
        {
         "name": "zip",
         "rawType": "float64",
         "type": "float"
        },
        {
         "name": "lat",
         "rawType": "float64",
         "type": "float"
        },
        {
         "name": "long",
         "rawType": "float64",
         "type": "float"
        },
        {
         "name": "city_pop",
         "rawType": "float64",
         "type": "float"
        },
        {
         "name": "unix_time",
         "rawType": "float64",
         "type": "float"
        },
        {
         "name": "merch_lat",
         "rawType": "float64",
         "type": "float"
        },
        {
         "name": "merch_long",
         "rawType": "float64",
         "type": "float"
        },
        {
         "name": "is_fraud",
         "rawType": "float64",
         "type": "float"
        }
       ],
       "ref": "d7c73f83-6c8d-49bf-8e47-16868595d225",
       "rows": [
        [
         "count",
         "1296675.0",
         "1296675.0",
         "1296675.0",
         "1296675.0",
         "1296675.0",
         "1296675.0",
         "1296675.0",
         "1296675.0",
         "1296675.0",
         "1296675.0",
         "1296675.0"
        ],
        [
         "mean",
         "648337.0",
         "4.1719204207972666e+17",
         "70.35103545607033",
         "48800.67109722945",
         "38.53762161489965",
         "-90.22633537864147",
         "88824.44056297839",
         "1349243636.7261226",
         "38.53733804469971",
         "-90.22646479897277",
         "0.005788651743883394"
        ],
        [
         "std",
         "374317.9744882685",
         "1.3088064470002404e+18",
         "160.31603857152774",
         "26893.2224764859",
         "5.075808438803932",
         "13.759076946486312",
         "301956.360688751",
         "12841278.423359346",
         "5.109788369679177",
         "13.77109056479242",
         "0.07586268973125164"
        ],
        [
         "min",
         "0.0",
         "60416207185.0",
         "1.0",
         "1257.0",
         "20.0271",
         "-165.6723",
         "23.0",
         "1325376018.0",
         "19.027785",
         "-166.671242",
         "0.0"
        ],
        [
         "25%",
         "324168.5",
         "180042946491150.0",
         "9.65",
         "26237.0",
         "34.6205",
         "-96.798",
         "743.0",
         "1338750742.5",
         "34.733572",
         "-96.8972755",
         "0.0"
        ],
        [
         "50%",
         "648337.0",
         "3521417320836166.0",
         "47.52",
         "48174.0",
         "39.3543",
         "-87.4769",
         "2456.0",
         "1349249747.0",
         "39.36568",
         "-87.43839200000001",
         "0.0"
        ],
        [
         "75%",
         "972505.5",
         "4642255475285942.0",
         "83.14",
         "72042.0",
         "41.9404",
         "-80.158",
         "20328.0",
         "1359385375.5",
         "41.957164",
         "-80.2367965",
         "0.0"
        ],
        [
         "max",
         "1296674.0",
         "4.992346398065154e+18",
         "28948.9",
         "99783.0",
         "66.6933",
         "-67.9503",
         "2906700.0",
         "1371816817.0",
         "67.510267",
         "-66.950902",
         "1.0"
        ]
       ],
       "shape": {
        "columns": 11,
        "rows": 8
       }
      },
      "text/html": [
       "<div>\n",
       "<style scoped>\n",
       "    .dataframe tbody tr th:only-of-type {\n",
       "        vertical-align: middle;\n",
       "    }\n",
       "\n",
       "    .dataframe tbody tr th {\n",
       "        vertical-align: top;\n",
       "    }\n",
       "\n",
       "    .dataframe thead th {\n",
       "        text-align: right;\n",
       "    }\n",
       "</style>\n",
       "<table border=\"1\" class=\"dataframe\">\n",
       "  <thead>\n",
       "    <tr style=\"text-align: right;\">\n",
       "      <th></th>\n",
       "      <th>Unnamed: 0</th>\n",
       "      <th>cc_num</th>\n",
       "      <th>amt</th>\n",
       "      <th>zip</th>\n",
       "      <th>lat</th>\n",
       "      <th>long</th>\n",
       "      <th>city_pop</th>\n",
       "      <th>unix_time</th>\n",
       "      <th>merch_lat</th>\n",
       "      <th>merch_long</th>\n",
       "      <th>is_fraud</th>\n",
       "    </tr>\n",
       "  </thead>\n",
       "  <tbody>\n",
       "    <tr>\n",
       "      <th>count</th>\n",
       "      <td>1.296675e+06</td>\n",
       "      <td>1.296675e+06</td>\n",
       "      <td>1.296675e+06</td>\n",
       "      <td>1.296675e+06</td>\n",
       "      <td>1.296675e+06</td>\n",
       "      <td>1.296675e+06</td>\n",
       "      <td>1.296675e+06</td>\n",
       "      <td>1.296675e+06</td>\n",
       "      <td>1.296675e+06</td>\n",
       "      <td>1.296675e+06</td>\n",
       "      <td>1.296675e+06</td>\n",
       "    </tr>\n",
       "    <tr>\n",
       "      <th>mean</th>\n",
       "      <td>6.483370e+05</td>\n",
       "      <td>4.171920e+17</td>\n",
       "      <td>7.035104e+01</td>\n",
       "      <td>4.880067e+04</td>\n",
       "      <td>3.853762e+01</td>\n",
       "      <td>-9.022634e+01</td>\n",
       "      <td>8.882444e+04</td>\n",
       "      <td>1.349244e+09</td>\n",
       "      <td>3.853734e+01</td>\n",
       "      <td>-9.022646e+01</td>\n",
       "      <td>5.788652e-03</td>\n",
       "    </tr>\n",
       "    <tr>\n",
       "      <th>std</th>\n",
       "      <td>3.743180e+05</td>\n",
       "      <td>1.308806e+18</td>\n",
       "      <td>1.603160e+02</td>\n",
       "      <td>2.689322e+04</td>\n",
       "      <td>5.075808e+00</td>\n",
       "      <td>1.375908e+01</td>\n",
       "      <td>3.019564e+05</td>\n",
       "      <td>1.284128e+07</td>\n",
       "      <td>5.109788e+00</td>\n",
       "      <td>1.377109e+01</td>\n",
       "      <td>7.586269e-02</td>\n",
       "    </tr>\n",
       "    <tr>\n",
       "      <th>min</th>\n",
       "      <td>0.000000e+00</td>\n",
       "      <td>6.041621e+10</td>\n",
       "      <td>1.000000e+00</td>\n",
       "      <td>1.257000e+03</td>\n",
       "      <td>2.002710e+01</td>\n",
       "      <td>-1.656723e+02</td>\n",
       "      <td>2.300000e+01</td>\n",
       "      <td>1.325376e+09</td>\n",
       "      <td>1.902779e+01</td>\n",
       "      <td>-1.666712e+02</td>\n",
       "      <td>0.000000e+00</td>\n",
       "    </tr>\n",
       "    <tr>\n",
       "      <th>25%</th>\n",
       "      <td>3.241685e+05</td>\n",
       "      <td>1.800429e+14</td>\n",
       "      <td>9.650000e+00</td>\n",
       "      <td>2.623700e+04</td>\n",
       "      <td>3.462050e+01</td>\n",
       "      <td>-9.679800e+01</td>\n",
       "      <td>7.430000e+02</td>\n",
       "      <td>1.338751e+09</td>\n",
       "      <td>3.473357e+01</td>\n",
       "      <td>-9.689728e+01</td>\n",
       "      <td>0.000000e+00</td>\n",
       "    </tr>\n",
       "    <tr>\n",
       "      <th>50%</th>\n",
       "      <td>6.483370e+05</td>\n",
       "      <td>3.521417e+15</td>\n",
       "      <td>4.752000e+01</td>\n",
       "      <td>4.817400e+04</td>\n",
       "      <td>3.935430e+01</td>\n",
       "      <td>-8.747690e+01</td>\n",
       "      <td>2.456000e+03</td>\n",
       "      <td>1.349250e+09</td>\n",
       "      <td>3.936568e+01</td>\n",
       "      <td>-8.743839e+01</td>\n",
       "      <td>0.000000e+00</td>\n",
       "    </tr>\n",
       "    <tr>\n",
       "      <th>75%</th>\n",
       "      <td>9.725055e+05</td>\n",
       "      <td>4.642255e+15</td>\n",
       "      <td>8.314000e+01</td>\n",
       "      <td>7.204200e+04</td>\n",
       "      <td>4.194040e+01</td>\n",
       "      <td>-8.015800e+01</td>\n",
       "      <td>2.032800e+04</td>\n",
       "      <td>1.359385e+09</td>\n",
       "      <td>4.195716e+01</td>\n",
       "      <td>-8.023680e+01</td>\n",
       "      <td>0.000000e+00</td>\n",
       "    </tr>\n",
       "    <tr>\n",
       "      <th>max</th>\n",
       "      <td>1.296674e+06</td>\n",
       "      <td>4.992346e+18</td>\n",
       "      <td>2.894890e+04</td>\n",
       "      <td>9.978300e+04</td>\n",
       "      <td>6.669330e+01</td>\n",
       "      <td>-6.795030e+01</td>\n",
       "      <td>2.906700e+06</td>\n",
       "      <td>1.371817e+09</td>\n",
       "      <td>6.751027e+01</td>\n",
       "      <td>-6.695090e+01</td>\n",
       "      <td>1.000000e+00</td>\n",
       "    </tr>\n",
       "  </tbody>\n",
       "</table>\n",
       "</div>"
      ],
      "text/plain": [
       "         Unnamed: 0        cc_num           amt           zip           lat  \\\n",
       "count  1.296675e+06  1.296675e+06  1.296675e+06  1.296675e+06  1.296675e+06   \n",
       "mean   6.483370e+05  4.171920e+17  7.035104e+01  4.880067e+04  3.853762e+01   \n",
       "std    3.743180e+05  1.308806e+18  1.603160e+02  2.689322e+04  5.075808e+00   \n",
       "min    0.000000e+00  6.041621e+10  1.000000e+00  1.257000e+03  2.002710e+01   \n",
       "25%    3.241685e+05  1.800429e+14  9.650000e+00  2.623700e+04  3.462050e+01   \n",
       "50%    6.483370e+05  3.521417e+15  4.752000e+01  4.817400e+04  3.935430e+01   \n",
       "75%    9.725055e+05  4.642255e+15  8.314000e+01  7.204200e+04  4.194040e+01   \n",
       "max    1.296674e+06  4.992346e+18  2.894890e+04  9.978300e+04  6.669330e+01   \n",
       "\n",
       "               long      city_pop     unix_time     merch_lat    merch_long  \\\n",
       "count  1.296675e+06  1.296675e+06  1.296675e+06  1.296675e+06  1.296675e+06   \n",
       "mean  -9.022634e+01  8.882444e+04  1.349244e+09  3.853734e+01 -9.022646e+01   \n",
       "std    1.375908e+01  3.019564e+05  1.284128e+07  5.109788e+00  1.377109e+01   \n",
       "min   -1.656723e+02  2.300000e+01  1.325376e+09  1.902779e+01 -1.666712e+02   \n",
       "25%   -9.679800e+01  7.430000e+02  1.338751e+09  3.473357e+01 -9.689728e+01   \n",
       "50%   -8.747690e+01  2.456000e+03  1.349250e+09  3.936568e+01 -8.743839e+01   \n",
       "75%   -8.015800e+01  2.032800e+04  1.359385e+09  4.195716e+01 -8.023680e+01   \n",
       "max   -6.795030e+01  2.906700e+06  1.371817e+09  6.751027e+01 -6.695090e+01   \n",
       "\n",
       "           is_fraud  \n",
       "count  1.296675e+06  \n",
       "mean   5.788652e-03  \n",
       "std    7.586269e-02  \n",
       "min    0.000000e+00  \n",
       "25%    0.000000e+00  \n",
       "50%    0.000000e+00  \n",
       "75%    0.000000e+00  \n",
       "max    1.000000e+00  "
      ]
     },
     "metadata": {},
     "output_type": "display_data"
    },
    {
     "name": "stdout",
     "output_type": "stream",
     "text": [
      "\n",
      "Jumlah nilai hilang di data latih: 0\n",
      "Jumlah nilai hilang di data uji: 0\n"
     ]
    },
    {
     "data": {
      "image/png": "[encoded data removed]",
      "text/plain": [
       "<Figure size 1200x500 with 2 Axes>"
      ]
     },
     "metadata": {},
     "output_type": "display_data"
    }
   ],
   "source": [
    "# Memuat dataset latih dan uji\n",
    "train_data = pd.read_csv('fraudTrain.csv')\n",
    "test_data = pd.read_csv('fraudTest.csv')\n",
    "\n",
    "print(\"5 Baris Pertama Data Latih:\")\n",
    "display(train_data.head())\n",
    "\n",
    "print(\"\\nInformasi Data Latih:\")\n",
    "train_data.info()\n",
    "\n",
    "print(\"\\nStatistik Deskriptif Data Latih:\")\n",
    "display(train_data.describe())\n",
    "\n",
    "# Memeriksa nilai yang hilang\n",
    "print(f\"\\nJumlah nilai hilang di data latih: {train_data.isnull().sum().sum()}\")\n",
    "print(f\"Jumlah nilai hilang di data uji: {test_data.isnull().sum().sum()}\")\n",
    "\n",
    "# Visualisasi Distribusi Kelas Target (is_fraud)\n",
    "plt.figure(figsize=(12, 5))\n",
    "\n",
    "# Pie Chart\n",
    "plt.subplot(1, 2, 1)\n",
    "fraud_counts = train_data['is_fraud'].value_counts()\n",
    "plt.pie(fraud_counts, labels=[\"Tidak Fraud (0)\", \"Fraud (1)\"], autopct=\"%.2f%%\", startangle=90, colors=['#e19de4', '#3B3B3C'])\n",
    "plt.title(\"Persentase Transaksi\")\n",
    "\n",
    "# Count Plot\n",
    "plt.subplot(1, 2, 2)\n",
    "sns.countplot(x='is_fraud', data=train_data, palette=['#e19de4', '#3B3B3C'], hue='is_fraud', legend=False)\n",
    "plt.title(\"Jumlah Transaksi\")\n",
    "plt.xlabel(\"Kelas (0: Tidak Fraud, 1: Fraud)\")\n",
    "plt.ylabel(\"Jumlah\")\n",
    "\n",
    "plt.suptitle(\"Distribusi Kelas 'is_fraud' pada Data Latih\", fontsize=16)\n",
    "plt.tight_layout(rect=[0, 0, 1, 0.96])\n",
    "plt.show()"
   ]
  },
  {
   "cell_type": "markdown",
   "id": "66bf587b",
   "metadata": {},
   "source": [
    "## 3. Pra-pemrosesan dan Rekayasa Fitur"
   ]
  },
  {
   "cell_type": "markdown",
   "id": "1d2aa46f",
   "metadata": {},
   "source": [
    "Tahap ini mencakup langkah `Pre-processing Data` dari flowchart. Proses ini meliputi ekstraksi fitur dari data tanggal, pemisahan fitur (X) dan target (y), serta pembuatan pipeline pra-pemrosesan untuk menangani variabel numerik dan kategorikal secara terpisah. Penggunaan `Pipeline` dan `ColumnTransformer` memastikan tidak ada kebocoran data (data leakage) dari set uji ke set latih."
   ]
  },
  {
   "cell_type": "markdown",
   "id": "c258b897",
   "metadata": {},
   "source": [
    "### 3.1. Rekayasa dan Pemisahan Fitur"
   ]
  },
  {
   "cell_type": "markdown",
   "id": "9701b6e8",
   "metadata": {},
   "source": [
    "Fitur baru diekstrak dari kolom tanggal untuk menangkap pola temporal. Setelah itu, dataset dibagi menjadi set fitur dan target."
   ]
  },
  {
   "cell_type": "code",
   "execution_count": 3,
   "id": "c8f1d265",
   "metadata": {},
   "outputs": [
    {
     "name": "stdout",
     "output_type": "stream",
     "text": [
      "Ukuran X_train: (1296675, 13)\n",
      "Ukuran X_test: (555719, 13)\n"
     ]
    }
   ],
   "source": [
    "# Fungsi untuk rekayasa fitur dari tanggal\n",
    "def engineer_features(df):\n",
    "    df_copy = df.copy()\n",
    "    # Hapus kolom yang tidak relevan\n",
    "    cols_to_drop = ['Unnamed: 0', 'cc_num', 'first', 'last', 'street', 'city', 'state', 'zip', 'job', 'dob', 'trans_num', 'unix_time']\n",
    "    df_copy = df_copy.drop(columns=cols_to_drop, errors='ignore')\n",
    "    \n",
    "    # Konversi dan ekstrak fitur dari tanggal\n",
    "    df_copy['trans_date_trans_time'] = pd.to_datetime(df_copy['trans_date_trans_time'])\n",
    "    df_copy['hour'] = df_copy['trans_date_trans_time'].dt.hour\n",
    "    df_copy['day'] = df_copy['trans_date_trans_time'].dt.day\n",
    "    df_copy['month'] = df_copy['trans_date_trans_time'].dt.month\n",
    "    df_copy['day_of_week'] = df_copy['trans_date_trans_time'].dt.dayofweek\n",
    "    df_copy = df_copy.drop(columns=['trans_date_trans_time'])\n",
    "    return df_copy\n",
    "\n",
    "# Terapkan rekayasa fitur\n",
    "train_processed = engineer_features(train_data)\n",
    "test_processed = engineer_features(test_data)\n",
    "\n",
    "# Memisahkan Fitur (X) dan Target (y)\n",
    "X_train = train_processed.drop('is_fraud', axis=1)\n",
    "y_train = train_processed['is_fraud']\n",
    "X_test = test_processed.drop('is_fraud', axis=1)\n",
    "y_test = test_processed['is_fraud']\n",
    "\n",
    "print(\"Ukuran X_train:\", X_train.shape)\n",
    "print(\"Ukuran X_test:\", X_test.shape)"
   ]
  },
  {
   "cell_type": "markdown",
   "id": "3412824f",
   "metadata": {},
   "source": [
    "### 3.2. Correlation Heatmap"
   ]
  },
  {
   "cell_type": "markdown",
   "id": "f7478606",
   "metadata": {},
   "source": [
    "Heatmap korelasi dibuat setelah pra-pemrosesan awal untuk menganalisis hubungan antar fitur pada data latih saja."
   ]
  },
  {
   "cell_type": "code",
   "execution_count": 4,
   "id": "9b02023b",
   "metadata": {},
   "outputs": [
    {
     "data": {
      "image/png": "[encoded data removed]",
      "text/plain": [
       "<Figure size 1400x1100 with 2 Axes>"
      ]
     },
     "metadata": {},
     "output_type": "display_data"
    }
   ],
   "source": [
    "# Membuat heatmap korelasi dari data latih yang sudah diproses\n",
    "correlation_data = pd.concat([X_train, y_train], axis=1).copy()\n",
    "\n",
    "# Label Encoding hanya untuk visualisasi heatmap\n",
    "for col in correlation_data.select_dtypes(include=['object']).columns:\n",
    "    correlation_data[col] = LabelEncoder().fit_transform(correlation_data[col])\n",
    "\n",
    "correlation_matrix = correlation_data.corr()\n",
    "mask = np.triu(np.ones_like(correlation_matrix, dtype=bool))\n",
    "\n",
    "plt.figure(figsize=(14, 11))\n",
    "sns.heatmap(correlation_matrix, annot=True, fmt=\".2f\", cmap='coolwarm', mask=mask, vmin=-1, vmax=1)\n",
    "plt.title(\"Heatmap Korelasi Fitur pada Data Latih\")\n",
    "plt.show()"
   ]
  },
  {
   "cell_type": "markdown",
   "id": "77ac46c4",
   "metadata": {},
   "source": [
    "### 3.3. Pipeline Pra-pemrosesan"
   ]
  },
  {
   "cell_type": "markdown",
   "id": "3577254d",
   "metadata": {},
   "source": [
    "Untuk efisiensi komputasi, fitur kategorikal diubah menjadi format numerik menggunakan `LabelEncoder`. Selanjutnya, `StandardScaler` diterapkan pada fitur numerik untuk menstandarisasi skalanya. Proses fitting (pembelajaran) dari encoder dan scaler hanya dilakukan pada data latih untuk mencegah kebocoran data (data leakage)."
   ]
  },
  {
   "cell_type": "code",
   "execution_count": 5,
   "id": "1eee9796",
   "metadata": {},
   "outputs": [
    {
     "name": "stdout",
     "output_type": "stream",
     "text": [
      "Menerapkan Label Encoding pada fitur kategorikal...\n",
      "Menerapkan Standard Scaling pada fitur numerik...\n",
      "\n",
      "Pra-pemrosesan selesai. Data siap untuk pemodelan.\n"
     ]
    },
    {
     "data": {
      "application/vnd.microsoft.datawrangler.viewer.v0+json": {
       "columns": [
        {
         "name": "index",
         "rawType": "int64",
         "type": "integer"
        },
        {
         "name": "merchant",
         "rawType": "int64",
         "type": "integer"
        },
        {
         "name": "category",
         "rawType": "int64",
         "type": "integer"
        },
        {
         "name": "amt",
         "rawType": "float64",
         "type": "float"
        },
        {
         "name": "gender",
         "rawType": "int64",
         "type": "integer"
        },
        {
         "name": "lat",
         "rawType": "float64",
         "type": "float"
        },
        {
         "name": "long",
         "rawType": "float64",
         "type": "float"
        },
        {
         "name": "city_pop",
         "rawType": "float64",
         "type": "float"
        },
        {
         "name": "merch_lat",
         "rawType": "float64",
         "type": "float"
        },
        {
         "name": "merch_long",
         "rawType": "float64",
         "type": "float"
        },
        {
         "name": "hour",
         "rawType": "float64",
         "type": "float"
        },
        {
         "name": "day",
         "rawType": "float64",
         "type": "float"
        },
        {
         "name": "month",
         "rawType": "float64",
         "type": "float"
        },
        {
         "name": "day_of_week",
         "rawType": "float64",
         "type": "float"
        }
       ],
       "ref": "9b65a815-f73c-4bd2-ac3d-7048b7e88dc1",
       "rows": [
        [
         "0",
         "514",
         "8",
         "-0.4078260743571717",
         "0",
         "-0.48441988949552045",
         "0.6576196137901902",
         "-0.28258875975169373",
         "-0.49435433250750654",
         "0.5938638566063196",
         "-1.8781451290492637",
         "-1.6522577406526238",
         "-1.504563517805003",
         "-0.9419748658130739"
        ],
        [
         "1",
         "241",
         "4",
         "0.23003923433445328",
         "0",
         "2.0391199748640023",
         "-2.0338701150480003",
         "-0.29366983544949227",
         "2.0786992107303055",
         "-2.0303408688588176",
         "-1.8781451290492637",
         "-1.6522577406526238",
         "-1.504563517805003",
         "-0.9419748658130739"
        ],
        [
         "2",
         "390",
         "0",
         "0.9341487204004676",
         "1",
         "0.717753601980926",
         "-1.6015371673591123",
         "-0.2804063243408003",
         "0.9028490811083096",
         "-1.592323030143514",
         "-1.8781451290492637",
         "-1.6522577406526238",
         "-1.504563517805003",
         "-0.9419748658130739"
        ],
        [
         "3",
         "360",
         "2",
         "-0.15813168449871537",
         "1",
         "1.5156169592050035",
         "-1.5907660918194815",
         "-0.28774182424236155",
         "1.6628861348107173",
         "-1.6218479363133531",
         "-1.8781451290492637",
         "-1.6522577406526238",
         "-1.504563517805003",
         "-0.9419748658130739"
        ],
        [
         "4",
         "297",
         "9",
         "-0.17709423621417145",
         "1",
         "-0.023035081286951805",
         "0.7822791871071574",
         "-0.2938354223547194",
         "0.026940647718303463",
         "0.8419093763920588",
         "-1.8781451290492637",
         "-1.6522577406526238",
         "-1.504563517805003",
         "-0.9419748658130739"
        ]
       ],
       "shape": {
        "columns": 13,
        "rows": 5
       }
      },
      "text/html": [
       "<div>\n",
       "<style scoped>\n",
       "    .dataframe tbody tr th:only-of-type {\n",
       "        vertical-align: middle;\n",
       "    }\n",
       "\n",
       "    .dataframe tbody tr th {\n",
       "        vertical-align: top;\n",
       "    }\n",
       "\n",
       "    .dataframe thead th {\n",
       "        text-align: right;\n",
       "    }\n",
       "</style>\n",
       "<table border=\"1\" class=\"dataframe\">\n",
       "  <thead>\n",
       "    <tr style=\"text-align: right;\">\n",
       "      <th></th>\n",
       "      <th>merchant</th>\n",
       "      <th>category</th>\n",
       "      <th>amt</th>\n",
       "      <th>gender</th>\n",
       "      <th>lat</th>\n",
       "      <th>long</th>\n",
       "      <th>city_pop</th>\n",
       "      <th>merch_lat</th>\n",
       "      <th>merch_long</th>\n",
       "      <th>hour</th>\n",
       "      <th>day</th>\n",
       "      <th>month</th>\n",
       "      <th>day_of_week</th>\n",
       "    </tr>\n",
       "  </thead>\n",
       "  <tbody>\n",
       "    <tr>\n",
       "      <th>0</th>\n",
       "      <td>514</td>\n",
       "      <td>8</td>\n",
       "      <td>-0.407826</td>\n",
       "      <td>0</td>\n",
       "      <td>-0.484420</td>\n",
       "      <td>0.657620</td>\n",
       "      <td>-0.282589</td>\n",
       "      <td>-0.494354</td>\n",
       "      <td>0.593864</td>\n",
       "      <td>-1.878145</td>\n",
       "      <td>-1.652258</td>\n",
       "      <td>-1.504564</td>\n",
       "      <td>-0.941975</td>\n",
       "    </tr>\n",
       "    <tr>\n",
       "      <th>1</th>\n",
       "      <td>241</td>\n",
       "      <td>4</td>\n",
       "      <td>0.230039</td>\n",
       "      <td>0</td>\n",
       "      <td>2.039120</td>\n",
       "      <td>-2.033870</td>\n",
       "      <td>-0.293670</td>\n",
       "      <td>2.078699</td>\n",
       "      <td>-2.030341</td>\n",
       "      <td>-1.878145</td>\n",
       "      <td>-1.652258</td>\n",
       "      <td>-1.504564</td>\n",
       "      <td>-0.941975</td>\n",
       "    </tr>\n",
       "    <tr>\n",
       "      <th>2</th>\n",
       "      <td>390</td>\n",
       "      <td>0</td>\n",
       "      <td>0.934149</td>\n",
       "      <td>1</td>\n",
       "      <td>0.717754</td>\n",
       "      <td>-1.601537</td>\n",
       "      <td>-0.280406</td>\n",
       "      <td>0.902849</td>\n",
       "      <td>-1.592323</td>\n",
       "      <td>-1.878145</td>\n",
       "      <td>-1.652258</td>\n",
       "      <td>-1.504564</td>\n",
       "      <td>-0.941975</td>\n",
       "    </tr>\n",
       "    <tr>\n",
       "      <th>3</th>\n",
       "      <td>360</td>\n",
       "      <td>2</td>\n",
       "      <td>-0.158132</td>\n",
       "      <td>1</td>\n",
       "      <td>1.515617</td>\n",
       "      <td>-1.590766</td>\n",
       "      <td>-0.287742</td>\n",
       "      <td>1.662886</td>\n",
       "      <td>-1.621848</td>\n",
       "      <td>-1.878145</td>\n",
       "      <td>-1.652258</td>\n",
       "      <td>-1.504564</td>\n",
       "      <td>-0.941975</td>\n",
       "    </tr>\n",
       "    <tr>\n",
       "      <th>4</th>\n",
       "      <td>297</td>\n",
       "      <td>9</td>\n",
       "      <td>-0.177094</td>\n",
       "      <td>1</td>\n",
       "      <td>-0.023035</td>\n",
       "      <td>0.782279</td>\n",
       "      <td>-0.293835</td>\n",
       "      <td>0.026941</td>\n",
       "      <td>0.841909</td>\n",
       "      <td>-1.878145</td>\n",
       "      <td>-1.652258</td>\n",
       "      <td>-1.504564</td>\n",
       "      <td>-0.941975</td>\n",
       "    </tr>\n",
       "  </tbody>\n",
       "</table>\n",
       "</div>"
      ],
      "text/plain": [
       "   merchant  category       amt  gender       lat      long  city_pop  \\\n",
       "0       514         8 -0.407826       0 -0.484420  0.657620 -0.282589   \n",
       "1       241         4  0.230039       0  2.039120 -2.033870 -0.293670   \n",
       "2       390         0  0.934149       1  0.717754 -1.601537 -0.280406   \n",
       "3       360         2 -0.158132       1  1.515617 -1.590766 -0.287742   \n",
       "4       297         9 -0.177094       1 -0.023035  0.782279 -0.293835   \n",
       "\n",
       "   merch_lat  merch_long      hour       day     month  day_of_week  \n",
       "0  -0.494354    0.593864 -1.878145 -1.652258 -1.504564    -0.941975  \n",
       "1   2.078699   -2.030341 -1.878145 -1.652258 -1.504564    -0.941975  \n",
       "2   0.902849   -1.592323 -1.878145 -1.652258 -1.504564    -0.941975  \n",
       "3   1.662886   -1.621848 -1.878145 -1.652258 -1.504564    -0.941975  \n",
       "4   0.026941    0.841909 -1.878145 -1.652258 -1.504564    -0.941975  "
      ]
     },
     "metadata": {},
     "output_type": "display_data"
    }
   ],
   "source": [
    "# Identifikasi kolom numerik dan kategorikal\n",
    "categorical_cols = X_train.select_dtypes(include=['object']).columns.tolist()\n",
    "numerical_cols = X_train.select_dtypes(include=np.number).columns.tolist()\n",
    "\n",
    "# Buat salinan untuk menghindari SettingWithCopyWarning\n",
    "X_train_processed = X_train.copy()\n",
    "X_test_processed = X_test.copy()\n",
    "\n",
    "# Encoding variabel kategorikal menggunakan LabelEncoder\n",
    "print(\"Menerapkan Label Encoding pada fitur kategorikal...\")\n",
    "for col in categorical_cols:\n",
    "    # Gabungkan data latih dan uji untuk memastikan semua kategori dikenali\n",
    "    le = LabelEncoder().fit(pd.concat([X_train_processed[col], X_test_processed[col]]))\n",
    "    \n",
    "    # Transformasi data latih dan uji secara terpisah\n",
    "    X_train_processed[col] = le.transform(X_train_processed[col])\n",
    "    X_test_processed[col] = le.transform(X_test_processed[col])\n",
    "\n",
    "# Scaling fitur numerik\n",
    "print(\"Menerapkan Standard Scaling pada fitur numerik...\")\n",
    "scaler = StandardScaler()\n",
    "\n",
    "# Fit dan transform HANYA pada data latih\n",
    "X_train_processed[numerical_cols] = scaler.fit_transform(X_train_processed[numerical_cols])\n",
    "\n",
    "# Hanya transform pada data uji menggunakan scaler yang sudah di-fit\n",
    "X_test_processed[numerical_cols] = scaler.transform(X_test_processed[numerical_cols])\n",
    "\n",
    "print(\"\\nPra-pemrosesan selesai. Data siap untuk pemodelan.\")\n",
    "display(X_train_processed.head())"
   ]
  },
  {
   "cell_type": "markdown",
   "id": "e1f52fbf",
   "metadata": {},
   "source": [
    "## 4. Pemodelan pada Data Tidak Seimbang (Baseline)"
   ]
  },
  {
   "cell_type": "markdown",
   "id": "f339923b",
   "metadata": {},
   "source": [
    "Tahap ini sesuai dengan cabang `Balance` pada flowchart. Model-model dilatih pada data asli yang tidak seimbang untuk menetapkan performa dasar (baseline)."
   ]
  },
  {
   "cell_type": "markdown",
   "id": "6c3e72f7",
   "metadata": {},
   "source": [
    "### 4.1. Logistic Regression"
   ]
  },
  {
   "cell_type": "code",
   "execution_count": 6,
   "id": "68545844",
   "metadata": {},
   "outputs": [
    {
     "name": "stdout",
     "output_type": "stream",
     "text": [
      "Melatih model Logistic Regression...\n"
     ]
    },
    {
     "data": {
      "image/png": "[encoded data removed]",
      "text/plain": [
       "<Figure size 600x400 with 2 Axes>"
      ]
     },
     "metadata": {},
     "output_type": "display_data"
    },
    {
     "name": "stdout",
     "output_type": "stream",
     "text": [
      "Accuracy Score: 99.55%\n",
      "\n",
      "Classification Report:\n",
      "              precision    recall  f1-score   support\n",
      "\n",
      "           0       1.00      1.00      1.00    553574\n",
      "           1       0.00      0.00      0.00      2145\n",
      "\n",
      "    accuracy                           1.00    555719\n",
      "   macro avg       0.50      0.50      0.50    555719\n",
      "weighted avg       0.99      1.00      0.99    555719\n",
      "\n"
     ]
    }
   ],
   "source": [
    "# Inisialisasi model\n",
    "model_lr = LogisticRegression(\n",
    "    n_jobs=-1,\n",
    "    random_state=42\n",
    ")\n",
    "\n",
    "# Latih model pada data latih yang SUDAH DIPROSES\n",
    "print(\"Melatih model Logistic Regression...\")\n",
    "model_lr.fit(X_train_processed, y_train)\n",
    "\n",
    "# Buat prediksi pada data uji yang SUDAH DIPROSES\n",
    "y_pred_lr = model_lr.predict(X_test_processed)\n",
    "\n",
    "# Confusion Matrix\n",
    "conf_matrix_lr = confusion_matrix(y_test, y_pred_lr)\n",
    "plt.figure(figsize=(6, 4))\n",
    "sns.heatmap(conf_matrix_lr, annot=True, fmt='d', cmap='Blues')\n",
    "plt.title('Confusion Matrix - Logistic Regression')\n",
    "plt.xlabel('Prediksi')\n",
    "plt.ylabel('Aktual')\n",
    "plt.show()\n",
    "\n",
    "# Accuracy Score\n",
    "accuracy_lr = accuracy_score(y_test, y_pred_lr)\n",
    "print(f\"Accuracy Score: {accuracy_lr*100:.2f}%\\n\")\n",
    "\n",
    "# Classification Report\n",
    "print(\"Classification Report:\")\n",
    "print(classification_report(y_test, y_pred_lr))"
   ]
  },
  {
   "cell_type": "markdown",
   "id": "7afa1d52",
   "metadata": {},
   "source": [
    "### 4.2. Decision Tree Classifier"
   ]
  },
  {
   "cell_type": "code",
   "execution_count": 7,
   "id": "5a1921a1",
   "metadata": {},
   "outputs": [
    {
     "name": "stdout",
     "output_type": "stream",
     "text": [
      "Melatih model Decision Tree...\n"
     ]
    },
    {
     "data": {
      "image/png": "[encoded data removed]",
      "text/plain": [
       "<Figure size 600x400 with 2 Axes>"
      ]
     },
     "metadata": {},
     "output_type": "display_data"
    },
    {
     "name": "stdout",
     "output_type": "stream",
     "text": [
      "Accuracy Score: 99.73%\n",
      "\n",
      "Classification Report:\n",
      "              precision    recall  f1-score   support\n",
      "\n",
      "           0       1.00      1.00      1.00    553574\n",
      "           1       0.63      0.69      0.66      2145\n",
      "\n",
      "    accuracy                           1.00    555719\n",
      "   macro avg       0.82      0.84      0.83    555719\n",
      "weighted avg       1.00      1.00      1.00    555719\n",
      "\n"
     ]
    }
   ],
   "source": [
    "# Inisialisasi model\n",
    "model_dt = DecisionTreeClassifier(random_state=42)\n",
    "\n",
    "# Latih model pada data latih yang SUDAH DIPROSES\n",
    "print(\"Melatih model Decision Tree...\")\n",
    "model_dt.fit(X_train_processed, y_train)\n",
    "\n",
    "# Buat prediksi pada data uji yang SUDAH DIPROSES\n",
    "y_pred_dt = model_dt.predict(X_test_processed)\n",
    "\n",
    "# Confusion matrix\n",
    "conf_matrix_dt = confusion_matrix(y_test, y_pred_dt)\n",
    "plt.figure(figsize=(6, 4))\n",
    "sns.heatmap(conf_matrix_dt, annot=True, fmt='d', cmap='Greens')\n",
    "plt.title('Confusion Matrix - Decision Tree')\n",
    "plt.xlabel('Predicted')\n",
    "plt.ylabel('Actual')\n",
    "plt.show()\n",
    "\n",
    "# Accuracy score\n",
    "accuracy_dt = accuracy_score(y_test, y_pred_dt)\n",
    "print(f\"Accuracy Score: {accuracy_dt*100:.2f}%\\n\")\n",
    "\n",
    "# Classification report\n",
    "print(\"Classification Report:\")\n",
    "print(classification_report(y_test, y_pred_dt))"
   ]
  },
  {
   "cell_type": "markdown",
   "id": "df52fb95",
   "metadata": {},
   "source": [
    "### 4.3. Random Forest Classifier"
   ]
  },
  {
   "cell_type": "code",
   "execution_count": 8,
   "id": "4ed71cb1",
   "metadata": {},
   "outputs": [
    {
     "name": "stdout",
     "output_type": "stream",
     "text": [
      "Melatih model Random Forest...\n"
     ]
    },
    {
     "data": {
      "image/png": "[encoded data removed]",
      "text/plain": [
       "<Figure size 600x400 with 2 Axes>"
      ]
     },
     "metadata": {},
     "output_type": "display_data"
    },
    {
     "name": "stdout",
     "output_type": "stream",
     "text": [
      "Accuracy Score: 99.83%\n",
      "\n",
      "Classification Report:\n",
      "              precision    recall  f1-score   support\n",
      "\n",
      "           0       1.00      1.00      1.00    553574\n",
      "           1       0.92      0.61      0.73      2145\n",
      "\n",
      "    accuracy                           1.00    555719\n",
      "   macro avg       0.96      0.80      0.87    555719\n",
      "weighted avg       1.00      1.00      1.00    555719\n",
      "\n"
     ]
    }
   ],
   "source": [
    "# Inisialisasi model\n",
    "model_rf = RandomForestClassifier(\n",
    "    n_estimators=50,\n",
    "    n_jobs=-1,\n",
    "    random_state=42\n",
    ")\n",
    "\n",
    "# Latih model pada data latih yang SUDAH DIPROSES\n",
    "print(\"Melatih model Random Forest...\")\n",
    "model_rf.fit(X_train_processed, y_train)\n",
    "\n",
    "# Buat prediksi pada data uji yang SUDAH DIPROSES\n",
    "y_pred_rf = model_rf.predict(X_test_processed)\n",
    "\n",
    "# Confusion matrix\n",
    "conf_matrix_rf = confusion_matrix(y_test, y_pred_rf)\n",
    "plt.figure(figsize=(6, 4))\n",
    "sns.heatmap(conf_matrix_rf, annot=True, fmt='d', cmap='Oranges')\n",
    "plt.title('Confusion Matrix - Random Forest')\n",
    "plt.xlabel('Predicted')\n",
    "plt.ylabel('Actual')\n",
    "plt.show()\n",
    "\n",
    "# Accuracy score\n",
    "accuracy_rf = accuracy_score(y_test, y_pred_rf)\n",
    "print(f\"Accuracy Score: {accuracy_rf*100:.2f}%\\n\")\n",
    "\n",
    "# Classification report\n",
    "print(\"Classification Report:\")\n",
    "print(classification_report(y_test, y_pred_rf))"
   ]
  },
  {
   "cell_type": "markdown",
   "id": "f86dbf98",
   "metadata": {},
   "source": [
    "### 4.4. K-Nearest Neighbors (KNN)"
   ]
  },
  {
   "cell_type": "code",
   "execution_count": 9,
   "id": "80c31504",
   "metadata": {},
   "outputs": [
    {
     "name": "stdout",
     "output_type": "stream",
     "text": [
      "Melatih model K-Nearest Neighbors (proses ini akan lambat)...\n",
      "Membuat prediksi dengan KNN (proses ini akan sangat lambat)...\n"
     ]
    },
    {
     "data": {
      "image/png": "[encoded data removed]",
      "text/plain": [
       "<Figure size 600x400 with 2 Axes>"
      ]
     },
     "metadata": {},
     "output_type": "display_data"
    },
    {
     "name": "stdout",
     "output_type": "stream",
     "text": [
      "Accuracy Score: 99.66%\n",
      "\n",
      "Classification Report:\n",
      "              precision    recall  f1-score   support\n",
      "\n",
      "           0       1.00      1.00      1.00    553574\n",
      "           1       0.65      0.27      0.39      2145\n",
      "\n",
      "    accuracy                           1.00    555719\n",
      "   macro avg       0.83      0.64      0.69    555719\n",
      "weighted avg       1.00      1.00      1.00    555719\n",
      "\n"
     ]
    }
   ],
   "source": [
    "# Inisialisasi model\n",
    "model_knn = KNeighborsClassifier(n_jobs=-1)\n",
    "\n",
    "# Latih model pada data latih yang SUDAH DIPROSES\n",
    "print(\"Melatih model K-Nearest Neighbors (proses ini akan lambat)...\")\n",
    "model_knn.fit(X_train_processed, y_train)\n",
    "\n",
    "# Buat prediksi pada data uji yang SUDAH DIPROSES\n",
    "print(\"Membuat prediksi dengan KNN (proses ini akan sangat lambat)...\")\n",
    "y_pred_knn = model_knn.predict(X_test_processed)\n",
    "\n",
    "# Confusion matrix\n",
    "conf_matrix_knn = confusion_matrix(y_test, y_pred_knn)\n",
    "plt.figure(figsize=(6, 4))\n",
    "sns.heatmap(conf_matrix_knn, annot=True, fmt='d', cmap='Purples')\n",
    "plt.title('Confusion Matrix - K-Nearest Neighbors')\n",
    "plt.xlabel('Predicted')\n",
    "plt.ylabel('Actual')\n",
    "plt.show()\n",
    "\n",
    "# Accuracy score\n",
    "accuracy_knn = accuracy_score(y_test, y_pred_knn)\n",
    "print(f\"Accuracy Score: {accuracy_knn*100:.2f}%\\n\")\n",
    "\n",
    "# Classification report\n",
    "print(\"Classification Report:\")\n",
    "print(classification_report(y_test, y_pred_knn))"
   ]
  },
  {
   "cell_type": "markdown",
   "id": "4fc752c7",
   "metadata": {},
   "source": [
    "### 4.5. LightGBM Classifier"
   ]
  },
  {
   "cell_type": "code",
   "execution_count": 10,
   "id": "57515961",
   "metadata": {},
   "outputs": [
    {
     "name": "stdout",
     "output_type": "stream",
     "text": [
      "Melatih model LightGBM...\n",
      "[LightGBM] [Info] Number of positive: 7506, number of negative: 1289169\n",
      "[LightGBM] [Info] Auto-choosing row-wise multi-threading, the overhead of testing was 0.011013 seconds.\n",
      "You can set `force_row_wise=true` to remove the overhead.\n",
      "And if memory is not enough, you can set `force_col_wise=true`.\n",
      "[LightGBM] [Info] Total Bins 1873\n",
      "[LightGBM] [Info] Number of data points in the train set: 1296675, number of used features: 13\n",
      "[LightGBM] [Info] [binary:BoostFromScore]: pavg=0.005789 -> initscore=-5.146050\n",
      "[LightGBM] [Info] Start training from score -5.146050\n"
     ]
    },
    {
     "data": {
      "image/png": "[encoded data removed]",
      "text/plain": [
       "<Figure size 600x400 with 2 Axes>"
      ]
     },
     "metadata": {},
     "output_type": "display_data"
    },
    {
     "name": "stdout",
     "output_type": "stream",
     "text": [
      "Accuracy Score: 99.73%\n",
      "\n",
      "Classification Report:\n",
      "              precision    recall  f1-score   support\n",
      "\n",
      "           0       1.00      1.00      1.00    553574\n",
      "           1       0.66      0.63      0.64      2145\n",
      "\n",
      "    accuracy                           1.00    555719\n",
      "   macro avg       0.83      0.81      0.82    555719\n",
      "weighted avg       1.00      1.00      1.00    555719\n",
      "\n"
     ]
    }
   ],
   "source": [
    "# Inisialisasi model\n",
    "model_lgbm = lgb.LGBMClassifier(\n",
    "    random_state=42,\n",
    "    n_jobs=-1\n",
    ")\n",
    "\n",
    "# Latih model pada data latih yang SUDAH DIPROSES\n",
    "print(\"Melatih model LightGBM...\")\n",
    "model_lgbm.fit(X_train_processed, y_train)\n",
    "\n",
    "# Buat prediksi pada data uji yang SUDAH DIPROSES\n",
    "y_pred_lgbm = model_lgbm.predict(X_test_processed)\n",
    "\n",
    "# Confusion matrix\n",
    "conf_matrix_lgbm = confusion_matrix(y_test, y_pred_lgbm)\n",
    "plt.figure(figsize=(6, 4))\n",
    "sns.heatmap(conf_matrix_lgbm, annot=True, fmt='d', cmap='Reds')\n",
    "plt.title('Confusion Matrix - LightGBM')\n",
    "plt.xlabel('Predicted')\n",
    "plt.ylabel('Actual')\n",
    "plt.show()\n",
    "\n",
    "# Accuracy score\n",
    "accuracy_lgbm = accuracy_score(y_test, y_pred_lgbm)\n",
    "print(f\"Accuracy Score: {accuracy_lgbm*100:.2f}%\\n\")\n",
    "\n",
    "# Classification report\n",
    "print(\"Classification Report:\")\n",
    "print(classification_report(y_test, y_pred_lgbm))"
   ]
  },
  {
   "cell_type": "markdown",
   "id": "4d189dbc",
   "metadata": {},
   "source": [
    "## 5. Pemodelan pada Data Seimbang (dengan SMOTE)"
   ]
  },
  {
   "cell_type": "markdown",
   "id": "51f82832",
   "metadata": {},
   "source": [
    "Tahap ini mengikuti cabang `Unbalance -> Balancing Data Using SMOTE` pada flowchart. Teknik SMOTE diterapkan untuk menyeimbangkan distribusi kelas pada data latih sebelum melatih ulang model."
   ]
  },
  {
   "cell_type": "code",
   "execution_count": 15,
   "id": "6c65b813",
   "metadata": {},
   "outputs": [
    {
     "name": "stdout",
     "output_type": "stream",
     "text": [
      "Menerapkan SMOTE pada data latih...\n",
      "Ukuran data latih setelah SMOTE: (2578338, 13)\n"
     ]
    }
   ],
   "source": [
    "# Menerapkan SMOTE hanya pada data latih yang SUDAH DIPROSES\n",
    "print(\"Menerapkan SMOTE pada data latih...\")\n",
    "smote = SMOTE(random_state=42)\n",
    "X_train_resampled, y_train_resampled = smote.fit_resample(X_train_processed, y_train)\n",
    "\n",
    "print(\"Ukuran data latih setelah SMOTE:\", X_train_resampled.shape)"
   ]
  },
  {
   "cell_type": "markdown",
   "id": "45e29f7c",
   "metadata": {},
   "source": [
    "### 5.1. Logistic Regression"
   ]
  },
  {
   "cell_type": "code",
   "execution_count": 16,
   "id": "b7e3bfd7",
   "metadata": {},
   "outputs": [
    {
     "name": "stdout",
     "output_type": "stream",
     "text": [
      "Melatih model Logistic Regression setelah SMOTE...\n"
     ]
    },
    {
     "data": {
      "image/png": "[encoded data removed]",
      "text/plain": [
       "<Figure size 600x400 with 2 Axes>"
      ]
     },
     "metadata": {},
     "output_type": "display_data"
    },
    {
     "name": "stdout",
     "output_type": "stream",
     "text": [
      "Accuracy Score: 95.19%\n",
      "\n",
      "Classification Report:\n",
      "              precision    recall  f1-score   support\n",
      "\n",
      "           0       1.00      0.95      0.98    553574\n",
      "           1       0.06      0.74      0.11      2145\n",
      "\n",
      "    accuracy                           0.95    555719\n",
      "   macro avg       0.53      0.84      0.54    555719\n",
      "weighted avg       1.00      0.95      0.97    555719\n",
      "\n"
     ]
    }
   ],
   "source": [
    "# Latih model pada data yang telah diseimbangkan\n",
    "print(\"Melatih model Logistic Regression setelah SMOTE...\")\n",
    "model_lr.fit(X_train_resampled, y_train_resampled)\n",
    "\n",
    "# Buat prediksi pada data uji yang SUDAH DIPROSES\n",
    "y_pred_lr_smote = model_lr.predict(X_test_processed)\n",
    "\n",
    "# Confusion Matrix\n",
    "conf_matrix_lr_smote = confusion_matrix(y_test, y_pred_lr_smote)\n",
    "plt.figure(figsize=(6, 4))\n",
    "sns.heatmap(conf_matrix_lr_smote, annot=True, fmt='d', cmap='Blues')\n",
    "plt.title('Confusion Matrix - Logistic Regression (Setelah SMOTE)')\n",
    "plt.xlabel('Prediksi')\n",
    "plt.ylabel('Aktual')\n",
    "plt.show()\n",
    "\n",
    "# Accuracy Score\n",
    "accuracy_lr_smote = accuracy_score(y_test, y_pred_lr_smote)\n",
    "print(f\"Accuracy Score: {accuracy_lr_smote*100:.2f}%\\n\")\n",
    "\n",
    "# Classification Report\n",
    "print(\"Classification Report:\")\n",
    "print(classification_report(y_test, y_pred_lr_smote))"
   ]
  },
  {
   "cell_type": "markdown",
   "id": "e5b5ec90",
   "metadata": {},
   "source": [
    "### 5.2. Decision Tree Classifier"
   ]
  },
  {
   "cell_type": "code",
   "execution_count": 17,
   "id": "2b0825fa",
   "metadata": {},
   "outputs": [
    {
     "name": "stdout",
     "output_type": "stream",
     "text": [
      "Melatih model Decision Tree setelah SMOTE...\n"
     ]
    },
    {
     "data": {
      "image/png": "[encoded data removed]",
      "text/plain": [
       "<Figure size 600x400 with 2 Axes>"
      ]
     },
     "metadata": {},
     "output_type": "display_data"
    },
    {
     "name": "stdout",
     "output_type": "stream",
     "text": [
      "Accuracy Score: 99.37%\n",
      "\n",
      "Classification Report:\n",
      "              precision    recall  f1-score   support\n",
      "\n",
      "           0       1.00      0.99      1.00    553574\n",
      "           1       0.34      0.70      0.46      2145\n",
      "\n",
      "    accuracy                           0.99    555719\n",
      "   macro avg       0.67      0.85      0.73    555719\n",
      "weighted avg       1.00      0.99      0.99    555719\n",
      "\n"
     ]
    }
   ],
   "source": [
    "# Latih model pada data yang telah diseimbangkan\n",
    "print(\"Melatih model Decision Tree setelah SMOTE...\")\n",
    "model_dt.fit(X_train_resampled, y_train_resampled)\n",
    "\n",
    "# Buat prediksi pada data uji yang SUDAH DIPROSES\n",
    "y_pred_dt_smote = model_dt.predict(X_test_processed)\n",
    "\n",
    "# Confusion matrix\n",
    "conf_matrix_dt_smote = confusion_matrix(y_test, y_pred_dt_smote)\n",
    "plt.figure(figsize=(6, 4))\n",
    "sns.heatmap(conf_matrix_dt_smote, annot=True, fmt='d', cmap='Greens')\n",
    "plt.title('Confusion Matrix - Decision Tree (Setelah SMOTE)')\n",
    "plt.xlabel('Predicted')\n",
    "plt.ylabel('Actual')\n",
    "plt.show()\n",
    "\n",
    "# Accuracy score\n",
    "accuracy_dt_smote = accuracy_score(y_test, y_pred_dt_smote)\n",
    "print(f\"Accuracy Score: {accuracy_dt_smote*100:.2f}%\\n\")\n",
    "\n",
    "# Classification report\n",
    "print(\"Classification Report:\")\n",
    "print(classification_report(y_test, y_pred_dt_smote))"
   ]
  },
  {
   "cell_type": "markdown",
   "id": "58e932fb",
   "metadata": {},
   "source": [
    "### 5.3. Random Forest Classifier"
   ]
  },
  {
   "cell_type": "code",
   "execution_count": 18,
   "id": "45d5d042",
   "metadata": {},
   "outputs": [
    {
     "name": "stdout",
     "output_type": "stream",
     "text": [
      "Melatih model Random Forest setelah SMOTE...\n"
     ]
    },
    {
     "data": {
      "image/png": "[encoded data removed]",
      "text/plain": [
       "<Figure size 600x400 with 2 Axes>"
      ]
     },
     "metadata": {},
     "output_type": "display_data"
    },
    {
     "name": "stdout",
     "output_type": "stream",
     "text": [
      "Accuracy Score: 99.74%\n",
      "\n",
      "Classification Report:\n",
      "              precision    recall  f1-score   support\n",
      "\n",
      "           0       1.00      1.00      1.00    553574\n",
      "           1       0.65      0.71      0.68      2145\n",
      "\n",
      "    accuracy                           1.00    555719\n",
      "   macro avg       0.82      0.85      0.84    555719\n",
      "weighted avg       1.00      1.00      1.00    555719\n",
      "\n"
     ]
    }
   ],
   "source": [
    "# Latih model pada data yang telah diseimbangkan\n",
    "print(\"Melatih model Random Forest setelah SMOTE...\")\n",
    "model_rf.fit(X_train_resampled, y_train_resampled)\n",
    "\n",
    "# Buat prediksi pada data uji yang SUDAH DIPROSES\n",
    "y_pred_rf_smote = model_rf.predict(X_test_processed)\n",
    "\n",
    "# Confusion matrix\n",
    "conf_matrix_rf_smote = confusion_matrix(y_test, y_pred_rf_smote)\n",
    "plt.figure(figsize=(6, 4))\n",
    "sns.heatmap(conf_matrix_rf_smote, annot=True, fmt='d', cmap='Oranges')\n",
    "plt.title('Confusion Matrix - Random Forest (Setelah SMOTE)')\n",
    "plt.xlabel('Predicted')\n",
    "plt.ylabel('Actual')\n",
    "plt.show()\n",
    "\n",
    "# Accuracy score\n",
    "accuracy_rf_smote = accuracy_score(y_test, y_pred_rf_smote)\n",
    "print(f\"Accuracy Score: {accuracy_rf_smote*100:.2f}%\\n\")\n",
    "\n",
    "# Classification report\n",
    "print(\"Classification Report:\")\n",
    "print(classification_report(y_test, y_pred_rf_smote))"
   ]
  },
  {
   "cell_type": "markdown",
   "id": "620066a4",
   "metadata": {},
   "source": [
    "### 5.4. K-Nearest Neighbors (KNN)"
   ]
  },
  {
   "cell_type": "code",
   "execution_count": 19,
   "id": "113d5d07",
   "metadata": {},
   "outputs": [
    {
     "name": "stdout",
     "output_type": "stream",
     "text": [
      "Melatih model K-Nearest Neighbors setelah SMOTE (proses ini akan sangat lambat)...\n",
      "Membuat prediksi dengan KNN setelah SMOTE (proses ini akan sangat lambat)...\n"
     ]
    },
    {
     "data": {
      "image/png": "[encoded data removed]",
      "text/plain": [
       "<Figure size 600x400 with 2 Axes>"
      ]
     },
     "metadata": {},
     "output_type": "display_data"
    },
    {
     "name": "stdout",
     "output_type": "stream",
     "text": [
      "Accuracy Score: 98.07%\n",
      "\n",
      "Classification Report:\n",
      "              precision    recall  f1-score   support\n",
      "\n",
      "           0       1.00      0.98      0.99    553574\n",
      "           1       0.12      0.60      0.19      2145\n",
      "\n",
      "    accuracy                           0.98    555719\n",
      "   macro avg       0.56      0.79      0.59    555719\n",
      "weighted avg       1.00      0.98      0.99    555719\n",
      "\n"
     ]
    }
   ],
   "source": [
    "# Latih model pada data yang telah diseimbangkan\n",
    "print(\"Melatih model K-Nearest Neighbors setelah SMOTE (proses ini akan sangat lambat)...\")\n",
    "model_knn.fit(X_train_resampled, y_train_resampled)\n",
    "\n",
    "# Buat prediksi pada data uji yang SUDAH DIPROSES\n",
    "print(\"Membuat prediksi dengan KNN setelah SMOTE (proses ini akan sangat lambat)...\")\n",
    "y_pred_knn_smote = model_knn.predict(X_test_processed)\n",
    "\n",
    "# Confusion matrix\n",
    "conf_matrix_knn_smote = confusion_matrix(y_test, y_pred_knn_smote)\n",
    "plt.figure(figsize=(6, 4))\n",
    "sns.heatmap(conf_matrix_knn_smote, annot=True, fmt='d', cmap='Purples')\n",
    "plt.title('Confusion Matrix - KNN (Setelah SMOTE)')\n",
    "plt.xlabel('Predicted')\n",
    "plt.ylabel('Actual')\n",
    "plt.show()\n",
    "\n",
    "# Accuracy score\n",
    "accuracy_knn_smote = accuracy_score(y_test, y_pred_knn_smote)\n",
    "print(f\"Accuracy Score: {accuracy_knn_smote*100:.2f}%\\n\")\n",
    "\n",
    "# Classification report\n",
    "print(\"Classification Report:\")\n",
    "print(classification_report(y_test, y_pred_knn_smote))"
   ]
  },
  {
   "cell_type": "markdown",
   "id": "0907a55c",
   "metadata": {},
   "source": [
    "### 5.5. LightGBM Classifier"
   ]
  },
  {
   "cell_type": "code",
   "execution_count": 20,
   "id": "2805466a",
   "metadata": {},
   "outputs": [
    {
     "name": "stdout",
     "output_type": "stream",
     "text": [
      "Melatih model LightGBM setelah SMOTE...\n",
      "[LightGBM] [Info] Number of positive: 1289169, number of negative: 1289169\n",
      "[LightGBM] [Info] Auto-choosing row-wise multi-threading, the overhead of testing was 0.025121 seconds.\n",
      "You can set `force_row_wise=true` to remove the overhead.\n",
      "And if memory is not enough, you can set `force_col_wise=true`.\n",
      "[LightGBM] [Info] Total Bins 2819\n",
      "[LightGBM] [Info] Number of data points in the train set: 2578338, number of used features: 13\n",
      "[LightGBM] [Info] [binary:BoostFromScore]: pavg=0.500000 -> initscore=0.000000\n"
     ]
    },
    {
     "data": {
      "image/png": "[encoded data removed]",
      "text/plain": [
       "<Figure size 600x400 with 2 Axes>"
      ]
     },
     "metadata": {},
     "output_type": "display_data"
    },
    {
     "name": "stdout",
     "output_type": "stream",
     "text": [
      "Accuracy Score: 99.71%\n",
      "\n",
      "Classification Report:\n",
      "              precision    recall  f1-score   support\n",
      "\n",
      "           0       1.00      1.00      1.00    553574\n",
      "           1       0.60      0.75      0.67      2145\n",
      "\n",
      "    accuracy                           1.00    555719\n",
      "   macro avg       0.80      0.88      0.83    555719\n",
      "weighted avg       1.00      1.00      1.00    555719\n",
      "\n"
     ]
    }
   ],
   "source": [
    "# Latih model pada data yang telah diseimbangkan\n",
    "print(\"Melatih model LightGBM setelah SMOTE...\")\n",
    "model_lgbm.fit(X_train_resampled, y_train_resampled)\n",
    "\n",
    "# Buat prediksi pada data uji yang SUDAH DIPROSES\n",
    "y_pred_lgbm_smote = model_lgbm.predict(X_test_processed)\n",
    "\n",
    "# Confusion matrix\n",
    "conf_matrix_lgbm_smote = confusion_matrix(y_test, y_pred_lgbm_smote)\n",
    "plt.figure(figsize=(6, 4))\n",
    "sns.heatmap(conf_matrix_lgbm_smote, annot=True, fmt='d', cmap='Reds')\n",
    "plt.title('Confusion Matrix - LightGBM (Setelah SMOTE)')\n",
    "plt.xlabel('Predicted')\n",
    "plt.ylabel('Actual')\n",
    "plt.show()\n",
    "\n",
    "# Accuracy score\n",
    "accuracy_lgbm_smote = accuracy_score(y_test, y_pred_lgbm_smote)\n",
    "print(f\"Accuracy Score: {accuracy_lgbm_smote*100:.2f}%\\n\")\n",
    "\n",
    "# Classification report\n",
    "print(\"Classification Report:\")\n",
    "print(classification_report(y_test, y_pred_lgbm_smote))"
   ]
  },
  {
   "cell_type": "markdown",
   "id": "9423d25d",
   "metadata": {},
   "source": [
    "## 6. Perbandingan Hasil dan Kesimpulan"
   ]
  },
  {
   "cell_type": "markdown",
   "id": "7dd25c1e",
   "metadata": {},
   "source": [
    "Sesuai langkah `Results & Evaluation`, semua hasil evaluasi digabungkan dan diurutkan berdasarkan F1-Score untuk mengidentifikasi model dan pendekatan terbaik."
   ]
  },
  {
   "cell_type": "code",
   "execution_count": 21,
   "id": "94460cd7",
   "metadata": {},
   "outputs": [
    {
     "name": "stdout",
     "output_type": "stream",
     "text": [
      "\n",
      "--- Tabel Matriks Evaluasi Model (Diurutkan Berdasarkan F1-Score) ---\n"
     ]
    },
    {
     "data": {
      "text/html": [
       "<style type=\"text/css\">\n",
       "</style>\n",
       "<table id=\"T_ec5ab\">\n",
       "  <thead>\n",
       "    <tr>\n",
       "      <th class=\"blank level0\" >&nbsp;</th>\n",
       "      <th id=\"T_ec5ab_level0_col0\" class=\"col_heading level0 col0\" >Model</th>\n",
       "      <th id=\"T_ec5ab_level0_col1\" class=\"col_heading level0 col1\" >Kondisi</th>\n",
       "      <th id=\"T_ec5ab_level0_col2\" class=\"col_heading level0 col2\" >Akurasi</th>\n",
       "      <th id=\"T_ec5ab_level0_col3\" class=\"col_heading level0 col3\" >Presisi</th>\n",
       "      <th id=\"T_ec5ab_level0_col4\" class=\"col_heading level0 col4\" >Recall</th>\n",
       "      <th id=\"T_ec5ab_level0_col5\" class=\"col_heading level0 col5\" >F1-Score</th>\n",
       "    </tr>\n",
       "  </thead>\n",
       "  <tbody>\n",
       "    <tr>\n",
       "      <th id=\"T_ec5ab_level0_row0\" class=\"row_heading level0 row0\" >2</th>\n",
       "      <td id=\"T_ec5ab_row0_col0\" class=\"data row0 col0\" >Random Forest</td>\n",
       "      <td id=\"T_ec5ab_row0_col1\" class=\"data row0 col1\" >Sebelum SMOTE</td>\n",
       "      <td id=\"T_ec5ab_row0_col2\" class=\"data row0 col2\" >1.00</td>\n",
       "      <td id=\"T_ec5ab_row0_col3\" class=\"data row0 col3\" >0.92</td>\n",
       "      <td id=\"T_ec5ab_row0_col4\" class=\"data row0 col4\" >0.61</td>\n",
       "      <td id=\"T_ec5ab_row0_col5\" class=\"data row0 col5\" >0.73</td>\n",
       "    </tr>\n",
       "    <tr>\n",
       "      <th id=\"T_ec5ab_level0_row1\" class=\"row_heading level0 row1\" >7</th>\n",
       "      <td id=\"T_ec5ab_row1_col0\" class=\"data row1 col0\" >Random Forest</td>\n",
       "      <td id=\"T_ec5ab_row1_col1\" class=\"data row1 col1\" >Setelah SMOTE</td>\n",
       "      <td id=\"T_ec5ab_row1_col2\" class=\"data row1 col2\" >1.00</td>\n",
       "      <td id=\"T_ec5ab_row1_col3\" class=\"data row1 col3\" >0.65</td>\n",
       "      <td id=\"T_ec5ab_row1_col4\" class=\"data row1 col4\" >0.71</td>\n",
       "      <td id=\"T_ec5ab_row1_col5\" class=\"data row1 col5\" >0.68</td>\n",
       "    </tr>\n",
       "    <tr>\n",
       "      <th id=\"T_ec5ab_level0_row2\" class=\"row_heading level0 row2\" >9</th>\n",
       "      <td id=\"T_ec5ab_row2_col0\" class=\"data row2 col0\" >LightGBM</td>\n",
       "      <td id=\"T_ec5ab_row2_col1\" class=\"data row2 col1\" >Setelah SMOTE</td>\n",
       "      <td id=\"T_ec5ab_row2_col2\" class=\"data row2 col2\" >1.00</td>\n",
       "      <td id=\"T_ec5ab_row2_col3\" class=\"data row2 col3\" >0.60</td>\n",
       "      <td id=\"T_ec5ab_row2_col4\" class=\"data row2 col4\" >0.75</td>\n",
       "      <td id=\"T_ec5ab_row2_col5\" class=\"data row2 col5\" >0.67</td>\n",
       "    </tr>\n",
       "    <tr>\n",
       "      <th id=\"T_ec5ab_level0_row3\" class=\"row_heading level0 row3\" >1</th>\n",
       "      <td id=\"T_ec5ab_row3_col0\" class=\"data row3 col0\" >Decision Tree</td>\n",
       "      <td id=\"T_ec5ab_row3_col1\" class=\"data row3 col1\" >Sebelum SMOTE</td>\n",
       "      <td id=\"T_ec5ab_row3_col2\" class=\"data row3 col2\" >1.00</td>\n",
       "      <td id=\"T_ec5ab_row3_col3\" class=\"data row3 col3\" >0.63</td>\n",
       "      <td id=\"T_ec5ab_row3_col4\" class=\"data row3 col4\" >0.69</td>\n",
       "      <td id=\"T_ec5ab_row3_col5\" class=\"data row3 col5\" >0.66</td>\n",
       "    </tr>\n",
       "    <tr>\n",
       "      <th id=\"T_ec5ab_level0_row4\" class=\"row_heading level0 row4\" >4</th>\n",
       "      <td id=\"T_ec5ab_row4_col0\" class=\"data row4 col0\" >LightGBM</td>\n",
       "      <td id=\"T_ec5ab_row4_col1\" class=\"data row4 col1\" >Sebelum SMOTE</td>\n",
       "      <td id=\"T_ec5ab_row4_col2\" class=\"data row4 col2\" >1.00</td>\n",
       "      <td id=\"T_ec5ab_row4_col3\" class=\"data row4 col3\" >0.66</td>\n",
       "      <td id=\"T_ec5ab_row4_col4\" class=\"data row4 col4\" >0.63</td>\n",
       "      <td id=\"T_ec5ab_row4_col5\" class=\"data row4 col5\" >0.64</td>\n",
       "    </tr>\n",
       "    <tr>\n",
       "      <th id=\"T_ec5ab_level0_row5\" class=\"row_heading level0 row5\" >6</th>\n",
       "      <td id=\"T_ec5ab_row5_col0\" class=\"data row5 col0\" >Decision Tree</td>\n",
       "      <td id=\"T_ec5ab_row5_col1\" class=\"data row5 col1\" >Setelah SMOTE</td>\n",
       "      <td id=\"T_ec5ab_row5_col2\" class=\"data row5 col2\" >0.99</td>\n",
       "      <td id=\"T_ec5ab_row5_col3\" class=\"data row5 col3\" >0.34</td>\n",
       "      <td id=\"T_ec5ab_row5_col4\" class=\"data row5 col4\" >0.70</td>\n",
       "      <td id=\"T_ec5ab_row5_col5\" class=\"data row5 col5\" >0.46</td>\n",
       "    </tr>\n",
       "    <tr>\n",
       "      <th id=\"T_ec5ab_level0_row6\" class=\"row_heading level0 row6\" >3</th>\n",
       "      <td id=\"T_ec5ab_row6_col0\" class=\"data row6 col0\" >K-Nearest Neighbors</td>\n",
       "      <td id=\"T_ec5ab_row6_col1\" class=\"data row6 col1\" >Sebelum SMOTE</td>\n",
       "      <td id=\"T_ec5ab_row6_col2\" class=\"data row6 col2\" >1.00</td>\n",
       "      <td id=\"T_ec5ab_row6_col3\" class=\"data row6 col3\" >0.65</td>\n",
       "      <td id=\"T_ec5ab_row6_col4\" class=\"data row6 col4\" >0.27</td>\n",
       "      <td id=\"T_ec5ab_row6_col5\" class=\"data row6 col5\" >0.39</td>\n",
       "    </tr>\n",
       "    <tr>\n",
       "      <th id=\"T_ec5ab_level0_row7\" class=\"row_heading level0 row7\" >8</th>\n",
       "      <td id=\"T_ec5ab_row7_col0\" class=\"data row7 col0\" >K-Nearest Neighbors</td>\n",
       "      <td id=\"T_ec5ab_row7_col1\" class=\"data row7 col1\" >Setelah SMOTE</td>\n",
       "      <td id=\"T_ec5ab_row7_col2\" class=\"data row7 col2\" >0.98</td>\n",
       "      <td id=\"T_ec5ab_row7_col3\" class=\"data row7 col3\" >0.12</td>\n",
       "      <td id=\"T_ec5ab_row7_col4\" class=\"data row7 col4\" >0.60</td>\n",
       "      <td id=\"T_ec5ab_row7_col5\" class=\"data row7 col5\" >0.19</td>\n",
       "    </tr>\n",
       "    <tr>\n",
       "      <th id=\"T_ec5ab_level0_row8\" class=\"row_heading level0 row8\" >5</th>\n",
       "      <td id=\"T_ec5ab_row8_col0\" class=\"data row8 col0\" >Logistic Regression</td>\n",
       "      <td id=\"T_ec5ab_row8_col1\" class=\"data row8 col1\" >Setelah SMOTE</td>\n",
       "      <td id=\"T_ec5ab_row8_col2\" class=\"data row8 col2\" >0.95</td>\n",
       "      <td id=\"T_ec5ab_row8_col3\" class=\"data row8 col3\" >0.06</td>\n",
       "      <td id=\"T_ec5ab_row8_col4\" class=\"data row8 col4\" >0.74</td>\n",
       "      <td id=\"T_ec5ab_row8_col5\" class=\"data row8 col5\" >0.11</td>\n",
       "    </tr>\n",
       "    <tr>\n",
       "      <th id=\"T_ec5ab_level0_row9\" class=\"row_heading level0 row9\" >0</th>\n",
       "      <td id=\"T_ec5ab_row9_col0\" class=\"data row9 col0\" >Logistic Regression</td>\n",
       "      <td id=\"T_ec5ab_row9_col1\" class=\"data row9 col1\" >Sebelum SMOTE</td>\n",
       "      <td id=\"T_ec5ab_row9_col2\" class=\"data row9 col2\" >1.00</td>\n",
       "      <td id=\"T_ec5ab_row9_col3\" class=\"data row9 col3\" >0.00</td>\n",
       "      <td id=\"T_ec5ab_row9_col4\" class=\"data row9 col4\" >0.00</td>\n",
       "      <td id=\"T_ec5ab_row9_col5\" class=\"data row9 col5\" >0.00</td>\n",
       "    </tr>\n",
       "  </tbody>\n",
       "</table>\n"
      ],
      "text/plain": [
       "<pandas.io.formats.style.Styler at 0x1d45dee2270>"
      ]
     },
     "metadata": {},
     "output_type": "display_data"
    }
   ],
   "source": [
    "# Membuat list hasil sebelum SMOTE\n",
    "baseline_results_list = [\n",
    "    {'Model': 'Logistic Regression', 'Kondisi': 'Sebelum SMOTE', 'Akurasi': accuracy_lr, 'Presisi': precision_score(y_test, y_pred_lr, zero_division=0), 'Recall': recall_score(y_test, y_pred_lr, zero_division=0), 'F1-Score': f1_score(y_test, y_pred_lr, zero_division=0)},\n",
    "    {'Model': 'Decision Tree', 'Kondisi': 'Sebelum SMOTE', 'Akurasi': accuracy_dt, 'Presisi': precision_score(y_test, y_pred_dt, zero_division=0), 'Recall': recall_score(y_test, y_pred_dt, zero_division=0), 'F1-Score': f1_score(y_test, y_pred_dt, zero_division=0)},\n",
    "    {'Model': 'Random Forest', 'Kondisi': 'Sebelum SMOTE', 'Akurasi': accuracy_rf, 'Presisi': precision_score(y_test, y_pred_rf, zero_division=0), 'Recall': recall_score(y_test, y_pred_rf, zero_division=0), 'F1-Score': f1_score(y_test, y_pred_rf, zero_division=0)},\n",
    "    {'Model': 'K-Nearest Neighbors', 'Kondisi': 'Sebelum SMOTE', 'Akurasi': accuracy_knn, 'Presisi': precision_score(y_test, y_pred_knn, zero_division=0), 'Recall': recall_score(y_test, y_pred_knn, zero_division=0), 'F1-Score': f1_score(y_test, y_pred_knn, zero_division=0)},\n",
    "    {'Model': 'LightGBM', 'Kondisi': 'Sebelum SMOTE', 'Akurasi': accuracy_lgbm, 'Presisi': precision_score(y_test, y_pred_lgbm, zero_division=0), 'Recall': recall_score(y_test, y_pred_lgbm, zero_division=0), 'F1-Score': f1_score(y_test, y_pred_lgbm, zero_division=0)}\n",
    "]\n",
    "\n",
    "# Membuat list hasil setelah SMOTE\n",
    "smote_results_list = [\n",
    "    {'Model': 'Logistic Regression', 'Kondisi': 'Setelah SMOTE', 'Akurasi': accuracy_lr_smote, 'Presisi': precision_score(y_test, y_pred_lr_smote, zero_division=0), 'Recall': recall_score(y_test, y_pred_lr_smote, zero_division=0), 'F1-Score': f1_score(y_test, y_pred_lr_smote, zero_division=0)},\n",
    "    {'Model': 'Decision Tree', 'Kondisi': 'Setelah SMOTE', 'Akurasi': accuracy_dt_smote, 'Presisi': precision_score(y_test, y_pred_dt_smote, zero_division=0), 'Recall': recall_score(y_test, y_pred_dt_smote, zero_division=0), 'F1-Score': f1_score(y_test, y_pred_dt_smote, zero_division=0)},\n",
    "    {'Model': 'Random Forest', 'Kondisi': 'Setelah SMOTE', 'Akurasi': accuracy_rf_smote, 'Presisi': precision_score(y_test, y_pred_rf_smote, zero_division=0), 'Recall': recall_score(y_test, y_pred_rf_smote, zero_division=0), 'F1-Score': f1_score(y_test, y_pred_rf_smote, zero_division=0)},\n",
    "    {'Model': 'K-Nearest Neighbors', 'Kondisi': 'Setelah SMOTE', 'Akurasi': accuracy_knn_smote, 'Presisi': precision_score(y_test, y_pred_knn_smote, zero_division=0), 'Recall': recall_score(y_test, y_pred_knn_smote, zero_division=0), 'F1-Score': f1_score(y_test, y_pred_knn_smote, zero_division=0)},\n",
    "    {'Model': 'LightGBM', 'Kondisi': 'Setelah SMOTE', 'Akurasi': accuracy_lgbm_smote, 'Presisi': precision_score(y_test, y_pred_lgbm_smote, zero_division=0), 'Recall': recall_score(y_test, y_pred_lgbm_smote, zero_division=0), 'F1-Score': f1_score(y_test, y_pred_lgbm_smote, zero_division=0)}\n",
    "]\n",
    "\n",
    "# Gabungkan hasil dan urutkan\n",
    "final_evaluation_df = pd.DataFrame(baseline_results_list + smote_results_list)\n",
    "final_evaluation_sorted = final_evaluation_df.sort_values(by='F1-Score', ascending=False)\n",
    "\n",
    "# Format nilai numerik menjadi dua desimal\n",
    "formatted_df = final_evaluation_sorted.style.format({\n",
    "    'Akurasi': '{:.2f}', 'Presisi': '{:.2f}', 'Recall': '{:.2f}', 'F1-Score': '{:.2f}'\n",
    "})\n",
    "\n",
    "print(\"\\n--- Tabel Matriks Evaluasi Model (Diurutkan Berdasarkan F1-Score) ---\")\n",
    "display(formatted_df)"
   ]
  },
  {
   "cell_type": "markdown",
   "id": "ebd6a11e",
   "metadata": {},
   "source": [
    "## 7. Analisis Mendalam pada Model Terbaik"
   ]
  },
  {
   "cell_type": "markdown",
   "id": "3bb2babc",
   "metadata": {},
   "source": [
    "Tahap ini merupakan bagian akhir dari `Results & Evaluation`. Model dengan performa terbaik akan dianalisis lebih lanjut, termasuk tingkat kepentingan fiturnya dan karakteristik transaksi yang diprediksi sebagai penipuan."
   ]
  },
  {
   "cell_type": "markdown",
   "id": "73460d98",
   "metadata": {},
   "source": [
    "### 7.1. Feature Importance"
   ]
  },
  {
   "cell_type": "markdown",
   "id": "8a9ac1de",
   "metadata": {},
   "source": [
    "Menganalisis fitur mana yang paling berpengaruh bagi model terbaik dalam membuat prediksi."
   ]
  },
  {
   "cell_type": "code",
   "execution_count": 22,
   "id": "a35ebfbc",
   "metadata": {},
   "outputs": [
    {
     "data": {
      "image/png": "[encoded data removed]",
      "text/plain": [
       "<Figure size 1000x800 with 1 Axes>"
      ]
     },
     "metadata": {},
     "output_type": "display_data"
    }
   ],
   "source": [
    "# Identifikasi model terbaik dari tabel evaluasi\n",
    "best_model_info = final_evaluation_sorted.iloc[0]\n",
    "best_model_name = best_model_info['Model']\n",
    "\n",
    "# Dictionary untuk memetakan nama model ke objek model\n",
    "all_models = {\n",
    "    'Logistic Regression': model_lr,\n",
    "    'Decision Tree': model_dt,\n",
    "    'Random Forest': model_rf,\n",
    "    'K-Nearest Neighbors': model_knn,\n",
    "    'LightGBM': model_lgbm\n",
    "}\n",
    "\n",
    "best_model_object = all_models[best_model_name]\n",
    "\n",
    "# Latih ulang model terbaik pada data SMOTE untuk mendapatkan feature importance yang relevan\n",
    "best_model_object.fit(X_train_resampled, y_train_resampled)\n",
    "\n",
    "# Ekstraksi dan visualisasi feature importance\n",
    "if hasattr(best_model_object, 'feature_importances_'):\n",
    "    importances = best_model_object.feature_importances_\n",
    "    feature_importance_df = pd.DataFrame({\n",
    "        'Feature': X_train.columns,\n",
    "        'Importance': importances\n",
    "    }).sort_values(by='Importance', ascending=False)\n",
    "\n",
    "    plt.figure(figsize=(10, 8))\n",
    "    sns.barplot(x='Importance', y='Feature', data=feature_importance_df.head(15), palette='viridis')\n",
    "    plt.title(f'Top 15 Feature Importance - {best_model_name}')\n",
    "    plt.show()\n",
    "else:\n",
    "    print(f\"Model {best_model_name} tidak mendukung feature importance secara langsung.\")"
   ]
  },
  {
   "cell_type": "markdown",
   "id": "ab4b3e92",
   "metadata": {},
   "source": [
    "### 7.2. Analisis Transaksi yang Diprediksi Penipuan"
   ]
  },
  {
   "cell_type": "markdown",
   "id": "283b18bf",
   "metadata": {},
   "source": [
    "Mengidentifikasi dan menganalisis karakteristik umum dari transaksi yang berhasil ditandai sebagai penipuan oleh model terbaik."
   ]
  },
  {
   "cell_type": "code",
   "execution_count": 24,
   "id": "28563148",
   "metadata": {},
   "outputs": [
    {
     "name": "stdout",
     "output_type": "stream",
     "text": [
      "\n",
      "Jumlah transaksi yang diprediksi sebagai penipuan: 2344\n",
      "Contoh data yang diprediksi sebagai penipuan:\n"
     ]
    },
    {
     "data": {
      "application/vnd.microsoft.datawrangler.viewer.v0+json": {
       "columns": [
        {
         "name": "index",
         "rawType": "int64",
         "type": "integer"
        },
        {
         "name": "Unnamed: 0",
         "rawType": "int64",
         "type": "integer"
        },
        {
         "name": "trans_date_trans_time",
         "rawType": "object",
         "type": "string"
        },
        {
         "name": "cc_num",
         "rawType": "int64",
         "type": "integer"
        },
        {
         "name": "merchant",
         "rawType": "object",
         "type": "string"
        },
        {
         "name": "category",
         "rawType": "object",
         "type": "string"
        },
        {
         "name": "amt",
         "rawType": "float64",
         "type": "float"
        },
        {
         "name": "first",
         "rawType": "object",
         "type": "string"
        },
        {
         "name": "last",
         "rawType": "object",
         "type": "string"
        },
        {
         "name": "gender",
         "rawType": "object",
         "type": "string"
        },
        {
         "name": "street",
         "rawType": "object",
         "type": "string"
        },
        {
         "name": "city",
         "rawType": "object",
         "type": "string"
        },
        {
         "name": "state",
         "rawType": "object",
         "type": "string"
        },
        {
         "name": "zip",
         "rawType": "int64",
         "type": "integer"
        },
        {
         "name": "lat",
         "rawType": "float64",
         "type": "float"
        },
        {
         "name": "long",
         "rawType": "float64",
         "type": "float"
        },
        {
         "name": "city_pop",
         "rawType": "int64",
         "type": "integer"
        },
        {
         "name": "job",
         "rawType": "object",
         "type": "string"
        },
        {
         "name": "dob",
         "rawType": "object",
         "type": "string"
        },
        {
         "name": "trans_num",
         "rawType": "object",
         "type": "string"
        },
        {
         "name": "unix_time",
         "rawType": "int64",
         "type": "integer"
        },
        {
         "name": "merch_lat",
         "rawType": "float64",
         "type": "float"
        },
        {
         "name": "merch_long",
         "rawType": "float64",
         "type": "float"
        },
        {
         "name": "is_fraud",
         "rawType": "int64",
         "type": "integer"
        },
        {
         "name": "predicted_is_fraud",
         "rawType": "int64",
         "type": "integer"
        }
       ],
       "ref": "a1273b0f-d193-4525-8450-e0d118f20d86",
       "rows": [
        [
         "1044",
         "1044",
         "2020-06-21 18:08:47",
         "4302480582202074",
         "fraud_Towne, Greenholt and Koepp",
         "shopping_net",
         "981.92",
         "David",
         "Rodriguez",
         "M",
         "821 Solis Points",
         "Muskegon",
         "MI",
         "49440",
         "43.2326",
         "-86.2492",
         "128715",
         "Historic buildings inspector/conservation officer",
         "1995-05-25",
         "3b1e799de5fa593a74b851b9d5f8bbe1",
         "1371838127",
         "43.849101",
         "-85.560458",
         "0",
         "1"
        ],
        [
         "1695",
         "1695",
         "2020-06-21 22:09:41",
         "4427805710168",
         "fraud_Lebsack and Sons",
         "misc_net",
         "890.22",
         "Michelle",
         "Rodriguez",
         "F",
         "1742 Brandon Squares Apt. 461",
         "Ruidoso",
         "NM",
         "88355",
         "33.3305",
         "-105.6933",
         "8874",
         "Licensed conveyancer",
         "2000-08-16",
         "670e9fd071e3745d6d90b5ee5f29c64c",
         "1371852581",
         "34.154798",
         "-106.551531",
         "0",
         "1"
        ],
        [
         "1767",
         "1767",
         "2020-06-21 22:32:22",
         "6564459919350820",
         "fraud_Rodriguez, Yost and Jenkins",
         "misc_net",
         "780.52",
         "Douglas",
         "Willis",
         "M",
         "619 Jeremy Garden Apt. 681",
         "Benton",
         "WI",
         "53803",
         "42.5545",
         "-90.3508",
         "1306",
         "Public relations officer",
         "1958-09-10",
         "ab4b379d2c0c9c667d46508d4e126d72",
         "1371853942",
         "42.461127000000005",
         "-91.147148",
         "1",
         "1"
        ],
        [
         "1781",
         "1781",
         "2020-06-21 22:37:27",
         "6564459919350820",
         "fraud_Nienow PLC",
         "entertainment",
         "620.33",
         "Douglas",
         "Willis",
         "M",
         "619 Jeremy Garden Apt. 681",
         "Benton",
         "WI",
         "53803",
         "42.5545",
         "-90.3508",
         "1306",
         "Public relations officer",
         "1958-09-10",
         "47a9987ae81d99f7832a54b29a77bf4b",
         "1371854247",
         "42.771834000000005",
         "-90.158365",
         "1",
         "1"
        ],
        [
         "1784",
         "1784",
         "2020-06-21 22:38:55",
         "4005676619255478",
         "fraud_Heathcote, Yost and Kertzmann",
         "shopping_net",
         "1077.69",
         "William",
         "Perry",
         "M",
         "458 Phillips Island Apt. 768",
         "Denham Springs",
         "LA",
         "70726",
         "30.459",
         "-90.9027",
         "71335",
         "Herbalist",
         "1994-05-31",
         "fe956c7e4a253c437c18918bf96f7b62",
         "1371854335",
         "31.204974",
         "-90.261595",
         "1",
         "1"
        ]
       ],
       "shape": {
        "columns": 24,
        "rows": 5
       }
      },
      "text/html": [
       "<div>\n",
       "<style scoped>\n",
       "    .dataframe tbody tr th:only-of-type {\n",
       "        vertical-align: middle;\n",
       "    }\n",
       "\n",
       "    .dataframe tbody tr th {\n",
       "        vertical-align: top;\n",
       "    }\n",
       "\n",
       "    .dataframe thead th {\n",
       "        text-align: right;\n",
       "    }\n",
       "</style>\n",
       "<table border=\"1\" class=\"dataframe\">\n",
       "  <thead>\n",
       "    <tr style=\"text-align: right;\">\n",
       "      <th></th>\n",
       "      <th>Unnamed: 0</th>\n",
       "      <th>trans_date_trans_time</th>\n",
       "      <th>cc_num</th>\n",
       "      <th>merchant</th>\n",
       "      <th>category</th>\n",
       "      <th>amt</th>\n",
       "      <th>first</th>\n",
       "      <th>last</th>\n",
       "      <th>gender</th>\n",
       "      <th>street</th>\n",
       "      <th>...</th>\n",
       "      <th>long</th>\n",
       "      <th>city_pop</th>\n",
       "      <th>job</th>\n",
       "      <th>dob</th>\n",
       "      <th>trans_num</th>\n",
       "      <th>unix_time</th>\n",
       "      <th>merch_lat</th>\n",
       "      <th>merch_long</th>\n",
       "      <th>is_fraud</th>\n",
       "      <th>predicted_is_fraud</th>\n",
       "    </tr>\n",
       "  </thead>\n",
       "  <tbody>\n",
       "    <tr>\n",
       "      <th>1044</th>\n",
       "      <td>1044</td>\n",
       "      <td>2020-06-21 18:08:47</td>\n",
       "      <td>4302480582202074</td>\n",
       "      <td>fraud_Towne, Greenholt and Koepp</td>\n",
       "      <td>shopping_net</td>\n",
       "      <td>981.92</td>\n",
       "      <td>David</td>\n",
       "      <td>Rodriguez</td>\n",
       "      <td>M</td>\n",
       "      <td>821 Solis Points</td>\n",
       "      <td>...</td>\n",
       "      <td>-86.2492</td>\n",
       "      <td>128715</td>\n",
       "      <td>Historic buildings inspector/conservation officer</td>\n",
       "      <td>1995-05-25</td>\n",
       "      <td>3b1e799de5fa593a74b851b9d5f8bbe1</td>\n",
       "      <td>1371838127</td>\n",
       "      <td>43.849101</td>\n",
       "      <td>-85.560458</td>\n",
       "      <td>0</td>\n",
       "      <td>1</td>\n",
       "    </tr>\n",
       "    <tr>\n",
       "      <th>1695</th>\n",
       "      <td>1695</td>\n",
       "      <td>2020-06-21 22:09:41</td>\n",
       "      <td>4427805710168</td>\n",
       "      <td>fraud_Lebsack and Sons</td>\n",
       "      <td>misc_net</td>\n",
       "      <td>890.22</td>\n",
       "      <td>Michelle</td>\n",
       "      <td>Rodriguez</td>\n",
       "      <td>F</td>\n",
       "      <td>1742 Brandon Squares Apt. 461</td>\n",
       "      <td>...</td>\n",
       "      <td>-105.6933</td>\n",
       "      <td>8874</td>\n",
       "      <td>Licensed conveyancer</td>\n",
       "      <td>2000-08-16</td>\n",
       "      <td>670e9fd071e3745d6d90b5ee5f29c64c</td>\n",
       "      <td>1371852581</td>\n",
       "      <td>34.154798</td>\n",
       "      <td>-106.551531</td>\n",
       "      <td>0</td>\n",
       "      <td>1</td>\n",
       "    </tr>\n",
       "    <tr>\n",
       "      <th>1767</th>\n",
       "      <td>1767</td>\n",
       "      <td>2020-06-21 22:32:22</td>\n",
       "      <td>6564459919350820</td>\n",
       "      <td>fraud_Rodriguez, Yost and Jenkins</td>\n",
       "      <td>misc_net</td>\n",
       "      <td>780.52</td>\n",
       "      <td>Douglas</td>\n",
       "      <td>Willis</td>\n",
       "      <td>M</td>\n",
       "      <td>619 Jeremy Garden Apt. 681</td>\n",
       "      <td>...</td>\n",
       "      <td>-90.3508</td>\n",
       "      <td>1306</td>\n",
       "      <td>Public relations officer</td>\n",
       "      <td>1958-09-10</td>\n",
       "      <td>ab4b379d2c0c9c667d46508d4e126d72</td>\n",
       "      <td>1371853942</td>\n",
       "      <td>42.461127</td>\n",
       "      <td>-91.147148</td>\n",
       "      <td>1</td>\n",
       "      <td>1</td>\n",
       "    </tr>\n",
       "    <tr>\n",
       "      <th>1781</th>\n",
       "      <td>1781</td>\n",
       "      <td>2020-06-21 22:37:27</td>\n",
       "      <td>6564459919350820</td>\n",
       "      <td>fraud_Nienow PLC</td>\n",
       "      <td>entertainment</td>\n",
       "      <td>620.33</td>\n",
       "      <td>Douglas</td>\n",
       "      <td>Willis</td>\n",
       "      <td>M</td>\n",
       "      <td>619 Jeremy Garden Apt. 681</td>\n",
       "      <td>...</td>\n",
       "      <td>-90.3508</td>\n",
       "      <td>1306</td>\n",
       "      <td>Public relations officer</td>\n",
       "      <td>1958-09-10</td>\n",
       "      <td>47a9987ae81d99f7832a54b29a77bf4b</td>\n",
       "      <td>1371854247</td>\n",
       "      <td>42.771834</td>\n",
       "      <td>-90.158365</td>\n",
       "      <td>1</td>\n",
       "      <td>1</td>\n",
       "    </tr>\n",
       "    <tr>\n",
       "      <th>1784</th>\n",
       "      <td>1784</td>\n",
       "      <td>2020-06-21 22:38:55</td>\n",
       "      <td>4005676619255478</td>\n",
       "      <td>fraud_Heathcote, Yost and Kertzmann</td>\n",
       "      <td>shopping_net</td>\n",
       "      <td>1077.69</td>\n",
       "      <td>William</td>\n",
       "      <td>Perry</td>\n",
       "      <td>M</td>\n",
       "      <td>458 Phillips Island Apt. 768</td>\n",
       "      <td>...</td>\n",
       "      <td>-90.9027</td>\n",
       "      <td>71335</td>\n",
       "      <td>Herbalist</td>\n",
       "      <td>1994-05-31</td>\n",
       "      <td>fe956c7e4a253c437c18918bf96f7b62</td>\n",
       "      <td>1371854335</td>\n",
       "      <td>31.204974</td>\n",
       "      <td>-90.261595</td>\n",
       "      <td>1</td>\n",
       "      <td>1</td>\n",
       "    </tr>\n",
       "  </tbody>\n",
       "</table>\n",
       "<p>5 rows × 24 columns</p>\n",
       "</div>"
      ],
      "text/plain": [
       "      Unnamed: 0 trans_date_trans_time            cc_num  \\\n",
       "1044        1044   2020-06-21 18:08:47  4302480582202074   \n",
       "1695        1695   2020-06-21 22:09:41     4427805710168   \n",
       "1767        1767   2020-06-21 22:32:22  6564459919350820   \n",
       "1781        1781   2020-06-21 22:37:27  6564459919350820   \n",
       "1784        1784   2020-06-21 22:38:55  4005676619255478   \n",
       "\n",
       "                                 merchant       category      amt     first  \\\n",
       "1044     fraud_Towne, Greenholt and Koepp   shopping_net   981.92     David   \n",
       "1695               fraud_Lebsack and Sons       misc_net   890.22  Michelle   \n",
       "1767    fraud_Rodriguez, Yost and Jenkins       misc_net   780.52   Douglas   \n",
       "1781                     fraud_Nienow PLC  entertainment   620.33   Douglas   \n",
       "1784  fraud_Heathcote, Yost and Kertzmann   shopping_net  1077.69   William   \n",
       "\n",
       "           last gender                         street  ...      long city_pop  \\\n",
       "1044  Rodriguez      M               821 Solis Points  ...  -86.2492   128715   \n",
       "1695  Rodriguez      F  1742 Brandon Squares Apt. 461  ... -105.6933     8874   \n",
       "1767     Willis      M     619 Jeremy Garden Apt. 681  ...  -90.3508     1306   \n",
       "1781     Willis      M     619 Jeremy Garden Apt. 681  ...  -90.3508     1306   \n",
       "1784      Perry      M   458 Phillips Island Apt. 768  ...  -90.9027    71335   \n",
       "\n",
       "                                                    job         dob  \\\n",
       "1044  Historic buildings inspector/conservation officer  1995-05-25   \n",
       "1695                               Licensed conveyancer  2000-08-16   \n",
       "1767                           Public relations officer  1958-09-10   \n",
       "1781                           Public relations officer  1958-09-10   \n",
       "1784                                          Herbalist  1994-05-31   \n",
       "\n",
       "                             trans_num   unix_time  merch_lat  merch_long  \\\n",
       "1044  3b1e799de5fa593a74b851b9d5f8bbe1  1371838127  43.849101  -85.560458   \n",
       "1695  670e9fd071e3745d6d90b5ee5f29c64c  1371852581  34.154798 -106.551531   \n",
       "1767  ab4b379d2c0c9c667d46508d4e126d72  1371853942  42.461127  -91.147148   \n",
       "1781  47a9987ae81d99f7832a54b29a77bf4b  1371854247  42.771834  -90.158365   \n",
       "1784  fe956c7e4a253c437c18918bf96f7b62  1371854335  31.204974  -90.261595   \n",
       "\n",
       "     is_fraud  predicted_is_fraud  \n",
       "1044        0                   1  \n",
       "1695        0                   1  \n",
       "1767        1                   1  \n",
       "1781        1                   1  \n",
       "1784        1                   1  \n",
       "\n",
       "[5 rows x 24 columns]"
      ]
     },
     "metadata": {},
     "output_type": "display_data"
    },
    {
     "name": "stdout",
     "output_type": "stream",
     "text": [
      "\n",
      "Data penipuan yang diprediksi berhasil disimpan ke 'predicted_fraud_records.csv'\n"
     ]
    },
    {
     "data": {
      "image/png": "[encoded data removed]",
      "text/plain": [
       "<Figure size 1200x600 with 1 Axes>"
      ]
     },
     "metadata": {},
     "output_type": "display_data"
    },
    {
     "data": {
      "image/png": "[encoded data removed]",
      "text/plain": [
       "<Figure size 800x600 with 1 Axes>"
      ]
     },
     "metadata": {},
     "output_type": "display_data"
    }
   ],
   "source": [
    "# Membuat prediksi dengan model terbaik pada data uji yang SUDAH DIPROSES\n",
    "y_pred_best = best_model_object.predict(X_test_processed)\n",
    "\n",
    "# Menambahkan hasil prediksi ke data uji asli untuk interpretasi\n",
    "test_data_with_pred = test_data.copy()\n",
    "test_data_with_pred['predicted_is_fraud'] = y_pred_best\n",
    "\n",
    "# Filter dan tampilkan data yang diprediksi sebagai penipuan\n",
    "predicted_fraud_records = test_data_with_pred[test_data_with_pred['predicted_is_fraud'] == 1]\n",
    "\n",
    "print(f\"\\nJumlah transaksi yang diprediksi sebagai penipuan: {len(predicted_fraud_records)}\")\n",
    "print(\"Contoh data yang diprediksi sebagai penipuan:\")\n",
    "display(predicted_fraud_records.head())\n",
    "\n",
    "# Menyimpan hasil ke file CSV\n",
    "predicted_fraud_records.to_csv('predicted_fraud_records.csv', index=False)\n",
    "print(\"\\nData penipuan yang diprediksi berhasil disimpan ke 'predicted_fraud_records.csv'\")\n",
    "\n",
    "# Visualisasi Top Merchant terkait penipuan\n",
    "plt.figure(figsize=(12, 6))\n",
    "sns.countplot(data=predicted_fraud_records, y='merchant', order=predicted_fraud_records['merchant'].value_counts().index[:10], palette='inferno')\n",
    "plt.title('Top 10 Merchant dengan Prediksi Transaksi Penipuan')\n",
    "plt.xlabel('Jumlah Transaksi Penipuan')\n",
    "plt.ylabel('Merchant')\n",
    "plt.show()\n",
    "\n",
    "# Visualisasi Distribusi Nominal Transaksi Penipuan\n",
    "plt.figure(figsize=(8, 6))\n",
    "sns.histplot(data=predicted_fraud_records, x='amt', bins=30, kde=True, log_scale=True)\n",
    "plt.title('Distribusi Nominal Transaksi yang Diprediksi Penipuan')\n",
    "plt.xlabel('Jumlah Transaksi (Skala Log)')\n",
    "plt.ylabel('Frekuensi')\n",
    "plt.show()"
   ]
  }
 ],
 "metadata": {
  "kernelspec": {
   "display_name": "Python 3",
   "language": "python",
   "name": "python3"
  },
  "language_info": {
   "codemirror_mode": {
    "name": "ipython",
    "version": 3
   },
   "file_extension": ".py",
   "mimetype": "text/x-python",
   "name": "python",
   "nbconvert_exporter": "python",
   "pygments_lexer": "ipython3",
   "version": "3.13.3"
  }
 },
 "nbformat": 4,
 "nbformat_minor": 5
}
